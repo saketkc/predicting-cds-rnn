{
 "cells": [
  {
   "cell_type": "code",
   "execution_count": 62,
   "metadata": {
    "ExecuteTime": {
     "end_time": "2017-11-28T01:02:18.666538Z",
     "start_time": "2017-11-28T01:02:18.475430Z"
    }
   },
   "outputs": [
    {
     "name": "stdout",
     "output_type": "stream",
     "text": [
      "Populating the interactive namespace from numpy and matplotlib\n"
     ]
    }
   ],
   "source": [
    "%pylab inline\n",
    "import pandas as pd\n",
    "human_orthology = pd.read_table('/home/cmb-panasas2/skchoudh/genomes/ensemble_orthology/human-mouse/human_query.tsv').set_index('ensembl_gene_id')\n",
    "mouse_orthology = pd.read_table('/home/cmb-panasas2/skchoudh/genomes/ensemble_orthology/human-mouse/mouse_query.tsv').set_index('ensembl_gene_id')"
   ]
  },
  {
   "cell_type": "code",
   "execution_count": 56,
   "metadata": {
    "ExecuteTime": {
     "end_time": "2017-11-28T00:53:55.654242Z",
     "start_time": "2017-11-28T00:53:55.590185Z"
    }
   },
   "outputs": [
    {
     "data": {
      "text/html": [
       "<div>\n",
       "<style scoped>\n",
       "    .dataframe tbody tr th:only-of-type {\n",
       "        vertical-align: middle;\n",
       "    }\n",
       "\n",
       "    .dataframe tbody tr th {\n",
       "        vertical-align: top;\n",
       "    }\n",
       "\n",
       "    .dataframe thead th {\n",
       "        text-align: right;\n",
       "    }\n",
       "</style>\n",
       "<table border=\"1\" class=\"dataframe\">\n",
       "  <thead>\n",
       "    <tr style=\"text-align: right;\">\n",
       "      <th></th>\n",
       "      <th>hsapiens_homolog_ensembl_gene</th>\n",
       "      <th>hsapiens_homolog_perc_id_r1</th>\n",
       "      <th>hsapiens_homolog_orthology_type</th>\n",
       "      <th>hsapiens_homolog_subtype</th>\n",
       "      <th>hsapiens_homolog_perc_id</th>\n",
       "    </tr>\n",
       "    <tr>\n",
       "      <th>ensembl_gene_id</th>\n",
       "      <th></th>\n",
       "      <th></th>\n",
       "      <th></th>\n",
       "      <th></th>\n",
       "      <th></th>\n",
       "    </tr>\n",
       "  </thead>\n",
       "  <tbody>\n",
       "    <tr>\n",
       "      <th>ENSMUSG00000064370</th>\n",
       "      <td>ENSG00000198727</td>\n",
       "      <td>78.1579</td>\n",
       "      <td>ortholog_one2one</td>\n",
       "      <td>Eutheria</td>\n",
       "      <td>77.9528</td>\n",
       "    </tr>\n",
       "    <tr>\n",
       "      <th>ENSMUSG00000064368</th>\n",
       "      <td>ENSG00000198695</td>\n",
       "      <td>52.2989</td>\n",
       "      <td>ortholog_one2one</td>\n",
       "      <td>Boreoeutheria</td>\n",
       "      <td>52.9070</td>\n",
       "    </tr>\n",
       "    <tr>\n",
       "      <th>ENSMUSG00000064367</th>\n",
       "      <td>ENSG00000198786</td>\n",
       "      <td>63.8474</td>\n",
       "      <td>ortholog_one2many</td>\n",
       "      <td>Eutheria</td>\n",
       "      <td>63.4267</td>\n",
       "    </tr>\n",
       "    <tr>\n",
       "      <th>ENSMUSG00000064363</th>\n",
       "      <td>ENSG00000198886</td>\n",
       "      <td>66.8845</td>\n",
       "      <td>ortholog_one2one</td>\n",
       "      <td>Eutheria</td>\n",
       "      <td>66.8845</td>\n",
       "    </tr>\n",
       "    <tr>\n",
       "      <th>ENSMUSG00000065947</th>\n",
       "      <td>ENSG00000212907</td>\n",
       "      <td>66.3265</td>\n",
       "      <td>ortholog_one2one</td>\n",
       "      <td>Eutheria</td>\n",
       "      <td>66.3265</td>\n",
       "    </tr>\n",
       "    <tr>\n",
       "      <th>ENSMUSG00000064360</th>\n",
       "      <td>ENSG00000198840</td>\n",
       "      <td>66.0870</td>\n",
       "      <td>ortholog_one2one</td>\n",
       "      <td>Eutheria</td>\n",
       "      <td>66.0870</td>\n",
       "    </tr>\n",
       "    <tr>\n",
       "      <th>ENSMUSG00000064358</th>\n",
       "      <td>ENSG00000198938</td>\n",
       "      <td>86.9732</td>\n",
       "      <td>ortholog_one2one</td>\n",
       "      <td>Euarchontoglires</td>\n",
       "      <td>86.9732</td>\n",
       "    </tr>\n",
       "    <tr>\n",
       "      <th>ENSMUSG00000064357</th>\n",
       "      <td>ENSG00000198899</td>\n",
       "      <td>75.6637</td>\n",
       "      <td>ortholog_one2one</td>\n",
       "      <td>Eutheria</td>\n",
       "      <td>75.6637</td>\n",
       "    </tr>\n",
       "    <tr>\n",
       "      <th>ENSMUSG00000064356</th>\n",
       "      <td>ENSG00000228253</td>\n",
       "      <td>45.5882</td>\n",
       "      <td>ortholog_one2one</td>\n",
       "      <td>Euarchontoglires</td>\n",
       "      <td>46.2687</td>\n",
       "    </tr>\n",
       "    <tr>\n",
       "      <th>ENSMUSG00000064354</th>\n",
       "      <td>ENSG00000198712</td>\n",
       "      <td>71.3656</td>\n",
       "      <td>ortholog_one2one</td>\n",
       "      <td>Mammalia</td>\n",
       "      <td>71.3656</td>\n",
       "    </tr>\n",
       "    <tr>\n",
       "      <th>ENSMUSG00000064351</th>\n",
       "      <td>ENSG00000198804</td>\n",
       "      <td>90.8382</td>\n",
       "      <td>ortholog_one2one</td>\n",
       "      <td>Eutheria</td>\n",
       "      <td>90.6615</td>\n",
       "    </tr>\n",
       "    <tr>\n",
       "      <th>ENSMUSG00000064345</th>\n",
       "      <td>ENSG00000198763</td>\n",
       "      <td>57.0605</td>\n",
       "      <td>ortholog_one2one</td>\n",
       "      <td>Euarchontoglires</td>\n",
       "      <td>57.3913</td>\n",
       "    </tr>\n",
       "    <tr>\n",
       "      <th>ENSMUSG00000064341</th>\n",
       "      <td>ENSG00000198888</td>\n",
       "      <td>77.0440</td>\n",
       "      <td>ortholog_one2one</td>\n",
       "      <td>Euarchontoglires</td>\n",
       "      <td>77.0440</td>\n",
       "    </tr>\n",
       "    <tr>\n",
       "      <th>ENSMUSG00000084609</th>\n",
       "      <td>ENSG00000199801</td>\n",
       "      <td>65.1376</td>\n",
       "      <td>ortholog_one2one</td>\n",
       "      <td>Eutheria</td>\n",
       "      <td>56.3492</td>\n",
       "    </tr>\n",
       "    <tr>\n",
       "      <th>ENSMUSG00000087716</th>\n",
       "      <td>ENSG00000281394</td>\n",
       "      <td>59.6899</td>\n",
       "      <td>ortholog_many2many</td>\n",
       "      <td>Eutheria</td>\n",
       "      <td>62.0968</td>\n",
       "    </tr>\n",
       "    <tr>\n",
       "      <th>ENSMUSG00000087716</th>\n",
       "      <td>ENSG00000281516</td>\n",
       "      <td>57.7236</td>\n",
       "      <td>ortholog_many2many</td>\n",
       "      <td>Eutheria</td>\n",
       "      <td>57.2581</td>\n",
       "    </tr>\n",
       "    <tr>\n",
       "      <th>ENSMUSG00000021366</th>\n",
       "      <td>ENSG00000095951</td>\n",
       "      <td>70.7873</td>\n",
       "      <td>ortholog_one2one</td>\n",
       "      <td>Euarchontoglires</td>\n",
       "      <td>71.5774</td>\n",
       "    </tr>\n",
       "    <tr>\n",
       "      <th>ENSMUSG00000089117</th>\n",
       "      <td>ENSG00000252031</td>\n",
       "      <td>63.7255</td>\n",
       "      <td>ortholog_one2many</td>\n",
       "      <td>Eutheria</td>\n",
       "      <td>63.1068</td>\n",
       "    </tr>\n",
       "    <tr>\n",
       "      <th>ENSMUSG00000084532</th>\n",
       "      <td>ENSG00000252964</td>\n",
       "      <td>55.8559</td>\n",
       "      <td>ortholog_one2one</td>\n",
       "      <td>Eutheria</td>\n",
       "      <td>56.8807</td>\n",
       "    </tr>\n",
       "    <tr>\n",
       "      <th>ENSMUSG00000094935</th>\n",
       "      <td>ENSG00000163155</td>\n",
       "      <td>84.1410</td>\n",
       "      <td>ortholog_one2many</td>\n",
       "      <td>Eutheria</td>\n",
       "      <td>84.5133</td>\n",
       "    </tr>\n",
       "    <tr>\n",
       "      <th>ENSMUSG00000064455</th>\n",
       "      <td>ENSG00000199837</td>\n",
       "      <td>66.6667</td>\n",
       "      <td>ortholog_one2one</td>\n",
       "      <td>Eutheria</td>\n",
       "      <td>80.0000</td>\n",
       "    </tr>\n",
       "    <tr>\n",
       "      <th>ENSMUSG00000048612</th>\n",
       "      <td>ENSG00000138119</td>\n",
       "      <td>93.4013</td>\n",
       "      <td>ortholog_one2one</td>\n",
       "      <td>Euarchontoglires</td>\n",
       "      <td>93.9941</td>\n",
       "    </tr>\n",
       "    <tr>\n",
       "      <th>ENSMUSG00000099291</th>\n",
       "      <td>ENSG00000199927</td>\n",
       "      <td>80.1843</td>\n",
       "      <td>ortholog_many2many</td>\n",
       "      <td>Eutheria</td>\n",
       "      <td>80.5556</td>\n",
       "    </tr>\n",
       "    <tr>\n",
       "      <th>ENSMUSG00000099291</th>\n",
       "      <td>ENSG00000277947</td>\n",
       "      <td>83.4862</td>\n",
       "      <td>ortholog_many2many</td>\n",
       "      <td>Eutheria</td>\n",
       "      <td>84.2593</td>\n",
       "    </tr>\n",
       "    <tr>\n",
       "      <th>ENSMUSG00000077413</th>\n",
       "      <td>ENSG00000212611</td>\n",
       "      <td>65.7143</td>\n",
       "      <td>ortholog_one2one</td>\n",
       "      <td>Eutheria</td>\n",
       "      <td>66.6667</td>\n",
       "    </tr>\n",
       "    <tr>\n",
       "      <th>ENSMUSG00000089597</th>\n",
       "      <td>ENSG00000212237</td>\n",
       "      <td>52.8926</td>\n",
       "      <td>ortholog_one2one</td>\n",
       "      <td>Eutheria</td>\n",
       "      <td>47.4074</td>\n",
       "    </tr>\n",
       "    <tr>\n",
       "      <th>ENSMUSG00000080486</th>\n",
       "      <td>ENSG00000221500</td>\n",
       "      <td>81.5789</td>\n",
       "      <td>ortholog_one2one</td>\n",
       "      <td>Eutheria</td>\n",
       "      <td>83.7838</td>\n",
       "    </tr>\n",
       "    <tr>\n",
       "      <th>ENSMUSG00000084478</th>\n",
       "      <td>ENSG00000273744</td>\n",
       "      <td>67.8161</td>\n",
       "      <td>ortholog_one2one</td>\n",
       "      <td>Eutheria</td>\n",
       "      <td>71.9512</td>\n",
       "    </tr>\n",
       "    <tr>\n",
       "      <th>ENSMUSG00000049521</th>\n",
       "      <td>ENSG00000128283</td>\n",
       "      <td>73.1458</td>\n",
       "      <td>ortholog_one2one</td>\n",
       "      <td>Euarchontoglires</td>\n",
       "      <td>69.9267</td>\n",
       "    </tr>\n",
       "    <tr>\n",
       "      <th>ENSMUSG00000088709</th>\n",
       "      <td>ENSG00000252087</td>\n",
       "      <td>41.3115</td>\n",
       "      <td>ortholog_one2many</td>\n",
       "      <td>Theria</td>\n",
       "      <td>40.0000</td>\n",
       "    </tr>\n",
       "    <tr>\n",
       "      <th>...</th>\n",
       "      <td>...</td>\n",
       "      <td>...</td>\n",
       "      <td>...</td>\n",
       "      <td>...</td>\n",
       "      <td>...</td>\n",
       "    </tr>\n",
       "    <tr>\n",
       "      <th>ENSMUSG00000027953</th>\n",
       "      <td>ENSG00000169241</td>\n",
       "      <td>79.6380</td>\n",
       "      <td>ortholog_one2one</td>\n",
       "      <td>Eutheria</td>\n",
       "      <td>79.6380</td>\n",
       "    </tr>\n",
       "    <tr>\n",
       "      <th>ENSMUSG00000026650</th>\n",
       "      <td>ENSG00000197889</td>\n",
       "      <td>87.5000</td>\n",
       "      <td>ortholog_one2one</td>\n",
       "      <td>Eutheria</td>\n",
       "      <td>87.5000</td>\n",
       "    </tr>\n",
       "    <tr>\n",
       "      <th>ENSMUSG00000007617</th>\n",
       "      <td>ENSG00000152413</td>\n",
       "      <td>98.0226</td>\n",
       "      <td>ortholog_one2one</td>\n",
       "      <td>Eutheria</td>\n",
       "      <td>93.7838</td>\n",
       "    </tr>\n",
       "    <tr>\n",
       "      <th>ENSMUSG00000032633</th>\n",
       "      <td>ENSG00000154803</td>\n",
       "      <td>92.5734</td>\n",
       "      <td>ortholog_one2many</td>\n",
       "      <td>Euarchontoglires</td>\n",
       "      <td>92.5734</td>\n",
       "    </tr>\n",
       "    <tr>\n",
       "      <th>ENSMUSG00000032633</th>\n",
       "      <td>ENSG00000264187</td>\n",
       "      <td>66.3158</td>\n",
       "      <td>ortholog_one2many</td>\n",
       "      <td>Euarchontoglires</td>\n",
       "      <td>10.8808</td>\n",
       "    </tr>\n",
       "    <tr>\n",
       "      <th>ENSMUSG00000029372</th>\n",
       "      <td>ENSG00000163736</td>\n",
       "      <td>36.7188</td>\n",
       "      <td>ortholog_one2one</td>\n",
       "      <td>Eutheria</td>\n",
       "      <td>41.5929</td>\n",
       "    </tr>\n",
       "    <tr>\n",
       "      <th>ENSMUSG00000031535</th>\n",
       "      <td>ENSG00000104371</td>\n",
       "      <td>75.0000</td>\n",
       "      <td>ortholog_one2one</td>\n",
       "      <td>Eutheria</td>\n",
       "      <td>76.0181</td>\n",
       "    </tr>\n",
       "    <tr>\n",
       "      <th>ENSMUSG00000042675</th>\n",
       "      <td>ENSG00000090238</td>\n",
       "      <td>75.7962</td>\n",
       "      <td>ortholog_one2one</td>\n",
       "      <td>Boreoeutheria</td>\n",
       "      <td>100.0000</td>\n",
       "    </tr>\n",
       "    <tr>\n",
       "      <th>ENSMUSG00000022427</th>\n",
       "      <td>ENSG00000100216</td>\n",
       "      <td>94.3662</td>\n",
       "      <td>ortholog_one2one</td>\n",
       "      <td>Euarchontoglires</td>\n",
       "      <td>94.3662</td>\n",
       "    </tr>\n",
       "    <tr>\n",
       "      <th>ENSMUSG00000022436</th>\n",
       "      <td>ENSG00000100092</td>\n",
       "      <td>69.4722</td>\n",
       "      <td>ortholog_one2one</td>\n",
       "      <td>Euarchontoglires</td>\n",
       "      <td>83.6770</td>\n",
       "    </tr>\n",
       "    <tr>\n",
       "      <th>ENSMUSG00000051359</th>\n",
       "      <td>ENSG00000104490</td>\n",
       "      <td>100.0000</td>\n",
       "      <td>ortholog_one2one</td>\n",
       "      <td>Eutheria</td>\n",
       "      <td>100.0000</td>\n",
       "    </tr>\n",
       "    <tr>\n",
       "      <th>ENSMUSG00000031429</th>\n",
       "      <td>ENSG00000101843</td>\n",
       "      <td>93.8053</td>\n",
       "      <td>ortholog_one2one</td>\n",
       "      <td>Eutheria</td>\n",
       "      <td>91.7749</td>\n",
       "    </tr>\n",
       "    <tr>\n",
       "      <th>ENSMUSG00000023216</th>\n",
       "      <td>ENSG00000166947</td>\n",
       "      <td>70.0416</td>\n",
       "      <td>ortholog_one2one</td>\n",
       "      <td>Euarchontoglires</td>\n",
       "      <td>73.0825</td>\n",
       "    </tr>\n",
       "    <tr>\n",
       "      <th>ENSMUSG00000020903</th>\n",
       "      <td>ENSG00000170310</td>\n",
       "      <td>92.7966</td>\n",
       "      <td>ortholog_one2one</td>\n",
       "      <td>Euarchontoglires</td>\n",
       "      <td>92.7966</td>\n",
       "    </tr>\n",
       "    <tr>\n",
       "      <th>ENSMUSG00000038429</th>\n",
       "      <td>ENSG00000111667</td>\n",
       "      <td>98.3683</td>\n",
       "      <td>ortholog_one2one</td>\n",
       "      <td>Euarchontoglires</td>\n",
       "      <td>98.3683</td>\n",
       "    </tr>\n",
       "    <tr>\n",
       "      <th>ENSMUSG00000038550</th>\n",
       "      <td>ENSG00000159208</td>\n",
       "      <td>77.4026</td>\n",
       "      <td>ortholog_one2one</td>\n",
       "      <td>Euarchontoglires</td>\n",
       "      <td>79.4667</td>\n",
       "    </tr>\n",
       "    <tr>\n",
       "      <th>ENSMUSG00000045083</th>\n",
       "      <td>ENSG00000174482</td>\n",
       "      <td>97.6898</td>\n",
       "      <td>ortholog_one2one</td>\n",
       "      <td>Eutheria</td>\n",
       "      <td>97.6898</td>\n",
       "    </tr>\n",
       "    <tr>\n",
       "      <th>ENSMUSG00000001783</th>\n",
       "      <td>ENSG00000100220</td>\n",
       "      <td>99.4059</td>\n",
       "      <td>ortholog_one2one</td>\n",
       "      <td>Euarchontoglires</td>\n",
       "      <td>99.4059</td>\n",
       "    </tr>\n",
       "    <tr>\n",
       "      <th>ENSMUSG00000074505</th>\n",
       "      <td>ENSG00000165323</td>\n",
       "      <td>91.9351</td>\n",
       "      <td>ortholog_one2one</td>\n",
       "      <td>Eutheria</td>\n",
       "      <td>89.6726</td>\n",
       "    </tr>\n",
       "    <tr>\n",
       "      <th>ENSMUSG00000022208</th>\n",
       "      <td>ENSG00000092051</td>\n",
       "      <td>96.1783</td>\n",
       "      <td>ortholog_one2one</td>\n",
       "      <td>Euarchontoglires</td>\n",
       "      <td>96.1783</td>\n",
       "    </tr>\n",
       "    <tr>\n",
       "      <th>ENSMUSG00000025900</th>\n",
       "      <td>ENSG00000104237</td>\n",
       "      <td>59.6475</td>\n",
       "      <td>ortholog_one2one</td>\n",
       "      <td>Euarchontoglires</td>\n",
       "      <td>61.3842</td>\n",
       "    </tr>\n",
       "    <tr>\n",
       "      <th>ENSMUSG00000015961</th>\n",
       "      <td>ENSG00000035687</td>\n",
       "      <td>96.7105</td>\n",
       "      <td>ortholog_one2one</td>\n",
       "      <td>Euarchontoglires</td>\n",
       "      <td>96.7105</td>\n",
       "    </tr>\n",
       "    <tr>\n",
       "      <th>ENSMUSG00000039199</th>\n",
       "      <td>ENSG00000159714</td>\n",
       "      <td>70.9278</td>\n",
       "      <td>ortholog_one2one</td>\n",
       "      <td>Boreoeutheria</td>\n",
       "      <td>71.0744</td>\n",
       "    </tr>\n",
       "    <tr>\n",
       "      <th>ENSMUSG00000104213</th>\n",
       "      <td>ENSG00000211898</td>\n",
       "      <td>24.2188</td>\n",
       "      <td>ortholog_one2one</td>\n",
       "      <td>Euarchontoglires</td>\n",
       "      <td>31.9588</td>\n",
       "    </tr>\n",
       "    <tr>\n",
       "      <th>ENSMUSG00000057101</th>\n",
       "      <td>ENSG00000167384</td>\n",
       "      <td>65.0289</td>\n",
       "      <td>ortholog_one2one</td>\n",
       "      <td>Eutheria</td>\n",
       "      <td>68.7023</td>\n",
       "    </tr>\n",
       "    <tr>\n",
       "      <th>ENSMUSG00000085111</th>\n",
       "      <td>ENSG00000187855</td>\n",
       "      <td>57.2254</td>\n",
       "      <td>ortholog_one2one</td>\n",
       "      <td>Eutheria</td>\n",
       "      <td>68.7500</td>\n",
       "    </tr>\n",
       "    <tr>\n",
       "      <th>ENSMUSG00000003161</th>\n",
       "      <td>ENSG00000075142</td>\n",
       "      <td>95.9596</td>\n",
       "      <td>ortholog_one2one</td>\n",
       "      <td>Eutheria</td>\n",
       "      <td>95.9596</td>\n",
       "    </tr>\n",
       "    <tr>\n",
       "      <th>ENSMUSG00000089929</th>\n",
       "      <td>ENSG00000140379</td>\n",
       "      <td>70.8571</td>\n",
       "      <td>ortholog_one2many</td>\n",
       "      <td>Euarchontoglires</td>\n",
       "      <td>72.0930</td>\n",
       "    </tr>\n",
       "    <tr>\n",
       "      <th>ENSMUSG00000015312</th>\n",
       "      <td>ENSG00000099860</td>\n",
       "      <td>93.1250</td>\n",
       "      <td>ortholog_one2one</td>\n",
       "      <td>Euarchontoglires</td>\n",
       "      <td>93.1250</td>\n",
       "    </tr>\n",
       "    <tr>\n",
       "      <th>ENSMUSG00000027611</th>\n",
       "      <td>ENSG00000101000</td>\n",
       "      <td>67.6471</td>\n",
       "      <td>ortholog_one2one</td>\n",
       "      <td>Eutheria</td>\n",
       "      <td>66.5289</td>\n",
       "    </tr>\n",
       "  </tbody>\n",
       "</table>\n",
       "<p>27668 rows × 5 columns</p>\n",
       "</div>"
      ],
      "text/plain": [
       "                   hsapiens_homolog_ensembl_gene  hsapiens_homolog_perc_id_r1  \\\n",
       "ensembl_gene_id                                                                 \n",
       "ENSMUSG00000064370               ENSG00000198727                      78.1579   \n",
       "ENSMUSG00000064368               ENSG00000198695                      52.2989   \n",
       "ENSMUSG00000064367               ENSG00000198786                      63.8474   \n",
       "ENSMUSG00000064363               ENSG00000198886                      66.8845   \n",
       "ENSMUSG00000065947               ENSG00000212907                      66.3265   \n",
       "ENSMUSG00000064360               ENSG00000198840                      66.0870   \n",
       "ENSMUSG00000064358               ENSG00000198938                      86.9732   \n",
       "ENSMUSG00000064357               ENSG00000198899                      75.6637   \n",
       "ENSMUSG00000064356               ENSG00000228253                      45.5882   \n",
       "ENSMUSG00000064354               ENSG00000198712                      71.3656   \n",
       "ENSMUSG00000064351               ENSG00000198804                      90.8382   \n",
       "ENSMUSG00000064345               ENSG00000198763                      57.0605   \n",
       "ENSMUSG00000064341               ENSG00000198888                      77.0440   \n",
       "ENSMUSG00000084609               ENSG00000199801                      65.1376   \n",
       "ENSMUSG00000087716               ENSG00000281394                      59.6899   \n",
       "ENSMUSG00000087716               ENSG00000281516                      57.7236   \n",
       "ENSMUSG00000021366               ENSG00000095951                      70.7873   \n",
       "ENSMUSG00000089117               ENSG00000252031                      63.7255   \n",
       "ENSMUSG00000084532               ENSG00000252964                      55.8559   \n",
       "ENSMUSG00000094935               ENSG00000163155                      84.1410   \n",
       "ENSMUSG00000064455               ENSG00000199837                      66.6667   \n",
       "ENSMUSG00000048612               ENSG00000138119                      93.4013   \n",
       "ENSMUSG00000099291               ENSG00000199927                      80.1843   \n",
       "ENSMUSG00000099291               ENSG00000277947                      83.4862   \n",
       "ENSMUSG00000077413               ENSG00000212611                      65.7143   \n",
       "ENSMUSG00000089597               ENSG00000212237                      52.8926   \n",
       "ENSMUSG00000080486               ENSG00000221500                      81.5789   \n",
       "ENSMUSG00000084478               ENSG00000273744                      67.8161   \n",
       "ENSMUSG00000049521               ENSG00000128283                      73.1458   \n",
       "ENSMUSG00000088709               ENSG00000252087                      41.3115   \n",
       "...                                          ...                          ...   \n",
       "ENSMUSG00000027953               ENSG00000169241                      79.6380   \n",
       "ENSMUSG00000026650               ENSG00000197889                      87.5000   \n",
       "ENSMUSG00000007617               ENSG00000152413                      98.0226   \n",
       "ENSMUSG00000032633               ENSG00000154803                      92.5734   \n",
       "ENSMUSG00000032633               ENSG00000264187                      66.3158   \n",
       "ENSMUSG00000029372               ENSG00000163736                      36.7188   \n",
       "ENSMUSG00000031535               ENSG00000104371                      75.0000   \n",
       "ENSMUSG00000042675               ENSG00000090238                      75.7962   \n",
       "ENSMUSG00000022427               ENSG00000100216                      94.3662   \n",
       "ENSMUSG00000022436               ENSG00000100092                      69.4722   \n",
       "ENSMUSG00000051359               ENSG00000104490                     100.0000   \n",
       "ENSMUSG00000031429               ENSG00000101843                      93.8053   \n",
       "ENSMUSG00000023216               ENSG00000166947                      70.0416   \n",
       "ENSMUSG00000020903               ENSG00000170310                      92.7966   \n",
       "ENSMUSG00000038429               ENSG00000111667                      98.3683   \n",
       "ENSMUSG00000038550               ENSG00000159208                      77.4026   \n",
       "ENSMUSG00000045083               ENSG00000174482                      97.6898   \n",
       "ENSMUSG00000001783               ENSG00000100220                      99.4059   \n",
       "ENSMUSG00000074505               ENSG00000165323                      91.9351   \n",
       "ENSMUSG00000022208               ENSG00000092051                      96.1783   \n",
       "ENSMUSG00000025900               ENSG00000104237                      59.6475   \n",
       "ENSMUSG00000015961               ENSG00000035687                      96.7105   \n",
       "ENSMUSG00000039199               ENSG00000159714                      70.9278   \n",
       "ENSMUSG00000104213               ENSG00000211898                      24.2188   \n",
       "ENSMUSG00000057101               ENSG00000167384                      65.0289   \n",
       "ENSMUSG00000085111               ENSG00000187855                      57.2254   \n",
       "ENSMUSG00000003161               ENSG00000075142                      95.9596   \n",
       "ENSMUSG00000089929               ENSG00000140379                      70.8571   \n",
       "ENSMUSG00000015312               ENSG00000099860                      93.1250   \n",
       "ENSMUSG00000027611               ENSG00000101000                      67.6471   \n",
       "\n",
       "                   hsapiens_homolog_orthology_type hsapiens_homolog_subtype  \\\n",
       "ensembl_gene_id                                                               \n",
       "ENSMUSG00000064370                ortholog_one2one                 Eutheria   \n",
       "ENSMUSG00000064368                ortholog_one2one            Boreoeutheria   \n",
       "ENSMUSG00000064367               ortholog_one2many                 Eutheria   \n",
       "ENSMUSG00000064363                ortholog_one2one                 Eutheria   \n",
       "ENSMUSG00000065947                ortholog_one2one                 Eutheria   \n",
       "ENSMUSG00000064360                ortholog_one2one                 Eutheria   \n",
       "ENSMUSG00000064358                ortholog_one2one         Euarchontoglires   \n",
       "ENSMUSG00000064357                ortholog_one2one                 Eutheria   \n",
       "ENSMUSG00000064356                ortholog_one2one         Euarchontoglires   \n",
       "ENSMUSG00000064354                ortholog_one2one                 Mammalia   \n",
       "ENSMUSG00000064351                ortholog_one2one                 Eutheria   \n",
       "ENSMUSG00000064345                ortholog_one2one         Euarchontoglires   \n",
       "ENSMUSG00000064341                ortholog_one2one         Euarchontoglires   \n",
       "ENSMUSG00000084609                ortholog_one2one                 Eutheria   \n",
       "ENSMUSG00000087716              ortholog_many2many                 Eutheria   \n",
       "ENSMUSG00000087716              ortholog_many2many                 Eutheria   \n",
       "ENSMUSG00000021366                ortholog_one2one         Euarchontoglires   \n",
       "ENSMUSG00000089117               ortholog_one2many                 Eutheria   \n",
       "ENSMUSG00000084532                ortholog_one2one                 Eutheria   \n",
       "ENSMUSG00000094935               ortholog_one2many                 Eutheria   \n",
       "ENSMUSG00000064455                ortholog_one2one                 Eutheria   \n",
       "ENSMUSG00000048612                ortholog_one2one         Euarchontoglires   \n",
       "ENSMUSG00000099291              ortholog_many2many                 Eutheria   \n",
       "ENSMUSG00000099291              ortholog_many2many                 Eutheria   \n",
       "ENSMUSG00000077413                ortholog_one2one                 Eutheria   \n",
       "ENSMUSG00000089597                ortholog_one2one                 Eutheria   \n",
       "ENSMUSG00000080486                ortholog_one2one                 Eutheria   \n",
       "ENSMUSG00000084478                ortholog_one2one                 Eutheria   \n",
       "ENSMUSG00000049521                ortholog_one2one         Euarchontoglires   \n",
       "ENSMUSG00000088709               ortholog_one2many                   Theria   \n",
       "...                                            ...                      ...   \n",
       "ENSMUSG00000027953                ortholog_one2one                 Eutheria   \n",
       "ENSMUSG00000026650                ortholog_one2one                 Eutheria   \n",
       "ENSMUSG00000007617                ortholog_one2one                 Eutheria   \n",
       "ENSMUSG00000032633               ortholog_one2many         Euarchontoglires   \n",
       "ENSMUSG00000032633               ortholog_one2many         Euarchontoglires   \n",
       "ENSMUSG00000029372                ortholog_one2one                 Eutheria   \n",
       "ENSMUSG00000031535                ortholog_one2one                 Eutheria   \n",
       "ENSMUSG00000042675                ortholog_one2one            Boreoeutheria   \n",
       "ENSMUSG00000022427                ortholog_one2one         Euarchontoglires   \n",
       "ENSMUSG00000022436                ortholog_one2one         Euarchontoglires   \n",
       "ENSMUSG00000051359                ortholog_one2one                 Eutheria   \n",
       "ENSMUSG00000031429                ortholog_one2one                 Eutheria   \n",
       "ENSMUSG00000023216                ortholog_one2one         Euarchontoglires   \n",
       "ENSMUSG00000020903                ortholog_one2one         Euarchontoglires   \n",
       "ENSMUSG00000038429                ortholog_one2one         Euarchontoglires   \n",
       "ENSMUSG00000038550                ortholog_one2one         Euarchontoglires   \n",
       "ENSMUSG00000045083                ortholog_one2one                 Eutheria   \n",
       "ENSMUSG00000001783                ortholog_one2one         Euarchontoglires   \n",
       "ENSMUSG00000074505                ortholog_one2one                 Eutheria   \n",
       "ENSMUSG00000022208                ortholog_one2one         Euarchontoglires   \n",
       "ENSMUSG00000025900                ortholog_one2one         Euarchontoglires   \n",
       "ENSMUSG00000015961                ortholog_one2one         Euarchontoglires   \n",
       "ENSMUSG00000039199                ortholog_one2one            Boreoeutheria   \n",
       "ENSMUSG00000104213                ortholog_one2one         Euarchontoglires   \n",
       "ENSMUSG00000057101                ortholog_one2one                 Eutheria   \n",
       "ENSMUSG00000085111                ortholog_one2one                 Eutheria   \n",
       "ENSMUSG00000003161                ortholog_one2one                 Eutheria   \n",
       "ENSMUSG00000089929               ortholog_one2many         Euarchontoglires   \n",
       "ENSMUSG00000015312                ortholog_one2one         Euarchontoglires   \n",
       "ENSMUSG00000027611                ortholog_one2one                 Eutheria   \n",
       "\n",
       "                    hsapiens_homolog_perc_id  \n",
       "ensembl_gene_id                               \n",
       "ENSMUSG00000064370                   77.9528  \n",
       "ENSMUSG00000064368                   52.9070  \n",
       "ENSMUSG00000064367                   63.4267  \n",
       "ENSMUSG00000064363                   66.8845  \n",
       "ENSMUSG00000065947                   66.3265  \n",
       "ENSMUSG00000064360                   66.0870  \n",
       "ENSMUSG00000064358                   86.9732  \n",
       "ENSMUSG00000064357                   75.6637  \n",
       "ENSMUSG00000064356                   46.2687  \n",
       "ENSMUSG00000064354                   71.3656  \n",
       "ENSMUSG00000064351                   90.6615  \n",
       "ENSMUSG00000064345                   57.3913  \n",
       "ENSMUSG00000064341                   77.0440  \n",
       "ENSMUSG00000084609                   56.3492  \n",
       "ENSMUSG00000087716                   62.0968  \n",
       "ENSMUSG00000087716                   57.2581  \n",
       "ENSMUSG00000021366                   71.5774  \n",
       "ENSMUSG00000089117                   63.1068  \n",
       "ENSMUSG00000084532                   56.8807  \n",
       "ENSMUSG00000094935                   84.5133  \n",
       "ENSMUSG00000064455                   80.0000  \n",
       "ENSMUSG00000048612                   93.9941  \n",
       "ENSMUSG00000099291                   80.5556  \n",
       "ENSMUSG00000099291                   84.2593  \n",
       "ENSMUSG00000077413                   66.6667  \n",
       "ENSMUSG00000089597                   47.4074  \n",
       "ENSMUSG00000080486                   83.7838  \n",
       "ENSMUSG00000084478                   71.9512  \n",
       "ENSMUSG00000049521                   69.9267  \n",
       "ENSMUSG00000088709                   40.0000  \n",
       "...                                      ...  \n",
       "ENSMUSG00000027953                   79.6380  \n",
       "ENSMUSG00000026650                   87.5000  \n",
       "ENSMUSG00000007617                   93.7838  \n",
       "ENSMUSG00000032633                   92.5734  \n",
       "ENSMUSG00000032633                   10.8808  \n",
       "ENSMUSG00000029372                   41.5929  \n",
       "ENSMUSG00000031535                   76.0181  \n",
       "ENSMUSG00000042675                  100.0000  \n",
       "ENSMUSG00000022427                   94.3662  \n",
       "ENSMUSG00000022436                   83.6770  \n",
       "ENSMUSG00000051359                  100.0000  \n",
       "ENSMUSG00000031429                   91.7749  \n",
       "ENSMUSG00000023216                   73.0825  \n",
       "ENSMUSG00000020903                   92.7966  \n",
       "ENSMUSG00000038429                   98.3683  \n",
       "ENSMUSG00000038550                   79.4667  \n",
       "ENSMUSG00000045083                   97.6898  \n",
       "ENSMUSG00000001783                   99.4059  \n",
       "ENSMUSG00000074505                   89.6726  \n",
       "ENSMUSG00000022208                   96.1783  \n",
       "ENSMUSG00000025900                   61.3842  \n",
       "ENSMUSG00000015961                   96.7105  \n",
       "ENSMUSG00000039199                   71.0744  \n",
       "ENSMUSG00000104213                   31.9588  \n",
       "ENSMUSG00000057101                   68.7023  \n",
       "ENSMUSG00000085111                   68.7500  \n",
       "ENSMUSG00000003161                   95.9596  \n",
       "ENSMUSG00000089929                   72.0930  \n",
       "ENSMUSG00000015312                   93.1250  \n",
       "ENSMUSG00000027611                   66.5289  \n",
       "\n",
       "[27668 rows x 5 columns]"
      ]
     },
     "execution_count": 56,
     "metadata": {},
     "output_type": "execute_result"
    }
   ],
   "source": [
    "orthology"
   ]
  },
  {
   "cell_type": "code",
   "execution_count": 64,
   "metadata": {
    "ExecuteTime": {
     "end_time": "2017-11-28T01:02:49.870519Z",
     "start_time": "2017-11-28T01:02:49.830872Z"
    }
   },
   "outputs": [
    {
     "data": {
      "text/html": [
       "<div>\n",
       "<style scoped>\n",
       "    .dataframe tbody tr th:only-of-type {\n",
       "        vertical-align: middle;\n",
       "    }\n",
       "\n",
       "    .dataframe tbody tr th {\n",
       "        vertical-align: top;\n",
       "    }\n",
       "\n",
       "    .dataframe thead th {\n",
       "        text-align: right;\n",
       "    }\n",
       "</style>\n",
       "<table border=\"1\" class=\"dataframe\">\n",
       "  <thead>\n",
       "    <tr style=\"text-align: right;\">\n",
       "      <th></th>\n",
       "      <th>mmusculus_homolog_ensembl_gene</th>\n",
       "      <th>mmusculus_homolog_perc_id_r1</th>\n",
       "      <th>mmusculus_homolog_orthology_type</th>\n",
       "      <th>mmusculus_homolog_perc_id</th>\n",
       "    </tr>\n",
       "    <tr>\n",
       "      <th>ensembl_gene_id</th>\n",
       "      <th></th>\n",
       "      <th></th>\n",
       "      <th></th>\n",
       "      <th></th>\n",
       "    </tr>\n",
       "  </thead>\n",
       "  <tbody>\n",
       "    <tr>\n",
       "      <th>ENSG00000264452</th>\n",
       "      <td>ENSMUSG00000093784</td>\n",
       "      <td>71.0526</td>\n",
       "      <td>ortholog_one2one</td>\n",
       "      <td>71.0526</td>\n",
       "    </tr>\n",
       "    <tr>\n",
       "      <th>ENSG00000264452</th>\n",
       "      <td>ENSMUSG00000093784</td>\n",
       "      <td>71.0526</td>\n",
       "      <td>ortholog_one2one</td>\n",
       "      <td>71.0526</td>\n",
       "    </tr>\n",
       "  </tbody>\n",
       "</table>\n",
       "</div>"
      ],
      "text/plain": [
       "                mmusculus_homolog_ensembl_gene  mmusculus_homolog_perc_id_r1  \\\n",
       "ensembl_gene_id                                                                \n",
       "ENSG00000264452             ENSMUSG00000093784                       71.0526   \n",
       "ENSG00000264452             ENSMUSG00000093784                       71.0526   \n",
       "\n",
       "                mmusculus_homolog_orthology_type  mmusculus_homolog_perc_id  \n",
       "ensembl_gene_id                                                              \n",
       "ENSG00000264452                 ortholog_one2one                    71.0526  \n",
       "ENSG00000264452                 ortholog_one2one                    71.0526  "
      ]
     },
     "execution_count": 64,
     "metadata": {},
     "output_type": "execute_result"
    }
   ],
   "source": [
    "mouse_orthology.loc[['ENSG00000264452', 'ENSG00000264452']]"
   ]
  },
  {
   "cell_type": "code",
   "execution_count": 2,
   "metadata": {
    "ExecuteTime": {
     "end_time": "2017-11-27T12:05:32.175273Z",
     "start_time": "2017-11-27T12:04:10.623911Z"
    }
   },
   "outputs": [
    {
     "name": "stderr",
     "output_type": "stream",
     "text": [
      "Using TensorFlow backend.\n"
     ]
    },
    {
     "name": "stdout",
     "output_type": "stream",
     "text": [
      "tensorflow\n"
     ]
    },
    {
     "ename": "NameError",
     "evalue": "name 'weights_path' is not defined",
     "output_type": "error",
     "traceback": [
      "\u001b[0;31m---------------------------------------------------------------------------\u001b[0m",
      "\u001b[0;31mNameError\u001b[0m                                 Traceback (most recent call last)",
      "\u001b[0;32m<ipython-input-2-2151c121045d>\u001b[0m in \u001b[0;36m<module>\u001b[0;34m()\u001b[0m\n\u001b[1;32m    289\u001b[0m \u001b[0;34m\u001b[0m\u001b[0m\n\u001b[1;32m    290\u001b[0m \u001b[0;31m#model, trainhist = train(X_train, Y_train, X_test, Y_test, weights_file, last_epoch)\u001b[0m\u001b[0;34m\u001b[0m\u001b[0;34m\u001b[0m\u001b[0m\n\u001b[0;32m--> 291\u001b[0;31m \u001b[0mmodel\u001b[0m \u001b[0;34m=\u001b[0m \u001b[0mload_trained_model\u001b[0m\u001b[0;34m(\u001b[0m\u001b[0mweights_path\u001b[0m\u001b[0;34m)\u001b[0m\u001b[0;34m\u001b[0m\u001b[0m\n\u001b[0m\u001b[1;32m    292\u001b[0m \u001b[0;34m\u001b[0m\u001b[0m\n",
      "\u001b[0;31mNameError\u001b[0m: name 'weights_path' is not defined"
     ]
    }
   ],
   "source": [
    "\n",
    "# coding: utf-8\n",
    "\n",
    "# In[33]:\n",
    "\n",
    "\n",
    "import importlib\n",
    "import os\n",
    "import json\n",
    "import pickle\n",
    "import re\n",
    "import sys\n",
    "import numpy as np\n",
    "import pandas as pd\n",
    "import tensorflow as tf\n",
    "\n",
    "\n",
    "from keras.models import load_model\n",
    "from keras.utils import to_categorical\n",
    "from keras import backend as K\n",
    "from keras.models import Sequential\n",
    "from keras.layers import Dense, Activation, LSTM, Embedding, Bidirectional\n",
    "#Dropout, RepeatVector, TimeDistributed, AveragePooling1D, Flatten\n",
    "from collections import defaultdict, OrderedDict\n",
    "from scipy.stats import describe\n",
    "print(K.backend())\n",
    "def set_keras_backend(backend):\n",
    "    if K.backend() != backend:\n",
    "        os.environ['KERAS_BACKEND'] = backend\n",
    "        importlib.reload(K)\n",
    "        assert K.backend() == backend\n",
    "\n",
    "\n",
    "#set_keras_backend('theano')\n",
    "__BASES__ = ['A','C','G','T']\n",
    "__BASES_MAP__ = OrderedDict(zip(__BASES__,range(4)))\n",
    "__MERGE_KEYS__ = ['UTR5', 'CDS', 'UTR3']\n",
    "__MERGE_LABELS__ = OrderedDict(zip(__MERGE_KEYS__, range(3)))\n",
    "\n",
    "\n",
    "# In[21]:\n",
    "def _downsample(genes_histogram, genes_to_keep=10000):\n",
    "    \"\"\"Downsample a histogram by randomly dropping proportional\n",
    "    number of genes in each bin\n",
    "\n",
    "    Params\n",
    "    ------\n",
    "\n",
    "    genes_histogram : dict\n",
    "        Dictionary with format {bin:[list of genes in bin]}\n",
    "\n",
    "    genes_to_keep : int\n",
    "        Total genes to keep\n",
    "\n",
    "    Return\n",
    "    ------\n",
    "    downsampled_dict : dict\n",
    "        Dictionary with downsampled list in each bin\n",
    "\n",
    "    \"\"\"\n",
    "    np.random.seed(42)\n",
    "    downsampled_dict = {}\n",
    "    total_bins = len(genes_histogram)\n",
    "    total_genes = sum([len(x) for x in list(genes_histogram.values())])\n",
    "    scaling_factor = genes_to_keep / total_genes\n",
    "    for bin_index, genes_in_bin in list(genes_histogram.items()):\n",
    "        n_genes_in_bin = len(genes_in_bin)\n",
    "        n_genes_to_keep = int(np.ceil(n_genes_in_bin * scaling_factor))\n",
    "        index_genes_to_keep = np.random.choice(n_genes_in_bin, n_genes_to_keep)\n",
    "        genes_to_keep = np.array(genes_in_bin)[index_genes_to_keep]\n",
    "        downsampled_dict[bin_index] = list(genes_to_keep)\n",
    "    return downsampled_dict\n",
    "\n",
    "\n",
    "def load_data(gene_cds, gene_lengths, genes_to_keep=10000):\n",
    "    \"\"\"Load dataset\n",
    "\n",
    "    Params\n",
    "    ------\n",
    "    gene_cds : str\n",
    "        Path to json with sequence\n",
    "\n",
    "    gene_lengths : str\n",
    "        Path to json with sequence lengths\n",
    "\n",
    "    genes_to_keep : int\n",
    "        Total genes_to_keep\n",
    "\n",
    "    Return\n",
    "    ------\n",
    "    downsampled_genes_dict : dict\n",
    "        Dictionary with format {bin:[list of genes in bin]}\n",
    "\n",
    "    \"\"\"\n",
    "    np.random.seed(42)\n",
    "\n",
    "    gene_seq = OrderedDict(json.load(open(gene_cds)))\n",
    "    gene_len = OrderedDict(json.load(open(gene_lengths)))\n",
    "\n",
    "    gene_total_len = OrderedDict((k, sum(list(v.values())))\n",
    "                                 for k, v in list(gene_len.items()))\n",
    "    all_lengths = np.array(list(gene_total_len.values()))\n",
    "    valid_genes_dict = OrderedDict((k, v)\n",
    "                                   for k, v in list(gene_total_len.items())\n",
    "                                   if v < 10000)\n",
    "\n",
    "    valid_genes_keys = list(valid_genes_dict.keys())\n",
    "    valid_genes_values = list(valid_genes_dict.values())\n",
    "    hist, edges = np.histogram(valid_genes_values)\n",
    "    valid_genes_bins = np.digitize(valid_genes_values, edges)\n",
    "    length_wise_binned_genes = defaultdict(list)\n",
    "    for i, b in enumerate(valid_genes_bins):\n",
    "        length_wise_binned_genes[b - 1].append(valid_genes_keys[i])\n",
    "\n",
    "    downsampled_genes_dict = _downsample(length_wise_binned_genes,\n",
    "                                         genes_to_keep=genes_to_keep)\n",
    "    return downsampled_genes_dict, gene_seq\n",
    "\n",
    "\n",
    "def split_train_test_genes(length_wise_binned_genes, train_proportion=0.7):\n",
    "    \"\"\"Split data in training and testing set\n",
    "\n",
    "    Params\n",
    "    ------\n",
    "    length_wise_binned_genes : dict\n",
    "         Dictionary with format {bin:[list of genes in bin]}\n",
    "\n",
    "    train_proportion : float\n",
    "        Training proportion\n",
    "\n",
    "    Return\n",
    "    ------\n",
    "    training_genes : list\n",
    "\n",
    "    testing_genes : list\n",
    "\n",
    "    \"\"\"\n",
    "    np.random.seed(42)\n",
    "    training_genes = []\n",
    "    testing_genes = []\n",
    "    for bin_number, bin_genes in list(length_wise_binned_genes.items()):\n",
    "        n_genes = len(bin_genes)\n",
    "        np.random.shuffle(bin_genes)\n",
    "        training_genes += bin_genes[:int(n_genes * train_proportion)]\n",
    "        testing_genes += bin_genes[int(n_genes * train_proportion):]\n",
    "\n",
    "    return training_genes, testing_genes\n",
    "\n",
    "# In[9]:\n",
    "\n",
    "\n",
    "def map_base_to_int(base):\n",
    "    \"\"\"Return int given a base character\"\"\"\n",
    "    return __BASES_MAP__[base]\n",
    "\n",
    "\n",
    "def one_hot_encoding(data_dict):\n",
    "    \"\"\"One hot encode sequences\n",
    "\n",
    "    Params\n",
    "    ------\n",
    "    data_dict : dict\n",
    "        Sequence dict as loaded from gene_cds json file\n",
    "\n",
    "    Returns\n",
    "    -------\n",
    "\n",
    "    X : array\n",
    "        X*4 Input array with columns representing A,T,G,C\n",
    "\n",
    "    Y : array\n",
    "        X*3 Labels with columns representing 5'UTR, CDS, 3'UTR\n",
    "\n",
    "\n",
    "    \"\"\"\n",
    "    merged_seq = []\n",
    "    merged_label = []\n",
    "    for key in __MERGE_KEYS__:\n",
    "        merged_seq += list(data_dict[key])\n",
    "        merged_label += list([__MERGE_LABELS__[key]] * len(data_dict[key]))\n",
    "    merged_seq_int = list(map(map_base_to_int, merged_seq))\n",
    "\n",
    "    X = merged_seq_int #to_categorical(merged_seq_int)\n",
    "    Y = to_categorical(merged_label)\n",
    "    return X, Y\n",
    "\n",
    "\n",
    "# In[49]:\n",
    "\n",
    "def create_model():\n",
    "    model = Sequential()\n",
    "    model.add(Embedding(input_dim=4, output_dim=4))\n",
    "    model.add(Bidirectional(LSTM(\n",
    "                3,\n",
    "                return_sequences=True,\n",
    "                input_shape=(None, 4),\n",
    "                dropout=0.5,\n",
    "                recurrent_dropout=0.25)))\n",
    "    model.add(Dense(3, activation='sigmoid'))\n",
    "    model.compile(\n",
    "        loss='categorical_crossentropy',\n",
    "        optimizer='rmsprop',\n",
    "        metrics=['accuracy'])\n",
    "    return model\n",
    "\n",
    "def load_trained_model(weights_path=None):\n",
    "    model = create_model()\n",
    "    if weights_path:\n",
    "        model.load_weights(weights_path)\n",
    "    return model\n",
    "\n",
    "def train(X_train, Y_train, X_test, Y_test, weights_path=None, start_epoch=0):\n",
    "    model = load_trained_model(weights_path)\n",
    "    nb_epoch = 128\n",
    "    train_history = defaultdict(list)\n",
    "    test_history = defaultdict(list)\n",
    "\n",
    "    for e in range(start_epoch, nb_epoch):\n",
    "        index = 0\n",
    "        acc_train = 0\n",
    "        for x, y in zip(X_train, Y_train):\n",
    "            acc = model.train_on_batch(np.array([x]), np.array([y]))#, verbose=0)\n",
    "            train_history[e].append(acc)\n",
    "            acc_train+=acc[1]\n",
    "            if (index%10000) == 0:\n",
    "                sys.stderr.write('Epoch: {} || Index :{} || loss: {} || acc: {}\\n'.format(e, index, acc[0], acc[1]))\n",
    "                with open('train_acc_10000.log', 'a') as f:\n",
    "                    f.write('Epoch: {} || Index :{} || loss: {} || acc: {}\\n'.format(e, index, acc[0], acc[1]))\n",
    "                ##for x_test, y_test in zip(X_test, Y_test):\n",
    "                ##    prediction = model.evaluate(np.array([x_test]),np.array([y_test]), batch_size=1)\n",
    "                ##    print (prediction)\n",
    "            index += 1\n",
    "        acc_train /= len(X_train)\n",
    "        sys.stderr.write('Epoch: {} || Train acc: {}\\n'.format(e, acc_train))\n",
    "        with open('train_acc_10000.log', 'a') as f:\n",
    "            f.write('Epoch: {} || Train acc: {}\\n'.format(e, acc_train))\n",
    "        acc_test = 0\n",
    "        for x_test, y_test in zip(X_test, Y_test):\n",
    "            #acc_test = model.predict_classes(np.array([x_test]), batch_size=1)\n",
    "            acc = model.evaluate(np.array([x_test]),np.array([y_test]), batch_size=1)\n",
    "            acc_test += acc[1]\n",
    "        acc_test /= len(X_test)\n",
    "        test_history[e].append(acc_test)\n",
    "        sys.stdout.write('Epoch: {} || Test acc: {}\\n'.format(e, acc_test))\n",
    "        with open('test_acc_10000.log', 'a') as f:\n",
    "            f.write('Epoch: {} || Test acc: {}\\n'.format(e, acc_test))\n",
    "\n",
    "        model.save('lstm-dropout_025_recur_dropout_025-epoch-{}_10000.h5'.format(e))\n",
    "\n",
    "    return model, train_history\n",
    "\n",
    "\n",
    "# In[11]:\n",
    "\n",
    "\n",
    "\n",
    "\n",
    "weights_file = '../notebooks_embedding_bilstm/lstm-dropout_025_recur_dropout_025-epoch-9_10000.h5'\n",
    "last_epoch = int(re.search('epoch-\\d+', weights_file).group(0).split('-')[1])\n",
    "\n",
    "gene_cds = '../data/hg38/input/genes_cds.json'\n",
    "gene_lengths = '../data/hg38/input/genes_lengths.json'\n",
    "\n",
    "genes_dict, gene_seq = load_data(gene_cds, gene_lengths, genes_to_keep=10000)\n",
    "\n",
    "training_genes, test_genes = split_train_test_genes(genes_dict, train_proportion=0.7)\n",
    "\n",
    "## Shuffle the genes once again to avoid any bin wise correlation\n",
    "\n",
    "np.random.shuffle(training_genes)\n",
    "np.random.shuffle(test_genes)\n",
    "\n",
    "X_train = []\n",
    "Y_train = []\n",
    "\n",
    "X_test = []\n",
    "Y_test = []\n",
    "\n",
    "for gene in training_genes:\n",
    "    X, Y = one_hot_encoding(gene_seq[gene])\n",
    "    X_train.append(X)\n",
    "    Y_train.append(Y)\n",
    "\n",
    "for gene in test_genes:\n",
    "    X, Y = one_hot_encoding(gene_seq[gene])\n",
    "    X_test.append(X)\n",
    "    Y_test.append(Y)\n",
    "\n",
    "\n",
    "#model, trainhist = train(X_train, Y_train, X_test, Y_test, weights_file, last_epoch)\n",
    "\n",
    "\n"
   ]
  },
  {
   "cell_type": "code",
   "execution_count": 3,
   "metadata": {
    "ExecuteTime": {
     "end_time": "2017-11-27T12:06:23.013487Z",
     "start_time": "2017-11-27T12:06:20.973902Z"
    }
   },
   "outputs": [],
   "source": [
    "model = load_trained_model(weights_file)"
   ]
  },
  {
   "cell_type": "code",
   "execution_count": 29,
   "metadata": {
    "ExecuteTime": {
     "end_time": "2017-11-27T20:58:45.870589Z",
     "start_time": "2017-11-27T20:58:45.651037Z"
    }
   },
   "outputs": [],
   "source": [
    "gene_lengths_dict = json.load(open(gene_lengths))\n",
    "mouse_gene_lengths_dict = json.load(open(mouse_gene_lengths))"
   ]
  },
  {
   "cell_type": "code",
   "execution_count": 38,
   "metadata": {
    "ExecuteTime": {
     "end_time": "2017-11-27T21:18:12.870661Z",
     "start_time": "2017-11-27T21:17:50.143493Z"
    }
   },
   "outputs": [],
   "source": [
    "mouse_gene_cds = '../data/mm10/input/genes_cds.json'\n",
    "mouse_gene_lengths = '../data/mm10/input/genes_lengths.json'\n",
    "\n",
    "\n",
    "\n",
    "mouse_genes_dict, mouse_gene_seq = load_data(mouse_gene_cds, mouse_gene_lengths, \n",
    "                                             genes_to_keep=20108)\n",
    "\n",
    "mouse_training_genes, mouse_test_genes = split_train_test_genes(mouse_genes_dict, train_proportion=0.7)\n",
    "\n",
    "mouse_X_train = []\n",
    "mouse_Y_train = []\n",
    "\n",
    "mouse_X_test = []\n",
    "mouse_Y_test = []\n",
    "\n",
    "mouse_training_genes_filtered = []\n",
    "mouse_test_genes_filtered  = []\n",
    "\n",
    "for gene in mouse_training_genes:\n",
    "    if 'N' in ('').join(mouse_gene_seq[gene].values()):\n",
    "        continue\n",
    "    X, Y = one_hot_encoding(mouse_gene_seq[gene])\n",
    "    mouse_X_train.append(X)\n",
    "    mouse_Y_train.append(Y)\n",
    "    mouse_training_genes_filtered.append(gene)\n",
    "\n",
    "\n",
    "for gene in mouse_test_genes:\n",
    "    if 'N' in ('').join(mouse_gene_seq[gene].values()):\n",
    "        continue\n",
    "    X, Y = one_hot_encoding(mouse_gene_seq[gene])\n",
    "    mouse_X_test.append(X)\n",
    "    mouse_Y_test.append(Y)\n",
    "    mouse_test_genes_filtered.append(gene)"
   ]
  },
  {
   "cell_type": "code",
   "execution_count": 44,
   "metadata": {
    "ExecuteTime": {
     "end_time": "2017-11-27T23:33:52.159411Z",
     "start_time": "2017-11-27T23:18:26.945185Z"
    }
   },
   "outputs": [],
   "source": [
    "acc_test = []\n",
    "for  x_test, y_test in zip(X_test, Y_test):\n",
    "    #acc_test = model.predict_classes(np.array([x_test]), batch_size=1)\n",
    "    #break\n",
    "    acc = model.evaluate(np.array([x_test]),np.array([y_test]), batch_size=1, verbose=0)\n",
    "    acc_test.append(acc[1])\n",
    "acc_test = np.array(acc_test)"
   ]
  },
  {
   "cell_type": "code",
   "execution_count": 45,
   "metadata": {
    "ExecuteTime": {
     "end_time": "2017-11-28T00:11:09.274545Z",
     "start_time": "2017-11-27T23:33:52.162538Z"
    }
   },
   "outputs": [],
   "source": [
    "acc_train = []\n",
    "for  x_train, y_train in zip(X_train, Y_train):\n",
    "    #acc_train = model.predict_classes(np.array([x_train]), batch_size=1)\n",
    "    #break\n",
    "    acc = model.evaluate(np.array([x_train]),np.array([y_train]), batch_size=1, verbose=0)\n",
    "    acc_train.append(acc[1])\n",
    "acc_train = np.array(acc_train)"
   ]
  },
  {
   "cell_type": "code",
   "execution_count": 39,
   "metadata": {
    "ExecuteTime": {
     "end_time": "2017-11-27T21:51:19.167690Z",
     "start_time": "2017-11-27T21:19:17.636874Z"
    }
   },
   "outputs": [],
   "source": [
    "mouse_acc_test = []\n",
    "for  x_test, y_test in zip(mouse_X_test, mouse_Y_test):\n",
    "    #acc_test = model.predict_classes(np.array([x_test]), batch_size=1)\n",
    "    #break\n",
    "    mouse_acc = model.evaluate(np.array([x_test]),np.array([y_test]), batch_size=1, verbose=0)\n",
    "    mouse_acc_test.append(mouse_acc[1])\n",
    "mouse_acc_test = np.array(mouse_acc_test)"
   ]
  },
  {
   "cell_type": "code",
   "execution_count": 40,
   "metadata": {
    "ExecuteTime": {
     "end_time": "2017-11-27T23:05:40.528396Z",
     "start_time": "2017-11-27T21:51:19.170354Z"
    }
   },
   "outputs": [],
   "source": [
    "mouse_acc_train = []\n",
    "for  x_train, y_train in zip(mouse_X_train, mouse_Y_train):\n",
    "    #acc_train = model.predict_classes(np.array([x_train]), batch_size=1)\n",
    "    #break\n",
    "    mouse_acc = model.evaluate(np.array([x_train]),np.array([y_train]), batch_size=1, verbose=0)\n",
    "    mouse_acc_train.append(mouse_acc[1])\n",
    "mouse_acc_train = np.array(mouse_acc_train)"
   ]
  },
  {
   "cell_type": "code",
   "execution_count": 43,
   "metadata": {
    "ExecuteTime": {
     "end_time": "2017-11-27T23:14:42.918225Z",
     "start_time": "2017-11-27T23:14:42.552559Z"
    }
   },
   "outputs": [],
   "source": [
    "import pickle\n",
    "\n",
    "pickle.dump(mouse_test_genes_filtered, open('notebooks_embedding_bilstm_epoch-9/mouse_test_genes_filtered.pickle', 'wb'))\n",
    "pickle.dump(mouse_training_genes_filtered, open('notebooks_embedding_bilstm_epoch-9/mouse_train_genes_filtered.pickle', 'wb'))\n",
    "pickle.dump(mouse_acc_test, open('notebooks_embedding_bilstm_epoch-9/mouse_acc_test.pickle', 'wb'))\n",
    "pickle.dump(mouse_acc_train, open('notebooks_embedding_bilstm_epoch-9/mouse_acc_train.pickle', 'wb'))\n",
    "\n",
    "\n"
   ]
  },
  {
   "cell_type": "code",
   "execution_count": 46,
   "metadata": {
    "ExecuteTime": {
     "end_time": "2017-11-28T00:11:09.714688Z",
     "start_time": "2017-11-28T00:11:09.278318Z"
    }
   },
   "outputs": [],
   "source": [
    "pickle.dump(test_genes, open('notebooks_embedding_bilstm_epoch-9/human_test_genes_filtered.pickle', 'wb'))\n",
    "pickle.dump(training_genes, open('notebooks_embedding_bilstm_epoch-9/human_train_genes_filtered.pickle', 'wb'))\n",
    "pickle.dump(acc_test, open('notebooks_embedding_bilstm_epoch-9/human_acc_test.pickle', 'wb'))\n",
    "pickle.dump(acc_train, open('notebooks_embedding_bilstm_epoch-9/human_acc_train.pickle', 'wb'))"
   ]
  },
  {
   "cell_type": "code",
   "execution_count": 19,
   "metadata": {
    "ExecuteTime": {
     "end_time": "2017-11-27T20:19:33.751233Z",
     "start_time": "2017-11-27T20:19:33.171893Z"
    }
   },
   "outputs": [
    {
     "name": "stdout",
     "output_type": "stream",
     "text": [
      "1/1 [==============================] - 0s\n"
     ]
    }
   ],
   "source": [
    "acc = model.evaluate(np.array([x_test]),np.array([y_test]), batch_size=1)"
   ]
  },
  {
   "cell_type": "code",
   "execution_count": 48,
   "metadata": {
    "ExecuteTime": {
     "end_time": "2017-11-28T00:32:57.233895Z",
     "start_time": "2017-11-28T00:32:57.223433Z"
    }
   },
   "outputs": [
    {
     "data": {
      "text/plain": [
       "4784"
      ]
     },
     "execution_count": 48,
     "metadata": {},
     "output_type": "execute_result"
    }
   ],
   "source": [
    "np.argmax(mouse_acc_test)"
   ]
  },
  {
   "cell_type": "code",
   "execution_count": 59,
   "metadata": {
    "ExecuteTime": {
     "end_time": "2017-11-28T00:55:04.905237Z",
     "start_time": "2017-11-28T00:55:04.895206Z"
    }
   },
   "outputs": [
    {
     "data": {
      "text/plain": [
       "0.711858930068478"
      ]
     },
     "execution_count": 59,
     "metadata": {},
     "output_type": "execute_result"
    }
   ],
   "source": [
    "np.mean(mouse_acc_train)"
   ]
  },
  {
   "cell_type": "code",
   "execution_count": 27,
   "metadata": {
    "ExecuteTime": {
     "end_time": "2017-11-27T20:55:48.535117Z",
     "start_time": "2017-11-27T20:55:48.525744Z"
    }
   },
   "outputs": [
    {
     "data": {
      "text/plain": [
       "0.99455827474594116"
      ]
     },
     "execution_count": 27,
     "metadata": {},
     "output_type": "execute_result"
    }
   ],
   "source": [
    "acc_test[946]"
   ]
  },
  {
   "cell_type": "code",
   "execution_count": 49,
   "metadata": {
    "ExecuteTime": {
     "end_time": "2017-11-28T00:33:18.528711Z",
     "start_time": "2017-11-28T00:33:18.519626Z"
    }
   },
   "outputs": [
    {
     "data": {
      "text/plain": [
       "0.99412786960601807"
      ]
     },
     "execution_count": 49,
     "metadata": {},
     "output_type": "execute_result"
    }
   ],
   "source": [
    "mouse_acc_test[4784]"
   ]
  },
  {
   "cell_type": "code",
   "execution_count": 50,
   "metadata": {
    "ExecuteTime": {
     "end_time": "2017-11-28T00:43:42.788835Z",
     "start_time": "2017-11-28T00:43:42.780160Z"
    }
   },
   "outputs": [
    {
     "data": {
      "text/plain": [
       "'ENSMUSG00000074030'"
      ]
     },
     "execution_count": 50,
     "metadata": {},
     "output_type": "execute_result"
    }
   ],
   "source": [
    "mouse_test_genes_filtered[4784]"
   ]
  },
  {
   "cell_type": "code",
   "execution_count": 60,
   "metadata": {
    "ExecuteTime": {
     "end_time": "2017-11-28T00:59:58.477049Z",
     "start_time": "2017-11-28T00:59:58.453750Z"
    }
   },
   "outputs": [
    {
     "data": {
      "text/plain": [
       "hsapiens_homolog_ensembl_gene       ENSG00000116903\n",
       "hsapiens_homolog_perc_id_r1                 92.4138\n",
       "hsapiens_homolog_orthology_type    ortholog_one2one\n",
       "hsapiens_homolog_subtype                     Theria\n",
       "hsapiens_homolog_perc_id                    93.5754\n",
       "Name: ENSMUSG00000074030, dtype: object"
      ]
     },
     "execution_count": 60,
     "metadata": {},
     "output_type": "execute_result"
    }
   ],
   "source": [
    "orthology.loc['ENSMUSG00000074030']"
   ]
  },
  {
   "cell_type": "code",
   "execution_count": 61,
   "metadata": {
    "ExecuteTime": {
     "end_time": "2017-11-28T01:00:23.588955Z",
     "start_time": "2017-11-28T01:00:23.580333Z"
    }
   },
   "outputs": [
    {
     "data": {
      "text/plain": [
       "True"
      ]
     },
     "execution_count": 61,
     "metadata": {},
     "output_type": "execute_result"
    }
   ],
   "source": [
    "#test_genes[946]\n",
    "'ENSG00000116903' in training_genes"
   ]
  },
  {
   "cell_type": "code",
   "execution_count": 30,
   "metadata": {
    "ExecuteTime": {
     "end_time": "2017-11-27T20:58:58.018084Z",
     "start_time": "2017-11-27T20:58:58.010905Z"
    }
   },
   "outputs": [
    {
     "data": {
      "text/plain": [
       "{'CDS': 1716, 'UTR3': 1333, 'UTR5': 75}"
      ]
     },
     "execution_count": 30,
     "metadata": {},
     "output_type": "execute_result"
    }
   ],
   "source": [
    "gene_lengths_dict['ENSG00000107164']"
   ]
  },
  {
   "cell_type": "code",
   "execution_count": 167,
   "metadata": {
    "ExecuteTime": {
     "end_time": "2017-11-28T04:35:23.249827Z",
     "start_time": "2017-11-28T04:35:23.240928Z"
    }
   },
   "outputs": [
    {
     "data": {
      "text/plain": [
       "{'CDS': 'ATGGCGGAGCTGGTGCAGGGGCAGAGCGCTCCTGTGGGGATGAAGGCCGAGGGCTTCGTGGATGCCCTGCACCGGGTCCGGCAGATTGCTGCTAAAATTGATTCAATTCCTCACTTGAATAATTCCACACCTCTAGTGGACCCCTCAGTATATGGATACGGAGTACAAAAACGGCCCTTGGATGATGGAGTAGGTAACCAGTTAGGGGCCTTGGTACATCAAAGGACGGTAATAACGGAAGAATTCAAAGTGCCTGACAAAATGGTTGGATTTATTATCGGCAGGGGAGGTGAGCAGATTTCACGGATTCAAGCAGAATCTGGTTGCAAAATTCAGATTGCTTCAGAGAGTTCTGGGATTCCAGAGAGGCCCTGTGTACTTACCGGAACCCCAGAAAGTATTGAACAAGCCAAACGGCTCCTGGGACAGATTGTGGACCGCTGTCGAAATGGACCTGGCTTTCATAATGACATAGACAGCAACAGCACAATCCAGGAGATTCTCATTCCCGCATCTAAAGTGGGTCTGGTCATCGGCAGAGGAGGGGAAACAATCAAGCAGTTGCAGGAGCGGACAGGGGTGAAGATGGTCATGATCCAGGATGGCCCATTGCCCACGGGAGCAGACAAGCCTCTTCGTATCACTGGAGATGCATTTAAAGTACAGCAAGCAAGAGAAATGGTACTAGAGATTATCCGAGAAAAAGACCAAGCTGACTTTCGGGGTGTACGCGGCGATTTCAACTCTCGAATGGGAGGAGGCAGTATAGAGGTATCTGTGCCTAGGTTTGCTGTGGGGATTGTAATAGGAAGAAACGGGGAAATGATCAAAAAGATCCAGAATGATGCTGGTGTGAGGATTCAGTTTAAACCAGATGATGGGATTAGTCCAGAAAGAGCTGCCCAGGTCATGGGCCCTCCGGATCGGTGTCAGCATGCAGCGCATATCATCAGCGAGCTGATTCTTACAGCCCAGGAAAGAGACGGCTTTGGAGGCCTGGCAGCAGCCAGAGGAAGAGGTCGTGGCCGTGGCGACTGGAGCGTGGGAGCCCCTGGTGGCGTCCAGGAGATAACATACACGGTGCCAGCCGATAAGTGTGGCCTCGTCATAGGCAAAGGGGGTGAGAACATCAAAAGCATCAACCAGCAGTCAGGGGCGCACGTGGAGCTTCAGAGGAACCCCCCTCCCAACAGCGACCCCAACCTGCGGAGATTCACCATCAGGGGGGTTCCCCAGCAGATCGAGGTGGCCAGGCAGCTCATAGATGAGAAAGTTGGCGGGACCAATCTCGGAGCACCTGGAGCCTTCGGACAGAGTCCATTCAGCCAGCCACCTGCCCCACCTCATCAAAATACCTTTCCTCCAAGGAGCTCCGGGTGCTTCCCAAACATGGCTGCCAAGGTGAATGGGAACCCCCACAGCACCCCTGTGAGTGGTCCTCCGGCCTTTCTGACCCAGGGCTGGGGCAGCACCTACCAGGCGTGGCAGCAGCCCACACAGCAGGTCCCAAGCCAGCAGAGCCAGCCGCAGAGCAGCCAGCCCAACTACAGCAAGGCCTGGGAAGACTATTACAAAAAACAGAGTCACGCCGCCAGCGCTGCTCCTCAGGCCAGCTCCCCACCGGACTACACAATGGCCTGGGCAGAATATTACAGACAGCAGGTCGCTTTCTACGGACAGACGTTAGGGCAGGCGCAGGCCCACAGCCAGGAGCAG',\n",
       " 'UTR3': 'TAGGACAGCGTCCTCGTGGCCAACTCTCCCCTCAAAATCATTGTCAAAGAAAACCTATTTGTAACAGAGGTTTTTACATTTGCAAACCTTTTGATGAAGAACTGTTGTTTTGTTCTGTGAAACACTATATTTAGATTAACGGAATTTTTCTAAAAATCAGGAAAATTAGTTACTAAAAATTGCTGATCATTTTTGTTTCATTATTTTTGTTATTTCAAATGTATAAGCTCTGGGATTCTTTTTGGAGCAATACCTACAAAGTCAGGCACCAGAATGTGCCTCAGAGCTGTGACATTTCAACATGATGGTTTTGGTTTGGTTTGGTTTTGTGTCCTTTTTATTTGCAGTTTTTTCTGTTGCAACAGAAAGTGGCTTGGAAGTCTTAGGTGGTATGTAACAAATTCTTTTTAAAAATTTTAAAGCAGTATTTAAGTATTCTTAAATGTGTAAATTCATTTAATGTTTTACTTCTAATTTCTTGTATCTTGGCTGTCTGGTTTTATTGCATTTTTAAAAAAACTGAACTATTATGTATTGTAATGAATGATGTGAATTCTGAACTGAGACAGATAATTGTATTGCTGTCCAACAGGGGTTGGGAGGGGCATTTTGTAGGGTTTGTATAATTTCTAGAGTTCGAAAGGGGTAATATAAAAATGTGCTCGTGTGTTTAGCCTACGTTTTTCTCATGCCTCCATTACCAGTTGCAATTGTGTATCTAAGACCTCCAAGCTTGTTTTTAAAACAAAACAAAAAACCTTTCTCTATTATCTCAGAAATATAAATACTGTTATTTTTAATATTAAGAAATTCAATATAACTTTTAACACACACTGTGGAACATTAAACCGTATAAAAATGTAGTTATAACTATTTTTAATTCCAAGGTGTTGTTTGCTTTTTTCTTTTAAATATTTTCTTAATATTTTGTCAGATTAACTAGATGAATAAATAAATCTAGTATTAACCGCATTATGAATTAAATAATTTTGATTTAATGAAAGGGATAATATGATTTCCAGTGTTTACTGTAGTGTATCTTGTACAGATAACATGTATTTTTAAAGGAAAAAAAACGGAATTGAAGCTATTTTTTCTTGCATTTCTAATTGACCTGAGGGACATTCCGTTTGAAATGTACTGAAGTTACAGTTTCTGGTTTTTTCTCCTTATTTTTCTTATAATGCTTGAAATGTCTAACTATTAAAAAAGACAATTGGAAAATGTTATGCATGGGGTTTTTAAGAAAACAAAGTGTTCTTTTTATTTGACTGACAATTCATTTTACACTCTATATAATAAAATCTCCACAAGGCATCTTGTGGGCAAAGTC',\n",
       " 'UTR5': 'CGGGAGGCCGGACCGGGGAGCCGAGCGGCGGCGTCGGCGGCGTCGGCGGCGGCGGCGACGGCGGCGGGGGCGGTA'}"
      ]
     },
     "execution_count": 167,
     "metadata": {},
     "output_type": "execute_result"
    }
   ],
   "source": [
    "gene_seq['ENSG00000107164']"
   ]
  },
  {
   "cell_type": "code",
   "execution_count": 173,
   "metadata": {
    "ExecuteTime": {
     "end_time": "2017-11-28T04:44:19.164795Z",
     "start_time": "2017-11-28T04:44:18.694549Z"
    }
   },
   "outputs": [
    {
     "name": "stdout",
     "output_type": "stream",
     "text": [
      "1/1 [==============================] - 0s\n"
     ]
    }
   ],
   "source": [
    "acc_test = model.predict_classes(np.array([X_test[946]]), batch_size=1)"
   ]
  },
  {
   "cell_type": "code",
   "execution_count": 186,
   "metadata": {
    "ExecuteTime": {
     "end_time": "2017-11-28T04:50:15.856142Z",
     "start_time": "2017-11-28T04:50:15.836415Z"
    }
   },
   "outputs": [],
   "source": [
    "s = ''\n",
    "for x in acc_test[0][75+1716:]:\n",
    "    if x ==0:\n",
    "        s+='P'\n",
    "    elif x==1:\n",
    "        s+='Q'\n",
    "    elif x==2:\n",
    "        s+='R'\n",
    "    "
   ]
  },
  {
   "cell_type": "code",
   "execution_count": 187,
   "metadata": {
    "ExecuteTime": {
     "end_time": "2017-11-28T04:50:16.441143Z",
     "start_time": "2017-11-28T04:50:16.433651Z"
    }
   },
   "outputs": [
    {
     "data": {
      "text/plain": [
       "'RRRRRRRRRRRRRRRRRRRRRRRRRRRRRRRRRRRRRRRRRRRRRRRRRRRRRRRRRRRRRRRRRRRRRRRRRRRRRRRRRRRRRRRRRRRRRRRRRRRRRRRRRRRRRRRRRRRRRRRRRRRRRRRRRRRRRRRRRRRRRRRRRRRRRRRRRRRRRRRRRRRRRRRRRRRRRRRRRRRRRRRRRRRRRRRRRRRRRRRRRRRRRRRRRRRRRRRRRRRRRRRRRRRRRRRRRRRRRRRRRRRRRRRRRRRRRRRRRRRRRRRRRRRRRRRRRRRRRRRRRRRRRRRRRRRRRRRRRRRRRRRRRRRRRRRRRRRRRRRRRRRRRRRRRRRRRRRRRRRRRRRRRRRRRRRRRRRRRRRRRRRRRRRRRRRRRRRRRRRRRRRRRRRRRRRRRRRRRRRRRRRRRRRRRRRRRRRRRRRRRRRRRRRRRRRRRRRRRRRRRRRRRRRRRRRRRRRRRRRRRRRRRRRRRRRRRRRRRRRRRRRRRRRRRRRRRRRRRRRRRRRRRRRRRRRRRRRRRRRRRRRRRRRRRRRRRRRRRRRRRRRRRRRRRRRRRRRRRRRRRRRRRRRRRRRRRRRRRRRRRRRRRRRRRRRRRRRRRRRRRRRRRRRRRRRRRRRRRRRRRRRRRRRRRRRRRRRRRRRRRRRRRRRRRRRRRRRRRRRRRRRRRRRRRRRRRRRRRRRRRRRRRRRRRRRRRRRRRRRRRRRRRRRRRRRRRRRRRRRRRRRRRRRRRRRRRRRRRRRRRRRRRRRRRRRRRRRRRRRRRRRRRRRRRRRRRRRRRRRRRRRRRRRRRRRRRRRRRRRRRRRRRRRRRRRRRRRRRRRRRRRRRRRRRRRRRRRRRRRRRRRRRRRRRRRRRRRRRRRRRRRRRRRRRRRRRRRRRRRRRRRRRRRRRRRRRRRRRRRRRRRRRRRRRRRRRRRRRRRRRRRRRRRRRRRRRRRRRRRRRRRRRRRRRRRRRRRRRRRRRRRRRRRRRRRRRRRRRRRRRRRRRRRRRRRRRRRRRRRRRRRRRRRRRRRRRRRRRRRRRRRRRRRRRRRRRRRRRRRRRRRRRRRRRRRRRRRRRRRRRRRRRRRRRRRRRRRRRRRRRRRRRRRRRRRRRRRRRRRRRRRRRRRRRRRRRRRRRRRRRRRRRRRRRRRRRRRRRRRRRRRRRRRRRRRRRRRRRRRRRRRRRRRRRRRRRRRRRRRRRRRRRRRRRRRRRRRRRRRRRRRRRRRRRRRRRRRRRRRRRRRRRRRRRRRRRRRRRRRRRRRRRRRRRRRRRRRRRRRRRRRRRRRRRRRRRRRRRRRRRRRRRRRRRRRRRRRRRRRRRRRRRRRRRRRRRRRRRRRRRRRRRRRRRRRRR'"
      ]
     },
     "execution_count": 187,
     "metadata": {},
     "output_type": "execute_result"
    }
   ],
   "source": [
    "s"
   ]
  },
  {
   "cell_type": "code",
   "execution_count": 172,
   "metadata": {
    "ExecuteTime": {
     "end_time": "2017-11-28T04:37:51.616447Z",
     "start_time": "2017-11-28T04:37:51.607292Z"
    }
   },
   "outputs": [
    {
     "data": {
      "text/plain": [
       "1334"
      ]
     },
     "execution_count": 172,
     "metadata": {},
     "output_type": "execute_result"
    }
   ],
   "source": [
    "len('22222222222222222222222222222222222222222222222222222222222222222222222222222222222222222222222222222222222222222222222222222222222222222222222222222222222222222222222222222222222222222222222222222222222222222222222222222222222222222222222222222222222222222222222222222222222222222222222222222222222222222222222222222222222222222222222222222222222222222222222222222222222222222222222222222222222222222222222222222222222222222222222222222222222222222222222222222222222222222222222222222222222222222222222222222222222222222222222222222222222222222222222222222222222222222222222222222222222222222222222222222222222222222222222222222222222222222222222222222222222222222222222222222222222222222222222222222222222222222222222222222222222222222222222222222222222222222222222222222222222222222222222222222222222222222222222222222222222222222222222222222222222222222222222222222222222222222222222222222222222222222222222222222222222222222222222222222222222222222222222222222222222222222222222222222222222222222222222222222222222222222222222222222222222222222222222222222222222222222222222222222222222222222222222222222222222222222222222222222222222222222222222222222222222222222222222222222222222222222222222222222222222222222222222222222222222222222222222222222222222222222222222222222222222222222222222222222222222222222222222222222222222222')"
   ]
  },
  {
   "cell_type": "code",
   "execution_count": 33,
   "metadata": {
    "ExecuteTime": {
     "end_time": "2017-11-27T20:59:46.178346Z",
     "start_time": "2017-11-27T20:59:46.171028Z"
    }
   },
   "outputs": [
    {
     "data": {
      "text/plain": [
       "'0000000000000000000000000000000000000000000000000000000000000000000001111111001111111111111111111111111111111111111111111111111111111111111111111111111111111111111111111111111111111111111111111111111111111111111111111111111111111111111111111111111111111111111111111111111111111111111111111111111111111111111111111111111111111111111111111111111111111111111111111111111111111111111111111111111111111111111111111111111111111111111111111111111111111111111111111111111111111111111111111111111111111111111111111111111111111111111111111111111111111111111111111111111111111111111111111111111111111111111111111111111111111111111111111111111111111111111111111111111111111111111111111111111111111111111111111111111111111111111111111111111111111111111111111111111111111111111111111111111111111111111111111111111111111111111111111111111111111111111111111111111111111111111111111111111111111111111111111111111111111111111111111111111111111111111111111111111111111111111111111111111111111111111111111111111111111111111111111111111111111111111111111111111111111111111111111111111111111111111111111111111111111111111111111111111111111111111111111111111111111111111111111111111111111111111111111111111111111111111111111111111111111111111111111111111111111111111111111111111111111111111111111111111111111111111111111111111111111111111111111111111111111111111111111111111111111111111111111111111111111111111111111111111111111111111111111111111111111111111111111111111111111111111111111111111111111111111111111111111111111111111111111111111111111111111111111111111111111111111111111111111111111111111111111111111111111111111111111111111111111111111111111111111111111111111111111111111111111111111111111111111111111111111111111111111111111111111111111111111111111111111111111111111111111111111111111111112222222222222222222222222222222222222222222222222222222222222222222222222222222222222222222222222222222222222222222222222222222222222222222222222222222222222222222222222222222222222222222222222222222222222222222222222222222222222222222222222222222222222222222222222222222222222222222222222222222222222222222222222222222222222222222222222222222222222222222222222222222222222222222222222222222222222222222222222222222222222222222222222222222222222222222222222222222222222222222222222222222222222222222222222222222222222222222222222222222222222222222222222222222222222222222222222222222222222222222222222222222222222222222222222222222222222222222222222222222222222222222222222222222222222222222222222222222222222222222222222222222222222222222222222222222222222222222222222222222222222222222222222222222222222222222222222222222222222222222222222222222222222222222222222222222222222222222222222222222222222222222222222222222222222222222222222222222222222222222222222222222222222222222222222222222222222222222222222222222222222222222222222222222222222222222222222222222222222222222222222222222222222222222222222222222222222222222222222222222222222222222222222222222222222222222222222222222222222222222222222222222222222222222222222222222222222222222222222222222222222222222222222222222222222222222222222222222222222222222222222222222222222222222222'"
      ]
     },
     "execution_count": 33,
     "metadata": {},
     "output_type": "execute_result"
    }
   ],
   "source": [
    "s"
   ]
  },
  {
   "cell_type": "code",
   "execution_count": 69,
   "metadata": {
    "ExecuteTime": {
     "end_time": "2017-11-28T01:05:10.916115Z",
     "start_time": "2017-11-28T01:05:10.851798Z"
    }
   },
   "outputs": [
    {
     "name": "stderr",
     "output_type": "stream",
     "text": [
      "/home/cmb-panasas2/skchoudh/software_frozen/anaconda27/envs/py35_rnn/lib/python3.5/site-packages/ipykernel/__main__.py:1: FutureWarning: \n",
      "Passing list-likes to .loc or [] with any missing label will raise\n",
      "KeyError in the future, you can use .reindex() as an alternative.\n",
      "\n",
      "See the documentation here:\n",
      "http://pandas.pydata.org/pandas-docs/stable/indexing.html#deprecate-loc-reindex-listlike\n",
      "  if __name__ == '__main__':\n"
     ]
    }
   ],
   "source": [
    "orthologous_genes = list(set(mouse_orthology.loc[training_genes].mmusculus_homolog_ensembl_gene.tolist()))"
   ]
  },
  {
   "cell_type": "code",
   "execution_count": 70,
   "metadata": {
    "ExecuteTime": {
     "end_time": "2017-11-28T01:05:11.132581Z",
     "start_time": "2017-11-28T01:05:11.096669Z"
    }
   },
   "outputs": [
    {
     "data": {
      "text/plain": [
       "[nan,\n",
       " 'ENSMUSG00000091002',\n",
       " 'ENSMUSG00000001120',\n",
       " 'ENSMUSG00000025776',\n",
       " 'ENSMUSG00000003190',\n",
       " 'ENSMUSG00000029711',\n",
       " 'ENSMUSG00000045064',\n",
       " 'ENSMUSG00000015846',\n",
       " 'ENSMUSG00000022043',\n",
       " 'ENSMUSG00000041836',\n",
       " 'ENSMUSG00000030166',\n",
       " 'ENSMUSG00000030032',\n",
       " 'ENSMUSG00000040321',\n",
       " 'ENSMUSG00000003235',\n",
       " 'ENSMUSG00000048174',\n",
       " 'ENSMUSG00000021439',\n",
       " 'ENSMUSG00000037686',\n",
       " 'ENSMUSG00000100916',\n",
       " 'ENSMUSG00000059412',\n",
       " 'ENSMUSG00000013622',\n",
       " 'ENSMUSG00000024304',\n",
       " 'ENSMUSG00000072995',\n",
       " 'ENSMUSG00000025939',\n",
       " 'ENSMUSG00000032030',\n",
       " 'ENSMUSG00000058239',\n",
       " 'ENSMUSG00000039463',\n",
       " 'ENSMUSG00000046811',\n",
       " 'ENSMUSG00000038298',\n",
       " 'ENSMUSG00000055401',\n",
       " 'ENSMUSG00000001555',\n",
       " 'ENSMUSG00000078512',\n",
       " 'ENSMUSG00000040978',\n",
       " 'ENSMUSG00000028673',\n",
       " 'ENSMUSG00000079350',\n",
       " 'ENSMUSG00000035606',\n",
       " 'ENSMUSG00000038700',\n",
       " 'ENSMUSG00000003948',\n",
       " 'ENSMUSG00000064210',\n",
       " 'ENSMUSG00000026650',\n",
       " 'ENSMUSG00000001630',\n",
       " 'ENSMUSG00000028294',\n",
       " 'ENSMUSG00000036880',\n",
       " 'ENSMUSG00000066637',\n",
       " 'ENSMUSG00000026357',\n",
       " 'ENSMUSG00000059473',\n",
       " 'ENSMUSG00000026856',\n",
       " 'ENSMUSG00000031424',\n",
       " 'ENSMUSG00000030824',\n",
       " 'ENSMUSG00000075054',\n",
       " 'ENSMUSG00000075610',\n",
       " 'ENSMUSG00000028398',\n",
       " 'ENSMUSG00000031709',\n",
       " 'ENSMUSG00000094426',\n",
       " 'ENSMUSG00000053184',\n",
       " 'ENSMUSG00000028409',\n",
       " 'ENSMUSG00000036208',\n",
       " 'ENSMUSG00000002767',\n",
       " 'ENSMUSG00000089945',\n",
       " 'ENSMUSG00000049281',\n",
       " 'ENSMUSG00000036845',\n",
       " 'ENSMUSG00000031803',\n",
       " 'ENSMUSG00000001622',\n",
       " 'ENSMUSG00000045932',\n",
       " 'ENSMUSG00000040720',\n",
       " 'ENSMUSG00000031374',\n",
       " 'ENSMUSG00000020272',\n",
       " 'ENSMUSG00000041079',\n",
       " 'ENSMUSG00000004056',\n",
       " 'ENSMUSG00000027164',\n",
       " 'ENSMUSG00000026202',\n",
       " 'ENSMUSG00000044229',\n",
       " 'ENSMUSG00000037606',\n",
       " 'ENSMUSG00000019173',\n",
       " 'ENSMUSG00000037797',\n",
       " 'ENSMUSG00000036854',\n",
       " 'ENSMUSG00000027398',\n",
       " 'ENSMUSG00000096506',\n",
       " 'ENSMUSG00000054474',\n",
       " 'ENSMUSG00000031770',\n",
       " 'ENSMUSG00000041697',\n",
       " 'ENSMUSG00000047638',\n",
       " 'ENSMUSG00000042406',\n",
       " 'ENSMUSG00000022431',\n",
       " 'ENSMUSG00000029397',\n",
       " 'ENSMUSG00000027720',\n",
       " 'ENSMUSG00000035305',\n",
       " 'ENSMUSG00000002814',\n",
       " 'ENSMUSG00000027636',\n",
       " 'ENSMUSG00000028148',\n",
       " 'ENSMUSG00000021214',\n",
       " 'ENSMUSG00000021773',\n",
       " 'ENSMUSG00000005774',\n",
       " 'ENSMUSG00000028405',\n",
       " 'ENSMUSG00000079304',\n",
       " 'ENSMUSG00000007036',\n",
       " 'ENSMUSG00000030110',\n",
       " 'ENSMUSG00000097487',\n",
       " 'ENSMUSG00000049723',\n",
       " 'ENSMUSG00000020386',\n",
       " 'ENSMUSG00000020490',\n",
       " 'ENSMUSG00000008153',\n",
       " 'ENSMUSG00000026955',\n",
       " 'ENSMUSG00000033182',\n",
       " 'ENSMUSG00000056197',\n",
       " 'ENSMUSG00000059343',\n",
       " 'ENSMUSG00000025650',\n",
       " 'ENSMUSG00000042312',\n",
       " 'ENSMUSG00000020912',\n",
       " 'ENSMUSG00000049422',\n",
       " 'ENSMUSG00000071235',\n",
       " 'ENSMUSG00000038268',\n",
       " 'ENSMUSG00000026835',\n",
       " 'ENSMUSG00000037703',\n",
       " 'ENSMUSG00000058254',\n",
       " 'ENSMUSG00000059842',\n",
       " 'ENSMUSG00000030707',\n",
       " 'ENSMUSG00000063129',\n",
       " 'ENSMUSG00000025982',\n",
       " 'ENSMUSG00000039461',\n",
       " 'ENSMUSG00000030177',\n",
       " 'ENSMUSG00000040463',\n",
       " 'ENSMUSG00000001986',\n",
       " 'ENSMUSG00000039470',\n",
       " 'ENSMUSG00000024146',\n",
       " 'ENSMUSG00000026333',\n",
       " 'ENSMUSG00000020599',\n",
       " 'ENSMUSG00000036572',\n",
       " 'ENSMUSG00000069094',\n",
       " 'ENSMUSG00000054594',\n",
       " 'ENSMUSG00000021621',\n",
       " 'ENSMUSG00000027206',\n",
       " 'ENSMUSG00000021130',\n",
       " 'ENSMUSG00000054582',\n",
       " 'ENSMUSG00000036114',\n",
       " 'ENSMUSG00000035969',\n",
       " 'ENSMUSG00000068614',\n",
       " 'ENSMUSG00000026073',\n",
       " 'ENSMUSG00000032532',\n",
       " 'ENSMUSG00000040935',\n",
       " 'ENSMUSG00000035246',\n",
       " 'ENSMUSG00000092192',\n",
       " 'ENSMUSG00000002297',\n",
       " 'ENSMUSG00000033102',\n",
       " 'ENSMUSG00000011658',\n",
       " 'ENSMUSG00000033825',\n",
       " 'ENSMUSG00000075420',\n",
       " 'ENSMUSG00000032306',\n",
       " 'ENSMUSG00000030281',\n",
       " 'ENSMUSG00000056211',\n",
       " 'ENSMUSG00000050786',\n",
       " 'ENSMUSG00000091956',\n",
       " 'ENSMUSG00000024815',\n",
       " 'ENSMUSG00000031118',\n",
       " 'ENSMUSG00000036473',\n",
       " 'ENSMUSG00000024206',\n",
       " 'ENSMUSG00000036278',\n",
       " 'ENSMUSG00000033436',\n",
       " 'ENSMUSG00000033955',\n",
       " 'ENSMUSG00000090556',\n",
       " 'ENSMUSG00000036990',\n",
       " 'ENSMUSG00000002781',\n",
       " 'ENSMUSG00000044894',\n",
       " 'ENSMUSG00000101389',\n",
       " 'ENSMUSG00000071311',\n",
       " 'ENSMUSG00000001751',\n",
       " 'ENSMUSG00000038213',\n",
       " 'ENSMUSG00000021583',\n",
       " 'ENSMUSG00000040618',\n",
       " 'ENSMUSG00000052374',\n",
       " 'ENSMUSG00000098387',\n",
       " 'ENSMUSG00000048029',\n",
       " 'ENSMUSG00000087303',\n",
       " 'ENSMUSG00000044787',\n",
       " 'ENSMUSG00000067441',\n",
       " 'ENSMUSG00000063364',\n",
       " 'ENSMUSG00000041886',\n",
       " 'ENSMUSG00000042861',\n",
       " 'ENSMUSG00000025577',\n",
       " 'ENSMUSG00000054008',\n",
       " 'ENSMUSG00000060090',\n",
       " 'ENSMUSG00000010044',\n",
       " 'ENSMUSG00000025917',\n",
       " 'ENSMUSG00000058794',\n",
       " 'ENSMUSG00000024349',\n",
       " 'ENSMUSG00000047150',\n",
       " 'ENSMUSG00000027122',\n",
       " 'ENSMUSG00000039055',\n",
       " 'ENSMUSG00000034211',\n",
       " 'ENSMUSG00000025743',\n",
       " 'ENSMUSG00000079056',\n",
       " 'ENSMUSG00000041135',\n",
       " 'ENSMUSG00000004035',\n",
       " 'ENSMUSG00000001023',\n",
       " 'ENSMUSG00000052392',\n",
       " 'ENSMUSG00000043183',\n",
       " 'ENSMUSG00000057439',\n",
       " 'ENSMUSG00000037742',\n",
       " 'ENSMUSG00000024826',\n",
       " 'ENSMUSG00000001403',\n",
       " 'ENSMUSG00000022295',\n",
       " 'ENSMUSG00000054659',\n",
       " 'ENSMUSG00000021665',\n",
       " 'ENSMUSG00000026779',\n",
       " 'ENSMUSG00000048701',\n",
       " 'ENSMUSG00000009092',\n",
       " 'ENSMUSG00000050122',\n",
       " 'ENSMUSG00000056912',\n",
       " 'ENSMUSG00000025068',\n",
       " 'ENSMUSG00000040478',\n",
       " 'ENSMUSG00000042626',\n",
       " 'ENSMUSG00000095143',\n",
       " 'ENSMUSG00000032769',\n",
       " 'ENSMUSG00000064090',\n",
       " 'ENSMUSG00000034706',\n",
       " 'ENSMUSG00000027341',\n",
       " 'ENSMUSG00000021134',\n",
       " 'ENSMUSG00000037172',\n",
       " 'ENSMUSG00000041219',\n",
       " 'ENSMUSG00000029442',\n",
       " 'ENSMUSG00000021301',\n",
       " 'ENSMUSG00000029471',\n",
       " 'ENSMUSG00000073563',\n",
       " 'ENSMUSG00000056458',\n",
       " 'ENSMUSG00000000204',\n",
       " 'ENSMUSG00000047026',\n",
       " 'ENSMUSG00000029804',\n",
       " 'ENSMUSG00000001739',\n",
       " 'ENSMUSG00000073888',\n",
       " 'ENSMUSG00000063011',\n",
       " 'ENSMUSG00000091938',\n",
       " 'ENSMUSG00000006464',\n",
       " 'ENSMUSG00000027556',\n",
       " 'ENSMUSG00000059246',\n",
       " 'ENSMUSG00000057897',\n",
       " 'ENSMUSG00000032577',\n",
       " 'ENSMUSG00000031354',\n",
       " 'ENSMUSG00000039680',\n",
       " 'ENSMUSG00000025927',\n",
       " 'ENSMUSG00000032098',\n",
       " 'ENSMUSG00000110040',\n",
       " 'ENSMUSG00000030083',\n",
       " 'ENSMUSG00000090733',\n",
       " 'ENSMUSG00000021376',\n",
       " 'ENSMUSG00000004038',\n",
       " 'ENSMUSG00000041193',\n",
       " 'ENSMUSG00000072640',\n",
       " 'ENSMUSG00000062580',\n",
       " 'ENSMUSG00000036073',\n",
       " 'ENSMUSG00000021054',\n",
       " 'ENSMUSG00000020359',\n",
       " 'ENSMUSG00000048424',\n",
       " 'ENSMUSG00000009073',\n",
       " 'ENSMUSG00000078626',\n",
       " 'ENSMUSG00000068587',\n",
       " 'ENSMUSG00000061815',\n",
       " 'ENSMUSG00000024870',\n",
       " 'ENSMUSG00000022484',\n",
       " 'ENSMUSG00000053862',\n",
       " 'ENSMUSG00000066688',\n",
       " 'ENSMUSG00000048865',\n",
       " 'ENSMUSG00000027067',\n",
       " 'ENSMUSG00000020248',\n",
       " 'ENSMUSG00000035078',\n",
       " 'ENSMUSG00000022199',\n",
       " 'ENSMUSG00000064023',\n",
       " 'ENSMUSG00000087376',\n",
       " 'ENSMUSG00000022040',\n",
       " 'ENSMUSG00000023075',\n",
       " 'ENSMUSG00000040013',\n",
       " 'ENSMUSG00000098140',\n",
       " 'ENSMUSG00000039242',\n",
       " 'ENSMUSG00000020111',\n",
       " 'ENSMUSG00000053395',\n",
       " 'ENSMUSG00000007777',\n",
       " 'ENSMUSG00000000183',\n",
       " 'ENSMUSG00000045826',\n",
       " 'ENSMUSG00000020889',\n",
       " 'ENSMUSG00000028089',\n",
       " 'ENSMUSG00000049168',\n",
       " 'ENSMUSG00000002500',\n",
       " 'ENSMUSG00000037573',\n",
       " 'ENSMUSG00000024527',\n",
       " 'ENSMUSG00000027641',\n",
       " 'ENSMUSG00000024827',\n",
       " 'ENSMUSG00000079164',\n",
       " 'ENSMUSG00000107283',\n",
       " 'ENSMUSG00000090019',\n",
       " 'ENSMUSG00000025991',\n",
       " 'ENSMUSG00000033961',\n",
       " 'ENSMUSG00000039960',\n",
       " 'ENSMUSG00000026822',\n",
       " 'ENSMUSG00000028873',\n",
       " 'ENSMUSG00000035836',\n",
       " 'ENSMUSG00000038013',\n",
       " 'ENSMUSG00000032333',\n",
       " 'ENSMUSG00000041237',\n",
       " 'ENSMUSG00000022427',\n",
       " 'ENSMUSG00000048312',\n",
       " 'ENSMUSG00000073423',\n",
       " 'ENSMUSG00000027420',\n",
       " 'ENSMUSG00000021940',\n",
       " 'ENSMUSG00000002799',\n",
       " 'ENSMUSG00000031952',\n",
       " 'ENSMUSG00000037754',\n",
       " 'ENSMUSG00000071185',\n",
       " 'ENSMUSG00000003484',\n",
       " 'ENSMUSG00000037727',\n",
       " 'ENSMUSG00000035198',\n",
       " 'ENSMUSG00000025332',\n",
       " 'ENSMUSG00000035441',\n",
       " 'ENSMUSG00000006782',\n",
       " 'ENSMUSG00000026439',\n",
       " 'ENSMUSG00000076432',\n",
       " 'ENSMUSG00000078901',\n",
       " 'ENSMUSG00000028019',\n",
       " 'ENSMUSG00000059031',\n",
       " 'ENSMUSG00000026810',\n",
       " 'ENSMUSG00000041025',\n",
       " 'ENSMUSG00000024404',\n",
       " 'ENSMUSG00000027248',\n",
       " 'ENSMUSG00000055053',\n",
       " 'ENSMUSG00000030029',\n",
       " 'ENSMUSG00000005547',\n",
       " 'ENSMUSG00000044067',\n",
       " 'ENSMUSG00000052957',\n",
       " 'ENSMUSG00000022529',\n",
       " 'ENSMUSG00000038216',\n",
       " 'ENSMUSG00000023827',\n",
       " 'ENSMUSG00000030774',\n",
       " 'ENSMUSG00000028803',\n",
       " 'ENSMUSG00000030858',\n",
       " 'ENSMUSG00000072259',\n",
       " 'ENSMUSG00000051790',\n",
       " 'ENSMUSG00000061576',\n",
       " 'ENSMUSG00000036989',\n",
       " 'ENSMUSG00000062761',\n",
       " 'ENSMUSG00000029802',\n",
       " 'ENSMUSG00000025351',\n",
       " 'ENSMUSG00000035666',\n",
       " 'ENSMUSG00000034842',\n",
       " 'ENSMUSG00000025929',\n",
       " 'ENSMUSG00000033307',\n",
       " 'ENSMUSG00000049307',\n",
       " 'ENSMUSG00000036533',\n",
       " 'ENSMUSG00000006057',\n",
       " 'ENSMUSG00000091775',\n",
       " 'ENSMUSG00000021259',\n",
       " 'ENSMUSG00000034994',\n",
       " 'ENSMUSG00000027368',\n",
       " 'ENSMUSG00000086965',\n",
       " 'ENSMUSG00000070732',\n",
       " 'ENSMUSG00000038372',\n",
       " 'ENSMUSG00000034551',\n",
       " 'ENSMUSG00000002633',\n",
       " 'ENSMUSG00000017817',\n",
       " 'ENSMUSG00000026434',\n",
       " 'ENSMUSG00000036299',\n",
       " 'ENSMUSG00000060332',\n",
       " 'ENSMUSG00000027333',\n",
       " 'ENSMUSG00000034116',\n",
       " 'ENSMUSG00000028106',\n",
       " 'ENSMUSG00000000339',\n",
       " 'ENSMUSG00000036921',\n",
       " 'ENSMUSG00000038582',\n",
       " 'ENSMUSG00000068329',\n",
       " 'ENSMUSG00000074261',\n",
       " 'ENSMUSG00000023944',\n",
       " 'ENSMUSG00000027797',\n",
       " 'ENSMUSG00000028821',\n",
       " 'ENSMUSG00000020116',\n",
       " 'ENSMUSG00000051223',\n",
       " 'ENSMUSG00000037306',\n",
       " 'ENSMUSG00000003518',\n",
       " 'ENSMUSG00000001380',\n",
       " 'ENSMUSG00000074720',\n",
       " 'ENSMUSG00000044279',\n",
       " 'ENSMUSG00000044556',\n",
       " 'ENSMUSG00000062564',\n",
       " 'ENSMUSG00000032690',\n",
       " 'ENSMUSG00000064068',\n",
       " 'ENSMUSG00000020572',\n",
       " 'ENSMUSG00000066595',\n",
       " 'ENSMUSG00000033578',\n",
       " 'ENSMUSG00000078354',\n",
       " 'ENSMUSG00000068083',\n",
       " 'ENSMUSG00000028617',\n",
       " 'ENSMUSG00000035069',\n",
       " 'ENSMUSG00000004105',\n",
       " 'ENSMUSG00000014747',\n",
       " 'ENSMUSG00000046805',\n",
       " 'ENSMUSG00000024207',\n",
       " 'ENSMUSG00000022750',\n",
       " 'ENSMUSG00000055720',\n",
       " 'ENSMUSG00000024301',\n",
       " 'ENSMUSG00000031757',\n",
       " 'ENSMUSG00000018341',\n",
       " 'ENSMUSG00000034075',\n",
       " 'ENSMUSG00000045102',\n",
       " 'ENSMUSG00000021519',\n",
       " 'ENSMUSG00000014767',\n",
       " 'ENSMUSG00000022454',\n",
       " 'ENSMUSG00000074264',\n",
       " 'ENSMUSG00000046694',\n",
       " 'ENSMUSG00000078940',\n",
       " 'ENSMUSG00000094559',\n",
       " 'ENSMUSG00000045004',\n",
       " 'ENSMUSG00000043811',\n",
       " 'ENSMUSG00000046908',\n",
       " 'ENSMUSG00000046961',\n",
       " 'ENSMUSG00000024650',\n",
       " 'ENSMUSG00000057723',\n",
       " 'ENSMUSG00000068105',\n",
       " 'ENSMUSG00000020328',\n",
       " 'ENSMUSG00000062278',\n",
       " 'ENSMUSG00000035580',\n",
       " 'ENSMUSG00000035049',\n",
       " 'ENSMUSG00000031819',\n",
       " 'ENSMUSG00000021420',\n",
       " 'ENSMUSG00000006288',\n",
       " 'ENSMUSG00000020268',\n",
       " 'ENSMUSG00000020692',\n",
       " 'ENSMUSG00000015242',\n",
       " 'ENSMUSG00000029570',\n",
       " 'ENSMUSG00000075551',\n",
       " 'ENSMUSG00000023348',\n",
       " 'ENSMUSG00000048924',\n",
       " 'ENSMUSG00000027484',\n",
       " 'ENSMUSG00000075219',\n",
       " 'ENSMUSG00000100642',\n",
       " 'ENSMUSG00000026767',\n",
       " 'ENSMUSG00000054792',\n",
       " 'ENSMUSG00000020657',\n",
       " 'ENSMUSG00000056204',\n",
       " 'ENSMUSG00000026427',\n",
       " 'ENSMUSG00000051154',\n",
       " 'ENSMUSG00000024666',\n",
       " 'ENSMUSG00000051727',\n",
       " 'ENSMUSG00000033111',\n",
       " 'ENSMUSG00000056515',\n",
       " 'ENSMUSG00000027346',\n",
       " 'ENSMUSG00000050896',\n",
       " 'ENSMUSG00000046982',\n",
       " 'ENSMUSG00000100622',\n",
       " 'ENSMUSG00000009292',\n",
       " 'ENSMUSG00000029458',\n",
       " 'ENSMUSG00000052821',\n",
       " 'ENSMUSG00000015542',\n",
       " 'ENSMUSG00000005892',\n",
       " 'ENSMUSG00000042918',\n",
       " 'ENSMUSG00000034768',\n",
       " 'ENSMUSG00000002908',\n",
       " 'ENSMUSG00000025607',\n",
       " 'ENSMUSG00000067704',\n",
       " 'ENSMUSG00000027107',\n",
       " 'ENSMUSG00000030987',\n",
       " 'ENSMUSG00000031780',\n",
       " 'ENSMUSG00000029629',\n",
       " 'ENSMUSG00000020793',\n",
       " 'ENSMUSG00000007891',\n",
       " 'ENSMUSG00000036832',\n",
       " 'ENSMUSG00000018740',\n",
       " 'ENSMUSG00000034456',\n",
       " 'ENSMUSG00000032093',\n",
       " 'ENSMUSG00000063060',\n",
       " 'ENSMUSG00000022176',\n",
       " 'ENSMUSG00000036833',\n",
       " 'ENSMUSG00000053863',\n",
       " 'ENSMUSG00000026411',\n",
       " 'ENSMUSG00000030486',\n",
       " 'ENSMUSG00000022595',\n",
       " 'ENSMUSG00000068547',\n",
       " 'ENSMUSG00000071104',\n",
       " 'ENSMUSG00000024885',\n",
       " 'ENSMUSG00000027367',\n",
       " 'ENSMUSG00000025003',\n",
       " 'ENSMUSG00000031971',\n",
       " 'ENSMUSG00000003644',\n",
       " 'ENSMUSG00000058914',\n",
       " 'ENSMUSG00000062939',\n",
       " 'ENSMUSG00000031916',\n",
       " 'ENSMUSG00000026455',\n",
       " 'ENSMUSG00000030641',\n",
       " 'ENSMUSG00000030214',\n",
       " 'ENSMUSG00000073700',\n",
       " 'ENSMUSG00000025422',\n",
       " 'ENSMUSG00000020589',\n",
       " 'ENSMUSG00000046080',\n",
       " 'ENSMUSG00000025815',\n",
       " 'ENSMUSG00000024240',\n",
       " 'ENSMUSG00000009210',\n",
       " 'ENSMUSG00000038173',\n",
       " 'ENSMUSG00000090173',\n",
       " 'ENSMUSG00000042447',\n",
       " 'ENSMUSG00000058579',\n",
       " 'ENSMUSG00000021033',\n",
       " 'ENSMUSG00000054459',\n",
       " 'ENSMUSG00000022617',\n",
       " 'ENSMUSG00000026753',\n",
       " 'ENSMUSG00000071477',\n",
       " 'ENSMUSG00000022426',\n",
       " 'ENSMUSG00000052549',\n",
       " 'ENSMUSG00000056267',\n",
       " 'ENSMUSG00000076937',\n",
       " 'ENSMUSG00000000409',\n",
       " 'ENSMUSG00000068264',\n",
       " 'ENSMUSG00000031996',\n",
       " 'ENSMUSG00000005873',\n",
       " 'ENSMUSG00000024193',\n",
       " 'ENSMUSG00000096011',\n",
       " 'ENSMUSG00000052382',\n",
       " 'ENSMUSG00000095954',\n",
       " 'ENSMUSG00000033287',\n",
       " 'ENSMUSG00000002228',\n",
       " 'ENSMUSG00000096872',\n",
       " 'ENSMUSG00000032174',\n",
       " 'ENSMUSG00000025791',\n",
       " 'ENSMUSG00000080717',\n",
       " 'ENSMUSG00000021116',\n",
       " 'ENSMUSG00000044573',\n",
       " 'ENSMUSG00000028647',\n",
       " 'ENSMUSG00000027412',\n",
       " 'ENSMUSG00000040212',\n",
       " 'ENSMUSG00000038740',\n",
       " 'ENSMUSG00000032612',\n",
       " 'ENSMUSG00000022442',\n",
       " 'ENSMUSG00000044320',\n",
       " 'ENSMUSG00000090509',\n",
       " 'ENSMUSG00000094196',\n",
       " 'ENSMUSG00000027173',\n",
       " 'ENSMUSG00000078572',\n",
       " 'ENSMUSG00000061311',\n",
       " 'ENSMUSG00000029708',\n",
       " 'ENSMUSG00000014243',\n",
       " 'ENSMUSG00000009185',\n",
       " 'ENSMUSG00000021248',\n",
       " 'ENSMUSG00000029864',\n",
       " 'ENSMUSG00000018238',\n",
       " 'ENSMUSG00000031879',\n",
       " 'ENSMUSG00000001280',\n",
       " 'ENSMUSG00000025486',\n",
       " 'ENSMUSG00000002580',\n",
       " 'ENSMUSG00000052142',\n",
       " 'ENSMUSG00000024410',\n",
       " 'ENSMUSG00000021670',\n",
       " 'ENSMUSG00000021327',\n",
       " 'ENSMUSG00000029368',\n",
       " 'ENSMUSG00000021866',\n",
       " 'ENSMUSG00000001123',\n",
       " 'ENSMUSG00000029314',\n",
       " 'ENSMUSG00000050957',\n",
       " 'ENSMUSG00000032485',\n",
       " 'ENSMUSG00000042594',\n",
       " 'ENSMUSG00000015143',\n",
       " 'ENSMUSG00000000355',\n",
       " 'ENSMUSG00000009076',\n",
       " 'ENSMUSG00000018776',\n",
       " 'ENSMUSG00000032258',\n",
       " 'ENSMUSG00000059474',\n",
       " 'ENSMUSG00000091722',\n",
       " 'ENSMUSG00000079532',\n",
       " 'ENSMUSG00000025786',\n",
       " 'ENSMUSG00000031950',\n",
       " 'ENSMUSG00000095388',\n",
       " 'ENSMUSG00000025871',\n",
       " 'ENSMUSG00000028158',\n",
       " 'ENSMUSG00000026502',\n",
       " 'ENSMUSG00000070547',\n",
       " 'ENSMUSG00000059481',\n",
       " 'ENSMUSG00000090215',\n",
       " 'ENSMUSG00000036602',\n",
       " 'ENSMUSG00000053693',\n",
       " 'ENSMUSG00000031807',\n",
       " 'ENSMUSG00000020178',\n",
       " 'ENSMUSG00000049536',\n",
       " 'ENSMUSG00000028397',\n",
       " 'ENSMUSG00000050810',\n",
       " 'ENSMUSG00000019326',\n",
       " 'ENSMUSG00000027502',\n",
       " 'ENSMUSG00000021256',\n",
       " 'ENSMUSG00000059382',\n",
       " 'ENSMUSG00000053194',\n",
       " 'ENSMUSG00000041301',\n",
       " 'ENSMUSG00000033319',\n",
       " 'ENSMUSG00000037610',\n",
       " 'ENSMUSG00000046826',\n",
       " 'ENSMUSG00000061577',\n",
       " 'ENSMUSG00000049608',\n",
       " 'ENSMUSG00000025920',\n",
       " 'ENSMUSG00000096826',\n",
       " 'ENSMUSG00000021127',\n",
       " 'ENSMUSG00000000827',\n",
       " 'ENSMUSG00000038738',\n",
       " 'ENSMUSG00000047143',\n",
       " 'ENSMUSG00000026420',\n",
       " 'ENSMUSG00000110061',\n",
       " 'ENSMUSG00000024038',\n",
       " 'ENSMUSG00000037965',\n",
       " 'ENSMUSG00000015134',\n",
       " 'ENSMUSG00000042672',\n",
       " 'ENSMUSG00000050677',\n",
       " 'ENSMUSG00000044595',\n",
       " 'ENSMUSG00000001558',\n",
       " 'ENSMUSG00000092009',\n",
       " 'ENSMUSG00000032121',\n",
       " 'ENSMUSG00000031918',\n",
       " 'ENSMUSG00000022749',\n",
       " 'ENSMUSG00000025141',\n",
       " 'ENSMUSG00000070394',\n",
       " 'ENSMUSG00000025839',\n",
       " 'ENSMUSG00000052949',\n",
       " 'ENSMUSG00000061490',\n",
       " 'ENSMUSG00000016921',\n",
       " 'ENSMUSG00000027939',\n",
       " 'ENSMUSG00000056155',\n",
       " 'ENSMUSG00000058741',\n",
       " 'ENSMUSG00000031782',\n",
       " 'ENSMUSG00000027670',\n",
       " 'ENSMUSG00000044309',\n",
       " 'ENSMUSG00000031349',\n",
       " 'ENSMUSG00000028782',\n",
       " 'ENSMUSG00000026806',\n",
       " 'ENSMUSG00000045410',\n",
       " 'ENSMUSG00000026415',\n",
       " 'ENSMUSG00000032412',\n",
       " 'ENSMUSG00000031179',\n",
       " 'ENSMUSG00000019761',\n",
       " 'ENSMUSG00000037049',\n",
       " 'ENSMUSG00000063180',\n",
       " 'ENSMUSG00000039910',\n",
       " 'ENSMUSG00000050079',\n",
       " 'ENSMUSG00000091931',\n",
       " 'ENSMUSG00000007653',\n",
       " 'ENSMUSG00000035268',\n",
       " 'ENSMUSG00000041354',\n",
       " 'ENSMUSG00000045350',\n",
       " 'ENSMUSG00000034467',\n",
       " 'ENSMUSG00000025195',\n",
       " 'ENSMUSG00000004939',\n",
       " 'ENSMUSG00000024502',\n",
       " 'ENSMUSG00000031991',\n",
       " 'ENSMUSG00000034209',\n",
       " 'ENSMUSG00000031969',\n",
       " 'ENSMUSG00000067370',\n",
       " 'ENSMUSG00000040350',\n",
       " 'ENSMUSG00000090175',\n",
       " 'ENSMUSG00000020736',\n",
       " 'ENSMUSG00000026162',\n",
       " 'ENSMUSG00000109850',\n",
       " 'ENSMUSG00000030611',\n",
       " 'ENSMUSG00000038463',\n",
       " 'ENSMUSG00000038481',\n",
       " 'ENSMUSG00000037725',\n",
       " 'ENSMUSG00000022023',\n",
       " 'ENSMUSG00000040883',\n",
       " 'ENSMUSG00000002679',\n",
       " 'ENSMUSG00000007946',\n",
       " 'ENSMUSG00000051098',\n",
       " 'ENSMUSG00000035031',\n",
       " 'ENSMUSG00000001173',\n",
       " 'ENSMUSG00000026383',\n",
       " 'ENSMUSG00000059069',\n",
       " 'ENSMUSG00000035273',\n",
       " 'ENSMUSG00000020605',\n",
       " 'ENSMUSG00000019710',\n",
       " 'ENSMUSG00000086848',\n",
       " 'ENSMUSG00000000948',\n",
       " 'ENSMUSG00000034892',\n",
       " 'ENSMUSG00000001632',\n",
       " 'ENSMUSG00000021807',\n",
       " 'ENSMUSG00000036534',\n",
       " 'ENSMUSG00000059479',\n",
       " 'ENSMUSG00000036941',\n",
       " 'ENSMUSG00000037405',\n",
       " 'ENSMUSG00000041293',\n",
       " 'ENSMUSG00000030711',\n",
       " 'ENSMUSG00000026239',\n",
       " 'ENSMUSG00000052105',\n",
       " 'ENSMUSG00000107499',\n",
       " 'ENSMUSG00000024773',\n",
       " 'ENSMUSG00000028857',\n",
       " 'ENSMUSG00000026586',\n",
       " 'ENSMUSG00000050150',\n",
       " 'ENSMUSG00000000266',\n",
       " 'ENSMUSG00000026989',\n",
       " 'ENSMUSG00000029507',\n",
       " 'ENSMUSG00000072476',\n",
       " 'ENSMUSG00000047342',\n",
       " 'ENSMUSG00000001657',\n",
       " 'ENSMUSG00000046785',\n",
       " 'ENSMUSG00000004393',\n",
       " 'ENSMUSG00000005800',\n",
       " 'ENSMUSG00000021943',\n",
       " 'ENSMUSG00000030870',\n",
       " 'ENSMUSG00000000804',\n",
       " 'ENSMUSG00000001761',\n",
       " 'ENSMUSG00000041703',\n",
       " 'ENSMUSG00000028334',\n",
       " 'ENSMUSG00000054679',\n",
       " 'ENSMUSG00000041231',\n",
       " 'ENSMUSG00000022148',\n",
       " 'ENSMUSG00000066149',\n",
       " 'ENSMUSG00000083616',\n",
       " 'ENSMUSG00000031505',\n",
       " 'ENSMUSG00000073724',\n",
       " 'ENSMUSG00000028533',\n",
       " 'ENSMUSG00000096682',\n",
       " 'ENSMUSG00000044338',\n",
       " 'ENSMUSG00000031134',\n",
       " 'ENSMUSG00000069495',\n",
       " 'ENSMUSG00000041153',\n",
       " 'ENSMUSG00000041347',\n",
       " 'ENSMUSG00000040859',\n",
       " 'ENSMUSG00000034312',\n",
       " 'ENSMUSG00000020697',\n",
       " 'ENSMUSG00000055835',\n",
       " 'ENSMUSG00000089872',\n",
       " 'ENSMUSG00000029817',\n",
       " 'ENSMUSG00000051373',\n",
       " 'ENSMUSG00000029154',\n",
       " 'ENSMUSG00000020528',\n",
       " 'ENSMUSG00000057914',\n",
       " 'ENSMUSG00000095620',\n",
       " 'ENSMUSG00000033152',\n",
       " 'ENSMUSG00000052217',\n",
       " 'ENSMUSG00000029201',\n",
       " 'ENSMUSG00000040102',\n",
       " 'ENSMUSG00000079652',\n",
       " 'ENSMUSG00000029184',\n",
       " 'ENSMUSG00000034522',\n",
       " 'ENSMUSG00000023020',\n",
       " 'ENSMUSG00000058183',\n",
       " 'ENSMUSG00000030945',\n",
       " 'ENSMUSG00000022412',\n",
       " 'ENSMUSG00000068882',\n",
       " 'ENSMUSG00000009614',\n",
       " 'ENSMUSG00000033715',\n",
       " 'ENSMUSG00000021692',\n",
       " 'ENSMUSG00000050555',\n",
       " 'ENSMUSG00000029729',\n",
       " 'ENSMUSG00000026127',\n",
       " 'ENSMUSG00000025507',\n",
       " 'ENSMUSG00000002043',\n",
       " 'ENSMUSG00000070617',\n",
       " 'ENSMUSG00000026579',\n",
       " 'ENSMUSG00000050545',\n",
       " 'ENSMUSG00000034139',\n",
       " 'ENSMUSG00000025007',\n",
       " 'ENSMUSG00000034226',\n",
       " 'ENSMUSG00000048251',\n",
       " 'ENSMUSG00000021732',\n",
       " 'ENSMUSG00000035226',\n",
       " 'ENSMUSG00000059648',\n",
       " 'ENSMUSG00000025196',\n",
       " 'ENSMUSG00000042102',\n",
       " 'ENSMUSG00000015747',\n",
       " 'ENSMUSG00000045969',\n",
       " 'ENSMUSG00000057179',\n",
       " 'ENSMUSG00000035775',\n",
       " 'ENSMUSG00000020717',\n",
       " 'ENSMUSG00000020366',\n",
       " 'ENSMUSG00000041578',\n",
       " 'ENSMUSG00000030499',\n",
       " 'ENSMUSG00000032372',\n",
       " 'ENSMUSG00000031060',\n",
       " 'ENSMUSG00000074576',\n",
       " 'ENSMUSG00000023960',\n",
       " 'ENSMUSG00000060477',\n",
       " 'ENSMUSG00000089992',\n",
       " 'ENSMUSG00000072814',\n",
       " 'ENSMUSG00000020708',\n",
       " 'ENSMUSG00000067299',\n",
       " 'ENSMUSG00000054737',\n",
       " 'ENSMUSG00000022875',\n",
       " 'ENSMUSG00000025465',\n",
       " 'ENSMUSG00000090213',\n",
       " 'ENSMUSG00000029866',\n",
       " 'ENSMUSG00000054630',\n",
       " 'ENSMUSG00000099398',\n",
       " 'ENSMUSG00000025902',\n",
       " 'ENSMUSG00000044526',\n",
       " 'ENSMUSG00000024679',\n",
       " 'ENSMUSG00000053211',\n",
       " 'ENSMUSG00000066072',\n",
       " 'ENSMUSG00000066027',\n",
       " 'ENSMUSG00000024186',\n",
       " 'ENSMUSG00000050106',\n",
       " 'ENSMUSG00000058725',\n",
       " 'ENSMUSG00000036646',\n",
       " 'ENSMUSG00000026426',\n",
       " 'ENSMUSG00000055612',\n",
       " 'ENSMUSG00000074491',\n",
       " 'ENSMUSG00000022474',\n",
       " 'ENSMUSG00000061315',\n",
       " 'ENSMUSG00000017132',\n",
       " 'ENSMUSG00000058444',\n",
       " 'ENSMUSG00000025024',\n",
       " 'ENSMUSG00000054733',\n",
       " 'ENSMUSG00000068523',\n",
       " 'ENSMUSG00000063873',\n",
       " 'ENSMUSG00000021203',\n",
       " 'ENSMUSG00000040747',\n",
       " 'ENSMUSG00000006740',\n",
       " 'ENSMUSG00000030544',\n",
       " 'ENSMUSG00000015749',\n",
       " 'ENSMUSG00000079343',\n",
       " 'ENSMUSG00000044860',\n",
       " 'ENSMUSG00000069255',\n",
       " 'ENSMUSG00000035183',\n",
       " 'ENSMUSG00000073877',\n",
       " 'ENSMUSG00000029253',\n",
       " 'ENSMUSG00000047667',\n",
       " 'ENSMUSG00000056296',\n",
       " 'ENSMUSG00000033545',\n",
       " 'ENSMUSG00000044365',\n",
       " 'ENSMUSG00000018672',\n",
       " 'ENSMUSG00000062074',\n",
       " 'ENSMUSG00000043065',\n",
       " 'ENSMUSG00000025945',\n",
       " 'ENSMUSG00000040987',\n",
       " 'ENSMUSG00000003031',\n",
       " 'ENSMUSG00000026933',\n",
       " 'ENSMUSG00000034336',\n",
       " 'ENSMUSG00000052544',\n",
       " 'ENSMUSG00000062410',\n",
       " 'ENSMUSG00000028865',\n",
       " 'ENSMUSG00000022542',\n",
       " 'ENSMUSG00000037235',\n",
       " 'ENSMUSG00000031924',\n",
       " 'ENSMUSG00000023018',\n",
       " 'ENSMUSG00000008438',\n",
       " 'ENSMUSG00000036872',\n",
       " 'ENSMUSG00000027009',\n",
       " 'ENSMUSG00000092166',\n",
       " 'ENSMUSG00000058385',\n",
       " 'ENSMUSG00000030647',\n",
       " 'ENSMUSG00000016541',\n",
       " 'ENSMUSG00000041096',\n",
       " 'ENSMUSG00000002699',\n",
       " 'ENSMUSG00000079563',\n",
       " 'ENSMUSG00000090394',\n",
       " 'ENSMUSG00000029141',\n",
       " 'ENSMUSG00000031750',\n",
       " 'ENSMUSG00000042408',\n",
       " 'ENSMUSG00000030584',\n",
       " 'ENSMUSG00000034891',\n",
       " 'ENSMUSG00000022864',\n",
       " 'ENSMUSG00000042599',\n",
       " 'ENSMUSG00000021070',\n",
       " 'ENSMUSG00000059218',\n",
       " 'ENSMUSG00000109238',\n",
       " 'ENSMUSG00000020400',\n",
       " 'ENSMUSG00000057770',\n",
       " 'ENSMUSG00000030167',\n",
       " 'ENSMUSG00000060487',\n",
       " 'ENSMUSG00000090110',\n",
       " 'ENSMUSG00000049122',\n",
       " 'ENSMUSG00000037028',\n",
       " 'ENSMUSG00000028838',\n",
       " 'ENSMUSG00000021919',\n",
       " 'ENSMUSG00000028243',\n",
       " 'ENSMUSG00000069662',\n",
       " 'ENSMUSG00000033706',\n",
       " 'ENSMUSG00000050921',\n",
       " 'ENSMUSG00000045689',\n",
       " 'ENSMUSG00000086875',\n",
       " 'ENSMUSG00000024497',\n",
       " 'ENSMUSG00000037166',\n",
       " 'ENSMUSG00000027281',\n",
       " 'ENSMUSG00000044068',\n",
       " 'ENSMUSG00000026585',\n",
       " 'ENSMUSG00000066975',\n",
       " 'ENSMUSG00000070544',\n",
       " 'ENSMUSG00000019823',\n",
       " 'ENSMUSG00000071636',\n",
       " 'ENSMUSG00000036938',\n",
       " 'ENSMUSG00000056671',\n",
       " 'ENSMUSG00000055945',\n",
       " 'ENSMUSG00000032350',\n",
       " 'ENSMUSG00000025165',\n",
       " 'ENSMUSG00000045364',\n",
       " 'ENSMUSG00000109588',\n",
       " 'ENSMUSG00000029156',\n",
       " 'ENSMUSG00000010592',\n",
       " 'ENSMUSG00000039521',\n",
       " 'ENSMUSG00000029722',\n",
       " 'ENSMUSG00000049929',\n",
       " 'ENSMUSG00000022761',\n",
       " 'ENSMUSG00000023353',\n",
       " 'ENSMUSG00000019295',\n",
       " 'ENSMUSG00000040843',\n",
       " 'ENSMUSG00000048329',\n",
       " 'ENSMUSG00000039395',\n",
       " 'ENSMUSG00000032691',\n",
       " 'ENSMUSG00000070473',\n",
       " 'ENSMUSG00000003546',\n",
       " 'ENSMUSG00000042477',\n",
       " 'ENSMUSG00000019920',\n",
       " 'ENSMUSG00000031660',\n",
       " 'ENSMUSG00000014813',\n",
       " 'ENSMUSG00000020681',\n",
       " 'ENSMUSG00000026254',\n",
       " 'ENSMUSG00000060756',\n",
       " 'ENSMUSG00000071716',\n",
       " 'ENSMUSG00000037872',\n",
       " 'ENSMUSG00000002100',\n",
       " 'ENSMUSG00000024066',\n",
       " 'ENSMUSG00000045053',\n",
       " 'ENSMUSG00000074734',\n",
       " 'ENSMUSG00000026011',\n",
       " 'ENSMUSG00000035427',\n",
       " 'ENSMUSG00000031617',\n",
       " 'ENSMUSG00000090700',\n",
       " 'ENSMUSG00000040651',\n",
       " 'ENSMUSG00000028953',\n",
       " 'ENSMUSG00000042717',\n",
       " 'ENSMUSG00000000142',\n",
       " 'ENSMUSG00000039720',\n",
       " 'ENSMUSG00000084786',\n",
       " 'ENSMUSG00000057425',\n",
       " 'ENSMUSG00000045575',\n",
       " 'ENSMUSG00000037544',\n",
       " 'ENSMUSG00000053137',\n",
       " 'ENSMUSG00000066415',\n",
       " 'ENSMUSG00000037890',\n",
       " 'ENSMUSG00000110344',\n",
       " 'ENSMUSG00000025170',\n",
       " 'ENSMUSG00000026177',\n",
       " 'ENSMUSG00000055692',\n",
       " 'ENSMUSG00000048280',\n",
       " 'ENSMUSG00000073062',\n",
       " 'ENSMUSG00000026347',\n",
       " 'ENSMUSG00000033200',\n",
       " 'ENSMUSG00000049404',\n",
       " 'ENSMUSG00000032905',\n",
       " 'ENSMUSG00000034022',\n",
       " 'ENSMUSG00000026456',\n",
       " 'ENSMUSG00000095236',\n",
       " 'ENSMUSG00000024041',\n",
       " 'ENSMUSG00000061802',\n",
       " 'ENSMUSG00000022195',\n",
       " 'ENSMUSG00000028621',\n",
       " 'ENSMUSG00000024217',\n",
       " 'ENSMUSG00000019905',\n",
       " 'ENSMUSG00000041669',\n",
       " 'ENSMUSG00000055298',\n",
       " 'ENSMUSG00000070713',\n",
       " 'ENSMUSG00000031816',\n",
       " 'ENSMUSG00000070495',\n",
       " 'ENSMUSG00000031576',\n",
       " 'ENSMUSG00000063730',\n",
       " 'ENSMUSG00000029387',\n",
       " 'ENSMUSG00000041670',\n",
       " 'ENSMUSG00000066441',\n",
       " 'ENSMUSG00000047139',\n",
       " 'ENSMUSG00000028125',\n",
       " 'ENSMUSG00000053510',\n",
       " 'ENSMUSG00000033792',\n",
       " 'ENSMUSG00000044030',\n",
       " 'ENSMUSG00000036295',\n",
       " 'ENSMUSG00000042380',\n",
       " 'ENSMUSG00000089675',\n",
       " 'ENSMUSG00000001794',\n",
       " 'ENSMUSG00000053205',\n",
       " 'ENSMUSG00000005078',\n",
       " 'ENSMUSG00000016524',\n",
       " 'ENSMUSG00000029401',\n",
       " 'ENSMUSG00000032122',\n",
       " 'ENSMUSG00000022159',\n",
       " 'ENSMUSG00000060802',\n",
       " 'ENSMUSG00000005681',\n",
       " 'ENSMUSG00000045318',\n",
       " 'ENSMUSG00000069805',\n",
       " 'ENSMUSG00000043410',\n",
       " 'ENSMUSG00000061740',\n",
       " 'ENSMUSG00000031298',\n",
       " 'ENSMUSG00000042289',\n",
       " 'ENSMUSG00000028114',\n",
       " 'ENSMUSG00000066090',\n",
       " 'ENSMUSG00000029452',\n",
       " 'ENSMUSG00000063015',\n",
       " 'ENSMUSG00000032251',\n",
       " 'ENSMUSG00000020946',\n",
       " 'ENSMUSG00000038855',\n",
       " 'ENSMUSG00000004270',\n",
       " 'ENSMUSG00000075703',\n",
       " 'ENSMUSG00000070335',\n",
       " 'ENSMUSG00000016940',\n",
       " 'ENSMUSG00000085793',\n",
       " 'ENSMUSG00000095377',\n",
       " 'ENSMUSG00000059498',\n",
       " 'ENSMUSG00000034560',\n",
       " 'ENSMUSG00000037190',\n",
       " 'ENSMUSG00000015354',\n",
       " 'ENSMUSG00000049721',\n",
       " 'ENSMUSG00000019936',\n",
       " 'ENSMUSG00000046722',\n",
       " 'ENSMUSG00000032741',\n",
       " 'ENSMUSG00000026463',\n",
       " 'ENSMUSG00000028864',\n",
       " 'ENSMUSG00000024750',\n",
       " ...]"
      ]
     },
     "execution_count": 70,
     "metadata": {},
     "output_type": "execute_result"
    }
   ],
   "source": [
    "orthologous_genes"
   ]
  },
  {
   "cell_type": "code",
   "execution_count": 132,
   "metadata": {
    "ExecuteTime": {
     "end_time": "2017-11-28T01:44:17.498084Z",
     "start_time": "2017-11-28T01:44:15.200852Z"
    }
   },
   "outputs": [],
   "source": [
    "mouse_non_orthologous_genes_accuracy_train = []\n",
    "for index, acc in enumerate(mouse_acc_train):\n",
    "    gene = mouse_training_genes_filtered[index]\n",
    "    if gene not in orthologous_genes:\n",
    "        mouse_non_orthologous_genes_accuracy_train.append(acc)\n",
    "    "
   ]
  },
  {
   "cell_type": "code",
   "execution_count": 133,
   "metadata": {
    "ExecuteTime": {
     "end_time": "2017-11-28T01:44:18.644612Z",
     "start_time": "2017-11-28T01:44:17.505489Z"
    }
   },
   "outputs": [],
   "source": [
    "mouse_non_orthologous_genes_accuracy_test = []\n",
    "for index, acc in enumerate(mouse_acc_test):\n",
    "    gene = mouse_test_genes_filtered[index]\n",
    "    if gene not in orthologous_genes:\n",
    "        mouse_non_orthologous_genes_accuracy_test.append(acc)\n",
    "    "
   ]
  },
  {
   "cell_type": "code",
   "execution_count": 76,
   "metadata": {
    "ExecuteTime": {
     "end_time": "2017-11-28T01:09:03.469743Z",
     "start_time": "2017-11-28T01:09:03.463346Z"
    }
   },
   "outputs": [],
   "source": [
    "accuracy_above_9_train = np.where(mouse_acc_train>0.9)"
   ]
  },
  {
   "cell_type": "code",
   "execution_count": 81,
   "metadata": {
    "ExecuteTime": {
     "end_time": "2017-11-28T01:09:38.969874Z",
     "start_time": "2017-11-28T01:09:38.960465Z"
    }
   },
   "outputs": [
    {
     "data": {
      "text/plain": [
       "2035"
      ]
     },
     "execution_count": 81,
     "metadata": {},
     "output_type": "execute_result"
    }
   ],
   "source": [
    "len(accuracy_above_9_train[0])"
   ]
  },
  {
   "cell_type": "code",
   "execution_count": 78,
   "metadata": {
    "ExecuteTime": {
     "end_time": "2017-11-28T01:09:14.087820Z",
     "start_time": "2017-11-28T01:09:14.081854Z"
    }
   },
   "outputs": [],
   "source": [
    "accuracy_above_9_test = np.where(mouse_acc_test>0.9)"
   ]
  },
  {
   "cell_type": "code",
   "execution_count": 82,
   "metadata": {
    "ExecuteTime": {
     "end_time": "2017-11-28T01:09:44.379253Z",
     "start_time": "2017-11-28T01:09:44.371141Z"
    }
   },
   "outputs": [
    {
     "data": {
      "text/plain": [
       "886"
      ]
     },
     "execution_count": 82,
     "metadata": {},
     "output_type": "execute_result"
    }
   ],
   "source": [
    "len(accuracy_above_9_test[0])"
   ]
  },
  {
   "cell_type": "code",
   "execution_count": 85,
   "metadata": {
    "ExecuteTime": {
     "end_time": "2017-11-28T01:11:19.395716Z",
     "start_time": "2017-11-28T01:11:18.903777Z"
    }
   },
   "outputs": [],
   "source": [
    "non_orthologous_train_with_gt_9 = []\n",
    "for index in accuracy_above_9_train[0]:\n",
    "    gene = mouse_training_genes_filtered[index]\n",
    "    if gene not in orthologous_genes:\n",
    "        non_orthologous_train_with_gt_9.append((gene, index))\n",
    "        "
   ]
  },
  {
   "cell_type": "code",
   "execution_count": 87,
   "metadata": {
    "ExecuteTime": {
     "end_time": "2017-11-28T01:12:04.534469Z",
     "start_time": "2017-11-28T01:12:04.280314Z"
    }
   },
   "outputs": [],
   "source": [
    "non_orthologous_test_with_gt_9 = []\n",
    "for index in accuracy_above_9_test[0]:\n",
    "    gene = mouse_test_genes_filtered[index]\n",
    "    if gene not in orthologous_genes:\n",
    "        non_orthologous_test_with_gt_9.append((gene, index))\n",
    "        "
   ]
  },
  {
   "cell_type": "code",
   "execution_count": 88,
   "metadata": {
    "ExecuteTime": {
     "end_time": "2017-11-28T01:12:08.948524Z",
     "start_time": "2017-11-28T01:12:08.833720Z"
    }
   },
   "outputs": [
    {
     "data": {
      "text/plain": [
       "[('ENSMUSG00000028461', 4),\n",
       " ('ENSMUSG00000094200', 26),\n",
       " ('ENSMUSG00000051095', 36),\n",
       " ('ENSMUSG00000100856', 41),\n",
       " ('ENSMUSG00000093993', 42),\n",
       " ('ENSMUSG00000052012', 46),\n",
       " ('ENSMUSG00000052012', 52),\n",
       " ('ENSMUSG00000079702', 60),\n",
       " ('ENSMUSG00000041165', 62),\n",
       " ('ENSMUSG00000068082', 75),\n",
       " ('ENSMUSG00000079299', 85),\n",
       " ('ENSMUSG00000099894', 93),\n",
       " ('ENSMUSG00000093895', 94),\n",
       " ('ENSMUSG00000100972', 97),\n",
       " ('ENSMUSG00000031896', 117),\n",
       " ('ENSMUSG00000044120', 123),\n",
       " ('ENSMUSG00000101766', 130),\n",
       " ('ENSMUSG00000108367', 144),\n",
       " ('ENSMUSG00000094181', 153),\n",
       " ('ENSMUSG00000090515', 160),\n",
       " ('ENSMUSG00000094647', 175),\n",
       " ('ENSMUSG00000061991', 179),\n",
       " ('ENSMUSG00000095135', 189),\n",
       " ('ENSMUSG00000068082', 204),\n",
       " ('ENSMUSG00000101146', 213),\n",
       " ('ENSMUSG00000110104', 214),\n",
       " ('ENSMUSG00000091101', 217),\n",
       " ('ENSMUSG00000078131', 231),\n",
       " ('ENSMUSG00000043314', 232),\n",
       " ('ENSMUSG00000015672', 269),\n",
       " ('ENSMUSG00000103371', 277),\n",
       " ('ENSMUSG00000079626', 297),\n",
       " ('ENSMUSG00000029136', 303),\n",
       " ('ENSMUSG00000018286', 329),\n",
       " ('ENSMUSG00000100856', 333),\n",
       " ('ENSMUSG00000101915', 359),\n",
       " ('ENSMUSG00000094311', 367),\n",
       " ('ENSMUSG00000068879', 384),\n",
       " ('ENSMUSG00000044485', 396),\n",
       " ('ENSMUSG00000100045', 402),\n",
       " ('ENSMUSG00000061616', 407),\n",
       " ('ENSMUSG00000047225', 459),\n",
       " ('ENSMUSG00000030049', 473),\n",
       " ('ENSMUSG00000063177', 475),\n",
       " ('ENSMUSG00000099517', 488),\n",
       " ('ENSMUSG00000073931', 511),\n",
       " ('ENSMUSG00000109659', 525),\n",
       " ('ENSMUSG00000060499', 541),\n",
       " ('ENSMUSG00000050366', 545),\n",
       " ('ENSMUSG00000060177', 550),\n",
       " ('ENSMUSG00000022931', 564),\n",
       " ('ENSMUSG00000101933', 577),\n",
       " ('ENSMUSG00000100535', 592),\n",
       " ('ENSMUSG00000060177', 595),\n",
       " ('ENSMUSG00000022215', 596),\n",
       " ('ENSMUSG00000095606', 601),\n",
       " ('ENSMUSG00000038622', 605),\n",
       " ('ENSMUSG00000063058', 610),\n",
       " ('ENSMUSG00000095770', 617),\n",
       " ('ENSMUSG00000058904', 618),\n",
       " ('ENSMUSG00000101158', 647),\n",
       " ('ENSMUSG00000100338', 658),\n",
       " ('ENSMUSG00000055594', 659),\n",
       " ('ENSMUSG00000100708', 669),\n",
       " ('ENSMUSG00000101471', 682),\n",
       " ('ENSMUSG00000070319', 707),\n",
       " ('ENSMUSG00000050224', 732),\n",
       " ('ENSMUSG00000099856', 737),\n",
       " ('ENSMUSG00000093895', 741),\n",
       " ('ENSMUSG00000096178', 748),\n",
       " ('ENSMUSG00000048919', 792),\n",
       " ('ENSMUSG00000100032', 808),\n",
       " ('ENSMUSG00000100708', 821),\n",
       " ('ENSMUSG00000063089', 829),\n",
       " ('ENSMUSG00000079702', 834),\n",
       " ('ENSMUSG00000093987', 846),\n",
       " ('ENSMUSG00000040340', 855),\n",
       " ('ENSMUSG00000031165', 881),\n",
       " ('ENSMUSG00000042816', 895),\n",
       " ('ENSMUSG00000059183', 917),\n",
       " ('ENSMUSG00000021646', 923),\n",
       " ('ENSMUSG00000043346', 924),\n",
       " ('ENSMUSG00000046697', 934),\n",
       " ('ENSMUSG00000035349', 980),\n",
       " ('ENSMUSG00000093898', 985),\n",
       " ('ENSMUSG00000036840', 986),\n",
       " ('ENSMUSG00000062432', 987),\n",
       " ('ENSMUSG00000047751', 1016),\n",
       " ('ENSMUSG00000073402', 1023),\n",
       " ('ENSMUSG00000040583', 1035),\n",
       " ('ENSMUSG00000026170', 1041),\n",
       " ('ENSMUSG00000028630', 1056),\n",
       " ('ENSMUSG00000037262', 1058),\n",
       " ('ENSMUSG00000073460', 1066),\n",
       " ('ENSMUSG00000071047', 1110),\n",
       " ('ENSMUSG00000045382', 1111),\n",
       " ('ENSMUSG00000000399', 1116),\n",
       " ('ENSMUSG00000029617', 1122),\n",
       " ('ENSMUSG00000025270', 1177),\n",
       " ('ENSMUSG00000022634', 1182),\n",
       " ('ENSMUSG00000067201', 1213),\n",
       " ('ENSMUSG00000047562', 1220),\n",
       " ('ENSMUSG00000019762', 1223),\n",
       " ('ENSMUSG00000027335', 1237),\n",
       " ('ENSMUSG00000090487', 1240),\n",
       " ('ENSMUSG00000024936', 1255),\n",
       " ('ENSMUSG00000032459', 1262),\n",
       " ('ENSMUSG00000005883', 1281),\n",
       " ('ENSMUSG00000090627', 1284),\n",
       " ('ENSMUSG00000040006', 1296),\n",
       " ('ENSMUSG00000040583', 1306),\n",
       " ('ENSMUSG00000006850', 1367),\n",
       " ('ENSMUSG00000079012', 1368),\n",
       " ('ENSMUSG00000079015', 1381),\n",
       " ('ENSMUSG00000031432', 1401),\n",
       " ('ENSMUSG00000043972', 1404),\n",
       " ('ENSMUSG00000040525', 1461),\n",
       " ('ENSMUSG00000062432', 1463),\n",
       " ('ENSMUSG00000071749', 1473),\n",
       " ('ENSMUSG00000033047', 1492),\n",
       " ('ENSMUSG00000070388', 1498),\n",
       " ('ENSMUSG00000022844', 1499),\n",
       " ('ENSMUSG00000057982', 1525),\n",
       " ('ENSMUSG00000025630', 1550),\n",
       " ('ENSMUSG00000047562', 1567),\n",
       " ('ENSMUSG00000020132', 1581),\n",
       " ('ENSMUSG00000048231', 1589),\n",
       " ('ENSMUSG00000046008', 1624),\n",
       " ('ENSMUSG00000094378', 1650),\n",
       " ('ENSMUSG00000042165', 1657),\n",
       " ('ENSMUSG00000024747', 1664),\n",
       " ('ENSMUSG00000054958', 1671),\n",
       " ('ENSMUSG00000053797', 1737),\n",
       " ('ENSMUSG00000046434', 1741),\n",
       " ('ENSMUSG00000005846', 1778),\n",
       " ('ENSMUSG00000040340', 1784),\n",
       " ('ENSMUSG00000058672', 1785),\n",
       " ('ENSMUSG00000025395', 1815),\n",
       " ('ENSMUSG00000096520', 1824),\n",
       " ('ENSMUSG00000073402', 1839),\n",
       " ('ENSMUSG00000003555', 1879),\n",
       " ('ENSMUSG00000071749', 1921),\n",
       " ('ENSMUSG00000050625', 1935),\n",
       " ('ENSMUSG00000042816', 1961),\n",
       " ('ENSMUSG00000027335', 1968),\n",
       " ('ENSMUSG00000046615', 1983),\n",
       " ('ENSMUSG00000021646', 1992),\n",
       " ('ENSMUSG00000005846', 2000),\n",
       " ('ENSMUSG00000026958', 2006),\n",
       " ('ENSMUSG00000059540', 2021),\n",
       " ('ENSMUSG00000044719', 2029),\n",
       " ('ENSMUSG00000028553', 2037),\n",
       " ('ENSMUSG00000091987', 2061),\n",
       " ('ENSMUSG00000047562', 2062),\n",
       " ('ENSMUSG00000021731', 2064),\n",
       " ('ENSMUSG00000071749', 2069),\n",
       " ('ENSMUSG00000021748', 2085),\n",
       " ('ENSMUSG00000024778', 2090),\n",
       " ('ENSMUSG00000071553', 2094),\n",
       " ('ENSMUSG00000079012', 2097),\n",
       " ('ENSMUSG00000028291', 2113),\n",
       " ('ENSMUSG00000019762', 2114),\n",
       " ('ENSMUSG00000019987', 2118),\n",
       " ('ENSMUSG00000040006', 2122),\n",
       " ('ENSMUSG00000073069', 2127),\n",
       " ('ENSMUSG00000071749', 2131),\n",
       " ('ENSMUSG00000044772', 2157),\n",
       " ('ENSMUSG00000096003', 2159),\n",
       " ('ENSMUSG00000040525', 2167),\n",
       " ('ENSMUSG00000019792', 2180),\n",
       " ('ENSMUSG00000021306', 2185),\n",
       " ('ENSMUSG00000021216', 2186),\n",
       " ('ENSMUSG00000032357', 2215),\n",
       " ('ENSMUSG00000027880', 2226),\n",
       " ('ENSMUSG00000032274', 2227),\n",
       " ('ENSMUSG00000028633', 2237),\n",
       " ('ENSMUSG00000066704', 2248),\n",
       " ('ENSMUSG00000032673', 2250),\n",
       " ('ENSMUSG00000032013', 2259),\n",
       " ('ENSMUSG00000070683', 2261),\n",
       " ('ENSMUSG00000006389', 2268),\n",
       " ('ENSMUSG00000021490', 2278),\n",
       " ('ENSMUSG00000080115', 2314),\n",
       " ('ENSMUSG00000025793', 2331),\n",
       " ('ENSMUSG00000070796', 2340),\n",
       " ('ENSMUSG00000049897', 2368),\n",
       " ('ENSMUSG00000021548', 2378),\n",
       " ('ENSMUSG00000020664', 2390),\n",
       " ('ENSMUSG00000033854', 2393),\n",
       " ('ENSMUSG00000091736', 2408),\n",
       " ('ENSMUSG00000074345', 2415),\n",
       " ('ENSMUSG00000004789', 2431),\n",
       " ('ENSMUSG00000061527', 2434),\n",
       " ('ENSMUSG00000052794', 2505),\n",
       " ('ENSMUSG00000020937', 2517),\n",
       " ('ENSMUSG00000020937', 2533),\n",
       " ('ENSMUSG00000024097', 2578),\n",
       " ('ENSMUSG00000061388', 2584),\n",
       " ('ENSMUSG00000024082', 2611),\n",
       " ('ENSMUSG00000039263', 2619),\n",
       " ('ENSMUSG00000035493', 2626),\n",
       " ('ENSMUSG00000024312', 2633),\n",
       " ('ENSMUSG00000022031', 2641),\n",
       " ('ENSMUSG00000033186', 2644),\n",
       " ('ENSMUSG00000040650', 2654),\n",
       " ('ENSMUSG00000053499', 2671),\n",
       " ('ENSMUSG00000027597', 2675),\n",
       " ('ENSMUSG00000075570', 2677),\n",
       " ('ENSMUSG00000021468', 2680),\n",
       " ('ENSMUSG00000046916', 2704),\n",
       " ('ENSMUSG00000022614', 2708),\n",
       " ('ENSMUSG00000020087', 2720),\n",
       " ('ENSMUSG00000026100', 2748),\n",
       " ('ENSMUSG00000029268', 2752),\n",
       " ('ENSMUSG00000026942', 2767),\n",
       " ('ENSMUSG00000003233', 2781),\n",
       " ('ENSMUSG00000019487', 2806),\n",
       " ('ENSMUSG00000003233', 2832),\n",
       " ('ENSMUSG00000053499', 2858),\n",
       " ('ENSMUSG00000028392', 2866),\n",
       " ('ENSMUSG00000022828', 2867),\n",
       " ('ENSMUSG00000047514', 2890),\n",
       " ('ENSMUSG00000032279', 2908),\n",
       " ('ENSMUSG00000055069', 2911),\n",
       " ('ENSMUSG00000009654', 2930),\n",
       " ('ENSMUSG00000052906', 2934),\n",
       " ('ENSMUSG00000078653', 2936),\n",
       " ('ENSMUSG00000009654', 2986),\n",
       " ('ENSMUSG00000002257', 2987),\n",
       " ('ENSMUSG00000031729', 2991),\n",
       " ('ENSMUSG00000018907', 2995),\n",
       " ('ENSMUSG00000046519', 2997),\n",
       " ('ENSMUSG00000021579', 2998),\n",
       " ('ENSMUSG00000005683', 3029),\n",
       " ('ENSMUSG00000058976', 3038),\n",
       " ('ENSMUSG00000031451', 3047),\n",
       " ('ENSMUSG00000018574', 3052),\n",
       " ('ENSMUSG00000044912', 3055),\n",
       " ('ENSMUSG00000000159', 3062),\n",
       " ('ENSMUSG00000109901', 3073),\n",
       " ('ENSMUSG00000068922', 3078),\n",
       " ('ENSMUSG00000028392', 3090),\n",
       " ('ENSMUSG00000022783', 3097),\n",
       " ('ENSMUSG00000013523', 3125),\n",
       " ('ENSMUSG00000033186', 3165),\n",
       " ('ENSMUSG00000047986', 3168),\n",
       " ('ENSMUSG00000021765', 3184),\n",
       " ('ENSMUSG00000037406', 3199),\n",
       " ('ENSMUSG00000021302', 3201),\n",
       " ('ENSMUSG00000021799', 3208),\n",
       " ('ENSMUSG00000073639', 3210),\n",
       " ('ENSMUSG00000025793', 3227),\n",
       " ('ENSMUSG00000021765', 3231),\n",
       " ('ENSMUSG00000072082', 3240),\n",
       " ('ENSMUSG00000048826', 3278),\n",
       " ('ENSMUSG00000022015', 3280),\n",
       " ('ENSMUSG00000070798', 3316),\n",
       " ('ENSMUSG00000019467', 3334),\n",
       " ('ENSMUSG00000031202', 3345),\n",
       " ('ENSMUSG00000074743', 3348),\n",
       " ('ENSMUSG00000028914', 3362),\n",
       " ('ENSMUSG00000028234', 3363),\n",
       " ('ENSMUSG00000031487', 3372),\n",
       " ('ENSMUSG00000047117', 3374),\n",
       " ('ENSMUSG00000032898', 3380),\n",
       " ('ENSMUSG00000007670', 3389),\n",
       " ('ENSMUSG00000031953', 3406),\n",
       " ('ENSMUSG00000069135', 3407),\n",
       " ('ENSMUSG00000049939', 3408),\n",
       " ('ENSMUSG00000092329', 3415),\n",
       " ('ENSMUSG00000029254', 3445),\n",
       " ('ENSMUSG00000035239', 3450),\n",
       " ('ENSMUSG00000074653', 3457),\n",
       " ('ENSMUSG00000028004', 3458),\n",
       " ('ENSMUSG00000064037', 3460),\n",
       " ('ENSMUSG00000044352', 3464),\n",
       " ('ENSMUSG00000038264', 3472),\n",
       " ('ENSMUSG00000027452', 3490),\n",
       " ('ENSMUSG00000022536', 3494),\n",
       " ('ENSMUSG00000029028', 3503),\n",
       " ('ENSMUSG00000035007', 3509),\n",
       " ('ENSMUSG00000029554', 3524),\n",
       " ('ENSMUSG00000060397', 3533),\n",
       " ('ENSMUSG00000024098', 3548),\n",
       " ('ENSMUSG00000022512', 3552),\n",
       " ('ENSMUSG00000064037', 3566),\n",
       " ('ENSMUSG00000040220', 3575),\n",
       " ('ENSMUSG00000025075', 3585),\n",
       " ('ENSMUSG00000035200', 3607),\n",
       " ('ENSMUSG00000054715', 3616),\n",
       " ('ENSMUSG00000035184', 3622),\n",
       " ('ENSMUSG00000026659', 3628),\n",
       " ('ENSMUSG00000031482', 3637),\n",
       " ('ENSMUSG00000075271', 3647),\n",
       " ('ENSMUSG00000045094', 3663),\n",
       " ('ENSMUSG00000055723', 3666),\n",
       " ('ENSMUSG00000055717', 3668),\n",
       " ('ENSMUSG00000026112', 3673),\n",
       " ('ENSMUSG00000059182', 3678),\n",
       " ('ENSMUSG00000039357', 3693),\n",
       " ('ENSMUSG00000061882', 3707),\n",
       " ('ENSMUSG00000029028', 3716),\n",
       " ('ENSMUSG00000030400', 3754),\n",
       " ('ENSMUSG00000025044', 3760),\n",
       " ('ENSMUSG00000021234', 3762),\n",
       " ('ENSMUSG00000044626', 3767),\n",
       " ('ENSMUSG00000037001', 3774),\n",
       " ('ENSMUSG00000037446', 3780),\n",
       " ('ENSMUSG00000058587', 3791),\n",
       " ('ENSMUSG00000042659', 3792),\n",
       " ('ENSMUSG00000002279', 3794),\n",
       " ('ENSMUSG00000028820', 3801),\n",
       " ('ENSMUSG00000037957', 3828),\n",
       " ('ENSMUSG00000055560', 3832),\n",
       " ('ENSMUSG00000041560', 3833),\n",
       " ('ENSMUSG00000092329', 3840),\n",
       " ('ENSMUSG00000064037', 3846),\n",
       " ('ENSMUSG00000021257', 3877),\n",
       " ('ENSMUSG00000047117', 3879),\n",
       " ('ENSMUSG00000010290', 3880),\n",
       " ('ENSMUSG00000028820', 3885),\n",
       " ('ENSMUSG00000027405', 3889),\n",
       " ('ENSMUSG00000038264', 3891),\n",
       " ('ENSMUSG00000021115', 3893),\n",
       " ('ENSMUSG00000045817', 3895),\n",
       " ('ENSMUSG00000059586', 3904),\n",
       " ('ENSMUSG00000035239', 3905),\n",
       " ('ENSMUSG00000069135', 3915),\n",
       " ('ENSMUSG00000028015', 3921),\n",
       " ('ENSMUSG00000027201', 3930),\n",
       " ('ENSMUSG00000093930', 3939),\n",
       " ('ENSMUSG00000022512', 3952),\n",
       " ('ENSMUSG00000009733', 3957),\n",
       " ('ENSMUSG00000018620', 3962),\n",
       " ('ENSMUSG00000089704', 3974),\n",
       " ('ENSMUSG00000028189', 3993),\n",
       " ('ENSMUSG00000012017', 4015),\n",
       " ('ENSMUSG00000090659', 4026),\n",
       " ('ENSMUSG00000029028', 4039),\n",
       " ('ENSMUSG00000048440', 4055),\n",
       " ('ENSMUSG00000035150', 4056),\n",
       " ('ENSMUSG00000047030', 4066),\n",
       " ('ENSMUSG00000027282', 4083),\n",
       " ('ENSMUSG00000031841', 4092),\n",
       " ('ENSMUSG00000074781', 4102),\n",
       " ('ENSMUSG00000024603', 4105),\n",
       " ('ENSMUSG00000006169', 4106),\n",
       " ('ENSMUSG00000039981', 4114),\n",
       " ('ENSMUSG00000025318', 4125),\n",
       " ('ENSMUSG00000018387', 4128),\n",
       " ('ENSMUSG00000024581', 4130),\n",
       " ('ENSMUSG00000031987', 4133),\n",
       " ('ENSMUSG00000042535', 4151),\n",
       " ('ENSMUSG00000033684', 4154),\n",
       " ('ENSMUSG00000021238', 4166),\n",
       " ('ENSMUSG00000045827', 4173),\n",
       " ('ENSMUSG00000035394', 4176),\n",
       " ('ENSMUSG00000031487', 4178),\n",
       " ('ENSMUSG00000027452', 4182),\n",
       " ('ENSMUSG00000039977', 4185),\n",
       " ('ENSMUSG00000055301', 4186),\n",
       " ('ENSMUSG00000010290', 4187),\n",
       " ('ENSMUSG00000032495', 4211),\n",
       " ('ENSMUSG00000020882', 4215),\n",
       " ('ENSMUSG00000032495', 4220),\n",
       " ('ENSMUSG00000058655', 4225),\n",
       " ('ENSMUSG00000089942', 4228),\n",
       " ('ENSMUSG00000001497', 4254),\n",
       " ('ENSMUSG00000030051', 4259),\n",
       " ('ENSMUSG00000022805', 4263),\n",
       " ('ENSMUSG00000031068', 4265),\n",
       " ('ENSMUSG00000029816', 4269),\n",
       " ('ENSMUSG00000110234', 4271),\n",
       " ('ENSMUSG00000053414', 4273),\n",
       " ('ENSMUSG00000020412', 4275),\n",
       " ('ENSMUSG00000046027', 4292),\n",
       " ('ENSMUSG00000041633', 4307),\n",
       " ('ENSMUSG00000036977', 4324),\n",
       " ('ENSMUSG00000060044', 4329),\n",
       " ('ENSMUSG00000048834', 4340),\n",
       " ('ENSMUSG00000030282', 4344),\n",
       " ('ENSMUSG00000030204', 4350),\n",
       " ('ENSMUSG00000041633', 4358),\n",
       " ('ENSMUSG00000029504', 4363),\n",
       " ('ENSMUSG00000063297', 4368),\n",
       " ('ENSMUSG00000067369', 4377),\n",
       " ('ENSMUSG00000027401', 4382),\n",
       " ('ENSMUSG00000046167', 4385),\n",
       " ('ENSMUSG00000037514', 4392),\n",
       " ('ENSMUSG00000030051', 4399),\n",
       " ('ENSMUSG00000024370', 4409),\n",
       " ('ENSMUSG00000033032', 4420),\n",
       " ('ENSMUSG00000067369', 4427),\n",
       " ('ENSMUSG00000029298', 4430),\n",
       " ('ENSMUSG00000037443', 4446),\n",
       " ('ENSMUSG00000022421', 4447),\n",
       " ('ENSMUSG00000030045', 4451),\n",
       " ('ENSMUSG00000020570', 4455),\n",
       " ('ENSMUSG00000029640', 4465),\n",
       " ('ENSMUSG00000098905', 4469),\n",
       " ('ENSMUSG00000032352', 4475),\n",
       " ('ENSMUSG00000029670', 4485),\n",
       " ('ENSMUSG00000096370', 4487),\n",
       " ('ENSMUSG00000020271', 4492),\n",
       " ('ENSMUSG00000045174', 4502),\n",
       " ('ENSMUSG00000017314', 4508),\n",
       " ('ENSMUSG00000026273', 4516),\n",
       " ('ENSMUSG00000040464', 4522),\n",
       " ('ENSMUSG00000025175', 4526),\n",
       " ('ENSMUSG00000029816', 4533),\n",
       " ('ENSMUSG00000024370', 4544),\n",
       " ('ENSMUSG00000079362', 4547),\n",
       " ('ENSMUSG00000027419', 4549),\n",
       " ('ENSMUSG00000035770', 4563),\n",
       " ('ENSMUSG00000068742', 4565),\n",
       " ('ENSMUSG00000037419', 4566),\n",
       " ('ENSMUSG00000032932', 4572),\n",
       " ('ENSMUSG00000015342', 4585),\n",
       " ('ENSMUSG00000051185', 4593),\n",
       " ('ENSMUSG00000037085', 4603),\n",
       " ('ENSMUSG00000001815', 4604),\n",
       " ('ENSMUSG00000026675', 4606),\n",
       " ('ENSMUSG00000046027', 4608),\n",
       " ('ENSMUSG00000068015', 4609),\n",
       " ('ENSMUSG00000020686', 4627),\n",
       " ('ENSMUSG00000026866', 4672),\n",
       " ('ENSMUSG00000037443', 4681),\n",
       " ('ENSMUSG00000098905', 4685),\n",
       " ('ENSMUSG00000066197', 4697),\n",
       " ('ENSMUSG00000019731', 4699),\n",
       " ('ENSMUSG00000015377', 4705),\n",
       " ('ENSMUSG00000024798', 4710),\n",
       " ('ENSMUSG00000027419', 4719),\n",
       " ('ENSMUSG00000027834', 4735),\n",
       " ('ENSMUSG00000079362', 4744),\n",
       " ('ENSMUSG00000029466', 4755),\n",
       " ('ENSMUSG00000020297', 4759),\n",
       " ('ENSMUSG00000025354', 4786),\n",
       " ('ENSMUSG00000000532', 4787),\n",
       " ('ENSMUSG00000024883', 4789),\n",
       " ('ENSMUSG00000018541', 4815),\n",
       " ('ENSMUSG00000003604', 4824),\n",
       " ('ENSMUSG00000032352', 4834),\n",
       " ('ENSMUSG00000105340', 4852),\n",
       " ('ENSMUSG00000019731', 4857),\n",
       " ('ENSMUSG00000015342', 4873),\n",
       " ('ENSMUSG00000020570', 4878),\n",
       " ('ENSMUSG00000049764', 4882),\n",
       " ('ENSMUSG00000032089', 4884),\n",
       " ('ENSMUSG00000057719', 4895),\n",
       " ('ENSMUSG00000028211', 4911),\n",
       " ('ENSMUSG00000042225', 4915),\n",
       " ('ENSMUSG00000034157', 4919),\n",
       " ('ENSMUSG00000021103', 4920),\n",
       " ('ENSMUSG00000028124', 4923),\n",
       " ('ENSMUSG00000020718', 4927),\n",
       " ('ENSMUSG00000050064', 4936),\n",
       " ('ENSMUSG00000026358', 4945),\n",
       " ('ENSMUSG00000026782', 4956),\n",
       " ('ENSMUSG00000023809', 4957),\n",
       " ('ENSMUSG00000040339', 4960),\n",
       " ('ENSMUSG00000028868', 4971),\n",
       " ('ENSMUSG00000001419', 4972),\n",
       " ('ENSMUSG00000053550', 4976),\n",
       " ('ENSMUSG00000036109', 4977),\n",
       " ('ENSMUSG00000001138', 4982),\n",
       " ('ENSMUSG00000028826', 4997),\n",
       " ('ENSMUSG00000073856', 4999),\n",
       " ('ENSMUSG00000025789', 5004),\n",
       " ('ENSMUSG00000029389', 5013),\n",
       " ('ENSMUSG00000027236', 5020),\n",
       " ('ENSMUSG00000046618', 5021),\n",
       " ('ENSMUSG00000029227', 5028),\n",
       " ('ENSMUSG00000046280', 5033),\n",
       " ('ENSMUSG00000003949', 5046),\n",
       " ('ENSMUSG00000053062', 5050),\n",
       " ('ENSMUSG00000036109', 5051),\n",
       " ('ENSMUSG00000104713', 5052),\n",
       " ('ENSMUSG00000031242', 5059),\n",
       " ('ENSMUSG00000039849', 5065),\n",
       " ('ENSMUSG00000070520', 5066),\n",
       " ('ENSMUSG00000035725', 5068),\n",
       " ('ENSMUSG00000030265', 5069),\n",
       " ('ENSMUSG00000070520', 5070),\n",
       " ('ENSMUSG00000032561', 5081),\n",
       " ('ENSMUSG00000062510', 5086),\n",
       " ('ENSMUSG00000046280', 5091),\n",
       " ('ENSMUSG00000021846', 5111),\n",
       " ('ENSMUSG00000026770', 5117),\n",
       " ('ENSMUSG00000025534', 5119),\n",
       " ('ENSMUSG00000026770', 5125),\n",
       " ('ENSMUSG00000031858', 5138),\n",
       " ('ENSMUSG00000104713', 5140),\n",
       " ('ENSMUSG00000073856', 5144),\n",
       " ('ENSMUSG00000043733', 5150),\n",
       " ('ENSMUSG00000041040', 5151),\n",
       " ('ENSMUSG00000026770', 5154),\n",
       " ('ENSMUSG00000043885', 5160),\n",
       " ('ENSMUSG00000031681', 5167),\n",
       " ('ENSMUSG00000043733', 5170),\n",
       " ('ENSMUSG00000030823', 5172),\n",
       " ('ENSMUSG00000028701', 5188),\n",
       " ('ENSMUSG00000015340', 5198),\n",
       " ('ENSMUSG00000015340', 5199),\n",
       " ('ENSMUSG00000030766', 5201),\n",
       " ('ENSMUSG00000031446', 5211),\n",
       " ('ENSMUSG00000037395', 5215),\n",
       " ('ENSMUSG00000074793', 5222),\n",
       " ('ENSMUSG00000055447', 5228),\n",
       " ('ENSMUSG00000027634', 5239),\n",
       " ('ENSMUSG00000057880', 5255),\n",
       " ('ENSMUSG00000027427', 5256),\n",
       " ('ENSMUSG00000025931', 5277),\n",
       " ('ENSMUSG00000057363', 5287),\n",
       " ('ENSMUSG00000034083', 5288),\n",
       " ('ENSMUSG00000024524', 5293),\n",
       " ('ENSMUSG00000078810', 5306),\n",
       " ('ENSMUSG00000054027', 5307),\n",
       " ('ENSMUSG00000053550', 5319),\n",
       " ('ENSMUSG00000025092', 5322),\n",
       " ('ENSMUSG00000041912', 5356),\n",
       " ('ENSMUSG00000061411', 5379),\n",
       " ('ENSMUSG00000013419', 5384),\n",
       " ('ENSMUSG00000039202', 5389),\n",
       " ('ENSMUSG00000074102', 5396),\n",
       " ('ENSMUSG00000038485', 5403),\n",
       " ('ENSMUSG00000052928', 5404),\n",
       " ('ENSMUSG00000024948', 5431),\n",
       " ('ENSMUSG00000033658', 5442),\n",
       " ('ENSMUSG00000022802', 5446),\n",
       " ('ENSMUSG00000029094', 5463),\n",
       " ('ENSMUSG00000079260', 5477),\n",
       " ('ENSMUSG00000018411', 5493),\n",
       " ('ENSMUSG00000036450', 5507),\n",
       " ('ENSMUSG00000028149', 5513),\n",
       " ('ENSMUSG00000018999', 5517),\n",
       " ('ENSMUSG00000000439', 5518),\n",
       " ('ENSMUSG00000073643', 5526),\n",
       " ('ENSMUSG00000034987', 5529),\n",
       " ('ENSMUSG00000036197', 5530),\n",
       " ('ENSMUSG00000018999', 5538),\n",
       " ('ENSMUSG00000069769', 5542),\n",
       " ('ENSMUSG00000062202', 5562),\n",
       " ('ENSMUSG00000064330', 5578),\n",
       " ('ENSMUSG00000020289', 5582),\n",
       " ('ENSMUSG00000004500', 5586),\n",
       " ('ENSMUSG00000062110', 5591),\n",
       " ('ENSMUSG00000024302', 5602),\n",
       " ('ENSMUSG00000039202', 5611),\n",
       " ('ENSMUSG00000037022', 5619),\n",
       " ('ENSMUSG00000017639', 5629),\n",
       " ('ENSMUSG00000055541', 5632),\n",
       " ('ENSMUSG00000037355', 5634),\n",
       " ('ENSMUSG00000037447', 5636),\n",
       " ('ENSMUSG00000027669', 5652),\n",
       " ('ENSMUSG00000020393', 5665),\n",
       " ('ENSMUSG00000018846', 5667),\n",
       " ('ENSMUSG00000031327', 5686),\n",
       " ('ENSMUSG00000018846', 5693),\n",
       " ('ENSMUSG00000096188', 5697),\n",
       " ('ENSMUSG00000020393', 5705),\n",
       " ('ENSMUSG00000040711', 5710),\n",
       " ('ENSMUSG00000031450', 5725),\n",
       " ('ENSMUSG00000060733', 5730),\n",
       " ('ENSMUSG00000047696', 5731),\n",
       " ('ENSMUSG00000028385', 5742),\n",
       " ('ENSMUSG00000002266', 5747),\n",
       " ('ENSMUSG00000015314', 5755),\n",
       " ('ENSMUSG00000040310', 5760),\n",
       " ('ENSMUSG00000034723', 5771),\n",
       " ('ENSMUSG00000038648', 5774),\n",
       " ('ENSMUSG00000026663', 5779),\n",
       " ('ENSMUSG00000028136', 5793),\n",
       " ('ENSMUSG00000002266', 5802),\n",
       " ('ENSMUSG00000027663', 5819),\n",
       " ('ENSMUSG00000019775', 5820),\n",
       " ('ENSMUSG00000057715', 5821),\n",
       " ('ENSMUSG00000034158', 5826),\n",
       " ('ENSMUSG00000063632', 5827),\n",
       " ('ENSMUSG00000050965', 5830),\n",
       " ('ENSMUSG00000063894', 5834),\n",
       " ('ENSMUSG00000058013', 5835),\n",
       " ('ENSMUSG00000020863', 5847),\n",
       " ('ENSMUSG00000058013', 5848),\n",
       " ('ENSMUSG00000034158', 5854),\n",
       " ('ENSMUSG00000040612', 5855),\n",
       " ('ENSMUSG00000027639', 5877),\n",
       " ('ENSMUSG00000038733', 5892),\n",
       " ('ENSMUSG00000013415', 5907),\n",
       " ('ENSMUSG00000033420', 5915),\n",
       " ('ENSMUSG00000040612', 5938),\n",
       " ('ENSMUSG00000026834', 5954),\n",
       " ('ENSMUSG00000008206', 5963),\n",
       " ('ENSMUSG00000030000', 5971),\n",
       " ('ENSMUSG00000041530', 5978),\n",
       " ('ENSMUSG00000025958', 5982),\n",
       " ('ENSMUSG00000030283', 5984),\n",
       " ('ENSMUSG00000075415', 5985),\n",
       " ('ENSMUSG00000025997', 5992),\n",
       " ('ENSMUSG00000030643', 6006),\n",
       " ('ENSMUSG00000037410', 6007),\n",
       " ('ENSMUSG00000074527', 6011),\n",
       " ('ENSMUSG00000021427', 6027),\n",
       " ('ENSMUSG00000038121', 6028),\n",
       " ('ENSMUSG00000031285', 6029),\n",
       " ('ENSMUSG00000001569', 6034)]"
      ]
     },
     "execution_count": 88,
     "metadata": {},
     "output_type": "execute_result"
    }
   ],
   "source": [
    "non_orthologous_test_with_gt_9"
   ]
  },
  {
   "cell_type": "code",
   "execution_count": 91,
   "metadata": {
    "ExecuteTime": {
     "end_time": "2017-11-28T01:20:36.307736Z",
     "start_time": "2017-11-28T01:20:36.298813Z"
    }
   },
   "outputs": [
    {
     "data": {
      "text/plain": [
       "{'CDS': 'TTTGTTTCCTTACTCGAGGTTTTTTCGTCTCTATTACTACGAGTATCCATTTCAGCAACGAAAAGGGTAGTGTTTGAACCAAAGAAGGTATCAGTTCCGATCCTTTTAGGGATGCACCATTTCCGGTCCCGAAGATACCACAGAAAGACTTTATTTTAATTGAGACTAAAGAGAGCAGAAGAGTGGTTCGTTGACCTTGAATACAAGTGCCTCATTTATCTACAAGGAGGACGACTGACCAAGGAACGTTTATGGACCTCGGGTAAGCAAGGAAAAGAGGTGTAGTTGAAGGGTCACCGTCTGACTTTTTTTCACCCTCAACAGGTGCTGTACCCGACTTCTTTACTTAGAAGACCCTAGAAGGTGGTTTAATACTGGTCCGAAGGGTGGGAAATTTAGTAATCTCCCAAGGGCCCTCCTCAGTGGTCAGAATCGACGGTCTCGGCATAAGAGACTATGGTTAGAGTCTTCAGGTCACTAGACGGGAAATACAACGAAGTCATTCCCCGGTACGACGAAATTTTCCTACCGGTCAAGAAAGTAATGGGGTAGTATGAACTGTCCAGAGAAAACAAGAAAAGCTGTGTGCCCTGTCCAGTAATAGTTCAGAAGAAAGAAACAGTAGGTAAAAAATGGCGTTAGTTTCGTTTCATACACCCGCGTCCTCTCTATTTATCCTACTCTCATTTACAGGTCCGTTTAACGTGTCCAACGGAGGTAAAGGTTTTACAAAAGGTAATTCAATAGAACACTTTGAAAATGTATCACTACAAATCTCAGGTTCAAGAGAAAGGAGTA',\n",
       " 'UTR3': 'TAAGAGCAAGATTGGAGGACCAAGGTAAAGCATTGCACTAAGACTTGGAAGACTTCTGATGAACTCTATAGACTCCTGAGATCACTCTGGGGATAATTATGTTGTAGGCAAATAGCTGTGTACTGTATATTTTTTTTACAGTAAAATATTGTCAATGTTTTATGGATA',\n",
       " 'UTR5': 'GATCTCAACCACCAGAGGTCGTTTCCTGAATCCTAGACTGGTGAACACGAAGACATAAATGAACGAGTTCGAGAACCAACTTCATTAG'}"
      ]
     },
     "execution_count": 91,
     "metadata": {},
     "output_type": "execute_result"
    }
   ],
   "source": [
    "mouse_gene_seq['ENSMUSG00000094311']"
   ]
  },
  {
   "cell_type": "code",
   "execution_count": 115,
   "metadata": {
    "ExecuteTime": {
     "end_time": "2017-11-28T01:31:07.852747Z",
     "start_time": "2017-11-28T01:31:07.840934Z"
    }
   },
   "outputs": [],
   "source": [
    "ENSMUSG00000094311 = mouse_gene_seq['ENSMUSG00000094311'].copy()\n",
    "ENSMUSG00000094311_utr5, ENSMUSG00000094311_utr3 = ENSMUSG00000094311['UTR5'], ENSMUSG00000094311['UTR3']\n",
    "ENSMUSG00000094311['UTR5'] = ENSMUSG00000094311_utr3\n",
    "ENSMUSG00000094311['UTR3'] = ENSMUSG00000094311_utr5\n"
   ]
  },
  {
   "cell_type": "code",
   "execution_count": 116,
   "metadata": {
    "ExecuteTime": {
     "end_time": "2017-11-28T01:31:10.234145Z",
     "start_time": "2017-11-28T01:31:10.225394Z"
    }
   },
   "outputs": [
    {
     "data": {
      "text/plain": [
       "{'CDS': 'TTTGTTTCCTTACTCGAGGTTTTTTCGTCTCTATTACTACGAGTATCCATTTCAGCAACGAAAAGGGTAGTGTTTGAACCAAAGAAGGTATCAGTTCCGATCCTTTTAGGGATGCACCATTTCCGGTCCCGAAGATACCACAGAAAGACTTTATTTTAATTGAGACTAAAGAGAGCAGAAGAGTGGTTCGTTGACCTTGAATACAAGTGCCTCATTTATCTACAAGGAGGACGACTGACCAAGGAACGTTTATGGACCTCGGGTAAGCAAGGAAAAGAGGTGTAGTTGAAGGGTCACCGTCTGACTTTTTTTCACCCTCAACAGGTGCTGTACCCGACTTCTTTACTTAGAAGACCCTAGAAGGTGGTTTAATACTGGTCCGAAGGGTGGGAAATTTAGTAATCTCCCAAGGGCCCTCCTCAGTGGTCAGAATCGACGGTCTCGGCATAAGAGACTATGGTTAGAGTCTTCAGGTCACTAGACGGGAAATACAACGAAGTCATTCCCCGGTACGACGAAATTTTCCTACCGGTCAAGAAAGTAATGGGGTAGTATGAACTGTCCAGAGAAAACAAGAAAAGCTGTGTGCCCTGTCCAGTAATAGTTCAGAAGAAAGAAACAGTAGGTAAAAAATGGCGTTAGTTTCGTTTCATACACCCGCGTCCTCTCTATTTATCCTACTCTCATTTACAGGTCCGTTTAACGTGTCCAACGGAGGTAAAGGTTTTACAAAAGGTAATTCAATAGAACACTTTGAAAATGTATCACTACAAATCTCAGGTTCAAGAGAAAGGAGTA',\n",
       " 'UTR3': 'GATCTCAACCACCAGAGGTCGTTTCCTGAATCCTAGACTGGTGAACACGAAGACATAAATGAACGAGTTCGAGAACCAACTTCATTAG',\n",
       " 'UTR5': 'TAAGAGCAAGATTGGAGGACCAAGGTAAAGCATTGCACTAAGACTTGGAAGACTTCTGATGAACTCTATAGACTCCTGAGATCACTCTGGGGATAATTATGTTGTAGGCAAATAGCTGTGTACTGTATATTTTTTTTACAGTAAAATATTGTCAATGTTTTATGGATA'}"
      ]
     },
     "execution_count": 116,
     "metadata": {},
     "output_type": "execute_result"
    }
   ],
   "source": [
    "ENSMUSG00000094311"
   ]
  },
  {
   "cell_type": "code",
   "execution_count": 117,
   "metadata": {
    "ExecuteTime": {
     "end_time": "2017-11-28T01:31:12.158289Z",
     "start_time": "2017-11-28T01:31:11.422947Z"
    }
   },
   "outputs": [
    {
     "name": "stdout",
     "output_type": "stream",
     "text": [
      "1/1 [==============================] - 0s\n",
      "1/1 [==============================] - 0s\n",
      "1/1 [==============================] - 0s\n",
      "1/1 [==============================] - 0s\n"
     ]
    }
   ],
   "source": [
    "## predict\n",
    "X_orig, Y_orig = one_hot_encoding(mouse_gene_seq['ENSMUSG00000094311'])\n",
    "X_fake, Y_fake = one_hot_encoding(ENSMUSG00000094311)\n",
    "\n",
    "ENSMUSG00000094311_acc_test_fake = model.predict_classes(np.array([X_fake]), batch_size=1)\n",
    "ENSMUSG00000094311_acc_fake = model.evaluate(np.array([X_fake]),np.array([Y_orig]), batch_size=1)\n",
    "\n",
    "ENSMUSG00000094311_acc_test_orig = model.predict_classes(np.array([X_orig]), batch_size=1)\n",
    "ENSMUSG00000094311_acc_orig = model.evaluate(np.array([X_orig]),np.array([Y_orig]), batch_size=1)\n"
   ]
  },
  {
   "cell_type": "code",
   "execution_count": 118,
   "metadata": {
    "ExecuteTime": {
     "end_time": "2017-11-28T01:31:13.430918Z",
     "start_time": "2017-11-28T01:31:13.416073Z"
    }
   },
   "outputs": [
    {
     "data": {
      "text/plain": [
       "{'CDS': 'TTTGTTTCCTTACTCGAGGTTTTTTCGTCTCTATTACTACGAGTATCCATTTCAGCAACGAAAAGGGTAGTGTTTGAACCAAAGAAGGTATCAGTTCCGATCCTTTTAGGGATGCACCATTTCCGGTCCCGAAGATACCACAGAAAGACTTTATTTTAATTGAGACTAAAGAGAGCAGAAGAGTGGTTCGTTGACCTTGAATACAAGTGCCTCATTTATCTACAAGGAGGACGACTGACCAAGGAACGTTTATGGACCTCGGGTAAGCAAGGAAAAGAGGTGTAGTTGAAGGGTCACCGTCTGACTTTTTTTCACCCTCAACAGGTGCTGTACCCGACTTCTTTACTTAGAAGACCCTAGAAGGTGGTTTAATACTGGTCCGAAGGGTGGGAAATTTAGTAATCTCCCAAGGGCCCTCCTCAGTGGTCAGAATCGACGGTCTCGGCATAAGAGACTATGGTTAGAGTCTTCAGGTCACTAGACGGGAAATACAACGAAGTCATTCCCCGGTACGACGAAATTTTCCTACCGGTCAAGAAAGTAATGGGGTAGTATGAACTGTCCAGAGAAAACAAGAAAAGCTGTGTGCCCTGTCCAGTAATAGTTCAGAAGAAAGAAACAGTAGGTAAAAAATGGCGTTAGTTTCGTTTCATACACCCGCGTCCTCTCTATTTATCCTACTCTCATTTACAGGTCCGTTTAACGTGTCCAACGGAGGTAAAGGTTTTACAAAAGGTAATTCAATAGAACACTTTGAAAATGTATCACTACAAATCTCAGGTTCAAGAGAAAGGAGTA',\n",
       " 'UTR3': 'TAAGAGCAAGATTGGAGGACCAAGGTAAAGCATTGCACTAAGACTTGGAAGACTTCTGATGAACTCTATAGACTCCTGAGATCACTCTGGGGATAATTATGTTGTAGGCAAATAGCTGTGTACTGTATATTTTTTTTACAGTAAAATATTGTCAATGTTTTATGGATA',\n",
       " 'UTR5': 'GATCTCAACCACCAGAGGTCGTTTCCTGAATCCTAGACTGGTGAACACGAAGACATAAATGAACGAGTTCGAGAACCAACTTCATTAG'}"
      ]
     },
     "execution_count": 118,
     "metadata": {},
     "output_type": "execute_result"
    }
   ],
   "source": [
    "mouse_gene_seq['ENSMUSG00000094311']"
   ]
  },
  {
   "cell_type": "code",
   "execution_count": 119,
   "metadata": {
    "ExecuteTime": {
     "end_time": "2017-11-28T01:31:14.193329Z",
     "start_time": "2017-11-28T01:31:14.184779Z"
    }
   },
   "outputs": [
    {
     "data": {
      "text/plain": [
       "{'CDS': 'TTTGTTTCCTTACTCGAGGTTTTTTCGTCTCTATTACTACGAGTATCCATTTCAGCAACGAAAAGGGTAGTGTTTGAACCAAAGAAGGTATCAGTTCCGATCCTTTTAGGGATGCACCATTTCCGGTCCCGAAGATACCACAGAAAGACTTTATTTTAATTGAGACTAAAGAGAGCAGAAGAGTGGTTCGTTGACCTTGAATACAAGTGCCTCATTTATCTACAAGGAGGACGACTGACCAAGGAACGTTTATGGACCTCGGGTAAGCAAGGAAAAGAGGTGTAGTTGAAGGGTCACCGTCTGACTTTTTTTCACCCTCAACAGGTGCTGTACCCGACTTCTTTACTTAGAAGACCCTAGAAGGTGGTTTAATACTGGTCCGAAGGGTGGGAAATTTAGTAATCTCCCAAGGGCCCTCCTCAGTGGTCAGAATCGACGGTCTCGGCATAAGAGACTATGGTTAGAGTCTTCAGGTCACTAGACGGGAAATACAACGAAGTCATTCCCCGGTACGACGAAATTTTCCTACCGGTCAAGAAAGTAATGGGGTAGTATGAACTGTCCAGAGAAAACAAGAAAAGCTGTGTGCCCTGTCCAGTAATAGTTCAGAAGAAAGAAACAGTAGGTAAAAAATGGCGTTAGTTTCGTTTCATACACCCGCGTCCTCTCTATTTATCCTACTCTCATTTACAGGTCCGTTTAACGTGTCCAACGGAGGTAAAGGTTTTACAAAAGGTAATTCAATAGAACACTTTGAAAATGTATCACTACAAATCTCAGGTTCAAGAGAAAGGAGTA',\n",
       " 'UTR3': 'GATCTCAACCACCAGAGGTCGTTTCCTGAATCCTAGACTGGTGAACACGAAGACATAAATGAACGAGTTCGAGAACCAACTTCATTAG',\n",
       " 'UTR5': 'TAAGAGCAAGATTGGAGGACCAAGGTAAAGCATTGCACTAAGACTTGGAAGACTTCTGATGAACTCTATAGACTCCTGAGATCACTCTGGGGATAATTATGTTGTAGGCAAATAGCTGTGTACTGTATATTTTTTTTACAGTAAAATATTGTCAATGTTTTATGGATA'}"
      ]
     },
     "execution_count": 119,
     "metadata": {},
     "output_type": "execute_result"
    }
   ],
   "source": [
    "ENSMUSG00000094311"
   ]
  },
  {
   "cell_type": "code",
   "execution_count": 120,
   "metadata": {
    "ExecuteTime": {
     "end_time": "2017-11-28T01:31:23.876595Z",
     "start_time": "2017-11-28T01:31:23.855999Z"
    }
   },
   "outputs": [],
   "source": [
    "s = ''\n",
    "for x in ENSMUSG00000094311_acc_test_fake[0]:\n",
    "    s+=str(x)"
   ]
  },
  {
   "cell_type": "code",
   "execution_count": 121,
   "metadata": {
    "ExecuteTime": {
     "end_time": "2017-11-28T01:31:24.559376Z",
     "start_time": "2017-11-28T01:31:24.552747Z"
    }
   },
   "outputs": [
    {
     "name": "stdout",
     "output_type": "stream",
     "text": [
      "1111110000000000000000000000000000000000000000000000000000000000000000111011011110111111111111111111111111111111111111111111111111111112222222222222222222222222222222222211111111111111111111111111111111111111111111111111111111111111111111111111111111111111111111111111111111111111111111111111111111111111111111111111111111111111111111111111111111111111111111111111111111111111111111111111111111111111111111111111111111111111111111111111111111111111111111111111111111111111111111111111111111111111111111111111111111111111111111111111111111111111111111111111111111111111111111111111111111111111111111111111111111111111111111111111111111111111111111111111111111111111111111111111111111111111111111111111111111111111111111111111111111111111111111111111111111111111111111111111111111111111111111111111111111112222222221121111111111112222222222222111111111111111111111111111111111111111111111111111211111111111111111111111111111111111111111111111111111111111111111111111111111111111111111111111111111111111111111111111111111111111111111122221122222222222222222\n"
     ]
    }
   ],
   "source": [
    "print(s)"
   ]
  },
  {
   "cell_type": "code",
   "execution_count": 122,
   "metadata": {
    "ExecuteTime": {
     "end_time": "2017-11-28T01:31:30.321726Z",
     "start_time": "2017-11-28T01:31:30.299783Z"
    }
   },
   "outputs": [
    {
     "name": "stdout",
     "output_type": "stream",
     "text": [
      "1111011111111111110110001101110111111111101111011000000000001000100000101001111100110011111111111111111111111111111111111111111111111111111111111111111111111111111111111111111111111111111111111111111111111111111111111111111111111111111111111111111111111111111111111111111111111111111111111111111111111111111111111111111111111111111111111111111111111111111111111111111111111111111111111111111111111111111111111111111111111111111111111111111111111111111111111111111111111111111111111111111111111111111111111111111111111111111111111111111111111111111111111111111111111111111111111111111111111111111111111111111111111111111111111111111111111111111111111111111111111111111111111111111111111111111111111111111111111111111111111111222222222112211111111111222222222222211111111111111111111111111111111111111111111121111222111111111121111111111111111111111111111111111111111111111111111111111111111111111122111222222222222222222222222222222222222222222222222222222222222222222222222222222222222222222222222222222222222222222222222222222222222222222222222222222222\n"
     ]
    }
   ],
   "source": [
    "s = ''\n",
    "for x in ENSMUSG00000094311_acc_test_orig[0]:\n",
    "    s+=str(x)\n",
    "print(s)"
   ]
  },
  {
   "cell_type": "code",
   "execution_count": 127,
   "metadata": {
    "ExecuteTime": {
     "end_time": "2017-11-28T01:39:22.900817Z",
     "start_time": "2017-11-28T01:39:22.605585Z"
    }
   },
   "outputs": [
    {
     "data": {
      "text/plain": [
       "(array([   70.,   195.,   436.,   871.,  1462.,  2231.,  3104.,  4108.,\n",
       "         4687.,  2949.]),\n",
       " array([ 0.02421171,  0.12146458,  0.21871744,  0.3159703 ,  0.41322316,\n",
       "         0.51047603,  0.60772889,  0.70498175,  0.80223462,  0.89948748,\n",
       "         0.99674034]),\n",
       " <a list of 10 Patch objects>)"
      ]
     },
     "execution_count": 127,
     "metadata": {},
     "output_type": "execute_result"
    },
    {
     "data": {
      "image/png": "[encoded data removed]",
      "text/plain": [
       "<matplotlib.figure.Figure at 0x2abd4b35ff28>"
      ]
     },
     "metadata": {},
     "output_type": "display_data"
    }
   ],
   "source": [
    "plt.hist(np.hstack((mouse_acc_test, mouse_acc_train)))"
   ]
  },
  {
   "cell_type": "code",
   "execution_count": 128,
   "metadata": {
    "ExecuteTime": {
     "end_time": "2017-11-28T01:39:36.466224Z",
     "start_time": "2017-11-28T01:39:36.163344Z"
    }
   },
   "outputs": [
    {
     "data": {
      "text/plain": [
       "(array([  16.,   27.,   88.,  160.,  284.,  413.,  482.,  582.,  594.,  361.]),\n",
       " array([ 0.00856468,  0.10716404,  0.2057634 ,  0.30436276,  0.40296212,\n",
       "         0.50156148,  0.60016084,  0.6987602 ,  0.79735956,  0.89595892,\n",
       "         0.99455827]),\n",
       " <a list of 10 Patch objects>)"
      ]
     },
     "execution_count": 128,
     "metadata": {},
     "output_type": "execute_result"
    },
    {
     "data": {
      "image/png": "[encoded data removed]",
      "text/plain": [
       "<matplotlib.figure.Figure at 0x2abd2fd1e748>"
      ]
     },
     "metadata": {},
     "output_type": "display_data"
    }
   ],
   "source": [
    "plt.hist(acc_test)"
   ]
  },
  {
   "cell_type": "code",
   "execution_count": 154,
   "metadata": {
    "ExecuteTime": {
     "end_time": "2017-11-28T04:23:26.562509Z",
     "start_time": "2017-11-28T04:23:25.690716Z"
    }
   },
   "outputs": [
    {
     "data": {
      "text/plain": [
       "Text(31.9,0.5,'Frequency')"
      ]
     },
     "execution_count": 154,
     "metadata": {},
     "output_type": "execute_result"
    },
    {
     "data": {
      "image/png": "[encoded data removed]",
      "text/plain": [
       "<matplotlib.figure.Figure at 0x2abda29ff2b0>"
      ]
     },
     "metadata": {},
     "output_type": "display_data"
    }
   ],
   "source": [
    "fig, ax = plt.subplots(figsize=(8,8))\n",
    "sns.distplot(acc_test, bins=20, \n",
    "             kde=False, rug=False, ax=ax)\n",
    "ax.set_title('Testing accuracy across genes')#.format(len(acc_test)))\n",
    "plt.savefig('testing_accuracy_human.pdf', dpi=1000)\n",
    "ax.set_xlabel('Accuracy')\n",
    "ax.set_ylabel('Frequency')"
   ]
  },
  {
   "cell_type": "code",
   "execution_count": 155,
   "metadata": {
    "ExecuteTime": {
     "end_time": "2017-11-28T04:23:35.351031Z",
     "start_time": "2017-11-28T04:23:34.773302Z"
    }
   },
   "outputs": [
    {
     "data": {
      "image/png": "[encoded data removed]",
      "text/plain": [
       "<matplotlib.figure.Figure at 0x2abda2a5aa90>"
      ]
     },
     "metadata": {},
     "output_type": "display_data"
    }
   ],
   "source": [
    "fig, ax = plt.subplots(figsize=(8,8))\n",
    "sns.distplot(acc_test, bins=20, \n",
    "             kde=False, rug=False, ax=ax)\n",
    "ax.set_title('Testing accuracy across genes')#.format(len(acc_test)))\n",
    "ax.set_xlabel('Accuracy')\n",
    "ax.set_ylabel('Frequency')\n",
    "plt.savefig('testing_accuracy_human.pdf', dpi=1000)"
   ]
  },
  {
   "cell_type": "code",
   "execution_count": 135,
   "metadata": {
    "ExecuteTime": {
     "end_time": "2017-11-28T02:14:48.163187Z",
     "start_time": "2017-11-28T02:14:48.149408Z"
    }
   },
   "outputs": [
    {
     "data": {
      "text/plain": [
       "0.70490121266224282"
      ]
     },
     "execution_count": 135,
     "metadata": {},
     "output_type": "execute_result"
    }
   ],
   "source": [
    "np.mean(mouse_non_orthologous_genes_accuracy_test+mouse_non_orthologous_genes_accuracy_train)"
   ]
  },
  {
   "cell_type": "code",
   "execution_count": 156,
   "metadata": {
    "ExecuteTime": {
     "end_time": "2017-11-28T04:24:01.195367Z",
     "start_time": "2017-11-28T04:24:00.613516Z"
    }
   },
   "outputs": [
    {
     "data": {
      "image/png": "[encoded data removed]",
      "text/plain": [
       "<matplotlib.figure.Figure at 0x2abda2a01278>"
      ]
     },
     "metadata": {},
     "output_type": "display_data"
    }
   ],
   "source": [
    "import seaborn as sns\n",
    "sns.set_style('whitegrid')\n",
    "sns.set_context('paper', font_scale=2)\n",
    "\n",
    "#sns.distplot(mouse_non_orthologous_genes_accuracy_test+mouse_non_orthologous_genes_accuracy_train, bins=20, \n",
    "#             kde=False, rug=False)\n",
    "#plt.hist(mouse_non_orthologous_genes_accuracy_test+mouse_non_orthologous_genes_accuracy_train)\n",
    "fig, ax = plt.subplots(figsize=(8,8))\n",
    "sns.distplot(mouse_non_orthologous_genes_accuracy_test+mouse_non_orthologous_genes_accuracy_train, bins=20, \n",
    "             kde=False, rug=False, ax=ax)\n",
    "ax.set_title('Testing accuracy across genes')#.format(len(acc_test)))\n",
    "ax.set_xlabel('Accuracy')\n",
    "ax.set_ylabel('Frequency')\n",
    "plt.savefig('testing_accuracy_mouse.pdf', dpi=1000)\n"
   ]
  },
  {
   "cell_type": "code",
   "execution_count": 136,
   "metadata": {
    "ExecuteTime": {
     "end_time": "2017-11-28T02:15:06.971386Z",
     "start_time": "2017-11-28T02:15:06.965852Z"
    }
   },
   "outputs": [
    {
     "data": {
      "text/plain": [
       "0.67583319226277994"
      ]
     },
     "execution_count": 136,
     "metadata": {},
     "output_type": "execute_result"
    }
   ],
   "source": [
    "np.mean(acc_testststst)"
   ]
  },
  {
   "cell_type": "code",
   "execution_count": 164,
   "metadata": {
    "ExecuteTime": {
     "end_time": "2017-11-28T04:34:10.699419Z",
     "start_time": "2017-11-28T04:34:10.690788Z"
    }
   },
   "outputs": [
    {
     "data": {
      "text/plain": [
       "930"
      ]
     },
     "execution_count": 164,
     "metadata": {},
     "output_type": "execute_result"
    }
   ],
   "source": [
    "len(mouse_gene_seq['ENSMUSG00000094200']['CDS'])"
   ]
  },
  {
   "cell_type": "code",
   "execution_count": 158,
   "metadata": {
    "ExecuteTime": {
     "end_time": "2017-11-28T04:32:47.793064Z",
     "start_time": "2017-11-28T04:32:47.418795Z"
    }
   },
   "outputs": [
    {
     "name": "stdout",
     "output_type": "stream",
     "text": [
      "1/1 [==============================] - 0s\n",
      "1/1 [==============================] - 0s\n"
     ]
    }
   ],
   "source": [
    "X_orig, Y_orig = one_hot_encoding(mouse_gene_seq['ENSMUSG00000094200'])\n",
    "\n",
    "ENSMUSG00000094200_acc_test_orig = model.predict_classes(np.array([X_orig]), batch_size=1)\n",
    "ENSMUSG00000094200_acc_orig = model.evaluate(np.array([X_orig]),np.array([Y_orig]), batch_size=1)"
   ]
  },
  {
   "cell_type": "code",
   "execution_count": 162,
   "metadata": {
    "ExecuteTime": {
     "end_time": "2017-11-28T04:33:55.322341Z",
     "start_time": "2017-11-28T04:33:55.313641Z"
    }
   },
   "outputs": [],
   "source": [
    "s= ''\n",
    "for x in ENSMUSG00000094200_acc_test_orig[0][0:45]:\n",
    "    s+=str(x)\n",
    "    "
   ]
  },
  {
   "cell_type": "code",
   "execution_count": 165,
   "metadata": {
    "ExecuteTime": {
     "end_time": "2017-11-28T04:34:29.878201Z",
     "start_time": "2017-11-28T04:34:29.858183Z"
    }
   },
   "outputs": [],
   "source": [
    "s= ''\n",
    "for x in ENSMUSG00000094200_acc_test_orig[0][45:930+45]:\n",
    "    s+=str(x)\n",
    "    "
   ]
  },
  {
   "cell_type": "code",
   "execution_count": 166,
   "metadata": {
    "ExecuteTime": {
     "end_time": "2017-11-28T04:34:32.199919Z",
     "start_time": "2017-11-28T04:34:32.192115Z"
    }
   },
   "outputs": [
    {
     "data": {
      "text/plain": [
       "'111111111111111111111111111111111111111111111111111111111111111111111111111111111111111111111111111111111111111111111111111111111111111111111111111111111111111111111111111111111111111111111111111111111111111111111111111111111111111111111111111111111111111111111111111111111111111111111111111111111111111111111111111111111111111111111111111111111111111111111111111111111111111111111111111111111111111111111111111111111111111111111111111111111111111111111111111111111111111111111111111111111111111111111111111111111111111111111111111111111111111111111111111111111111111111111111111111111111111111111111111111111111111111111111111111111111111111111111111111111111111111111111111111111111111111111111111111111111111111111111111111111111111111111111111111111111111111111111111111111111111111111111111111111111111111111111111111111111111111111111111111111111111111111111111111111111111111111111111111111111111111111111111111111111111111'"
      ]
     },
     "execution_count": 166,
     "metadata": {},
     "output_type": "execute_result"
    }
   ],
   "source": [
    "s"
   ]
  },
  {
   "cell_type": "code",
   "execution_count": 191,
   "metadata": {
    "ExecuteTime": {
     "end_time": "2017-11-28T05:35:42.561863Z",
     "start_time": "2017-11-28T05:35:35.089219Z"
    }
   },
   "outputs": [],
   "source": [
    "celegans_gene_cds = '../data/C_elegans_WBcel235/input/genes_cds.json'\n",
    "celegans_gene_lengths = '../data/C_elegans_WBcel235/input/genes_lengths.json'\n",
    "\n",
    "\n",
    "\n",
    "celegans_genes_dict, celegans_gene_seq = load_data(celegans_gene_cds, celegans_gene_lengths, \n",
    "                                             genes_to_keep=10868)\n",
    "\n",
    "celegans_training_genes, celegans_test_genes = split_train_test_genes(celegans_genes_dict, train_proportion=0.7)\n",
    "\n",
    "celegans_X_train = []\n",
    "celegans_Y_train = []\n",
    "\n",
    "celegans_X_test = []\n",
    "celegans_Y_test = []\n",
    "\n",
    "celegans_training_genes_filtered = []\n",
    "celegans_test_genes_filtered  = []\n",
    "\n",
    "for gene in celegans_training_genes:\n",
    "    if 'N' in ('').join(celegans_gene_seq[gene].values()):\n",
    "        continue\n",
    "    X, Y = one_hot_encoding(celegans_gene_seq[gene])\n",
    "    celegans_X_train.append(X)\n",
    "    celegans_Y_train.append(Y)\n",
    "    celegans_training_genes_filtered.append(gene)\n",
    "\n",
    "\n",
    "for gene in celegans_test_genes:\n",
    "    if 'N' in ('').join(celegans_gene_seq[gene].values()):\n",
    "        continue\n",
    "    X, Y = one_hot_encoding(celegans_gene_seq[gene])\n",
    "    celegans_X_test.append(X)\n",
    "    celegans_Y_test.append(Y)\n",
    "    celegans_test_genes_filtered.append(gene)"
   ]
  },
  {
   "cell_type": "code",
   "execution_count": 193,
   "metadata": {
    "ExecuteTime": {
     "end_time": "2017-11-28T05:44:39.657545Z",
     "start_time": "2017-11-28T05:36:22.552547Z"
    }
   },
   "outputs": [],
   "source": [
    "celegans_acc_test = []\n",
    "for  x_test, y_test in zip(celegans_X_test, celegans_Y_test):\n",
    "    #acc_test = model.predict_classes(np.array([x_test]), batch_size=1)\n",
    "    #break\n",
    "    celegans_acc = model.evaluate(np.array([x_test]),np.array([y_test]), batch_size=1, verbose=0)\n",
    "    celegans_acc_test.append(celegans_acc[1])\n",
    "celegans_acc_test = np.array(celegans_acc_test)"
   ]
  },
  {
   "cell_type": "code",
   "execution_count": 194,
   "metadata": {
    "ExecuteTime": {
     "end_time": "2017-11-28T06:03:40.876113Z",
     "start_time": "2017-11-28T05:44:39.660330Z"
    }
   },
   "outputs": [],
   "source": [
    "celegans_acc_train = []\n",
    "for  x_train, y_train in zip(celegans_X_train, celegans_Y_train):\n",
    "    #acc_train = model.predict_classes(np.array([x_train]), batch_size=1)\n",
    "    #break\n",
    "    celegans_acc = model.evaluate(np.array([x_train]),np.array([y_train]), batch_size=1, verbose=0)\n",
    "    celegans_acc_train.append(celegans_acc[1])\n",
    "celegans_acc_train = np.array(celegans_acc_train)"
   ]
  },
  {
   "cell_type": "code",
   "execution_count": 195,
   "metadata": {
    "ExecuteTime": {
     "end_time": "2017-11-28T06:50:37.123199Z",
     "start_time": "2017-11-28T06:50:37.112422Z"
    }
   },
   "outputs": [
    {
     "data": {
      "text/plain": [
       "772"
      ]
     },
     "execution_count": 195,
     "metadata": {},
     "output_type": "execute_result"
    }
   ],
   "source": [
    "np.argmax(celegans_acc_test)"
   ]
  },
  {
   "cell_type": "code",
   "execution_count": 196,
   "metadata": {
    "ExecuteTime": {
     "end_time": "2017-11-28T06:50:42.418753Z",
     "start_time": "2017-11-28T06:50:42.406426Z"
    }
   },
   "outputs": [
    {
     "data": {
      "text/plain": [
       "0.98795181512832642"
      ]
     },
     "execution_count": 196,
     "metadata": {},
     "output_type": "execute_result"
    }
   ],
   "source": [
    "celegans_acc_test[772]"
   ]
  },
  {
   "cell_type": "code",
   "execution_count": 197,
   "metadata": {
    "ExecuteTime": {
     "end_time": "2017-11-28T06:51:06.439167Z",
     "start_time": "2017-11-28T06:51:06.430527Z"
    }
   },
   "outputs": [
    {
     "data": {
      "text/plain": [
       "'WBGene00014090'"
      ]
     },
     "execution_count": 197,
     "metadata": {},
     "output_type": "execute_result"
    }
   ],
   "source": [
    "celegans_test_genes[772]"
   ]
  },
  {
   "cell_type": "code",
   "execution_count": 198,
   "metadata": {
    "ExecuteTime": {
     "end_time": "2017-11-28T06:51:21.067516Z",
     "start_time": "2017-11-28T06:51:21.057781Z"
    }
   },
   "outputs": [
    {
     "data": {
      "text/plain": [
       "{'CDS': 'ATGTACACTCGTCTCTCTATTCTTGTTGTCGTTTTTCTTGCAATTGGAACTGTCGACTCAAAGCACAAACATCATCAGAAAGGAAATGAGCCAGATTTCGTGAAAAATCTCACAAATTCTCAGAGAAGCTCGTTCTTTGGAATCGTCAAGAATCCAGGAATTTCATTTCAACAGAAGGACGATAAACTTGTGAAATGGGCAGAGGATAATAACCTTTCGGAGCAATACGCCGAGTTCTCAAAGAACATGACCATTCACAAGGAAGAAGTGAGCAAGAATATCAGTGGAGTCATCGATCGTCTTGCGGCTGCCAAAGTTGAAGTTGACAAGGTCAATGCTGATTTGAGTTTGACGAAGATTCAGAGAGACGAGAAAATCGATGAGCTCAAGAAGACCTACCCACAAGAAATCCCGACTCTCTTCTATATCGGTGGTCTTTTCGAGCATCCACGTAGAAATGAGACAAAAGGATCGGAAGGAAAGGGTGGAAGAAGAAAGCATCAA',\n",
       " 'UTR3': 'TTCTAACATGTGCAAATAAATATTTGCTTTGCCTTTAACAAAAATTAATCGTATTA',\n",
       " 'UTR5': 'AGACTTTTTTTTTGTCTTAAA'}"
      ]
     },
     "execution_count": 198,
     "metadata": {},
     "output_type": "execute_result"
    }
   ],
   "source": [
    "celegans_gene_seq['WBGene00014090']"
   ]
  },
  {
   "cell_type": "code",
   "execution_count": 199,
   "metadata": {
    "ExecuteTime": {
     "end_time": "2017-11-28T06:51:45.096245Z",
     "start_time": "2017-11-28T06:51:44.767089Z"
    }
   },
   "outputs": [
    {
     "data": {
      "text/plain": [
       "(array([   80.,   161.,   297.,   448.,   559.,   714.,   906.,  1035.,\n",
       "         1705.,  1702.]),\n",
       " array([ 0.02415459,  0.12083222,  0.21750985,  0.31418749,  0.41086512,\n",
       "         0.50754275,  0.60422038,  0.70089802,  0.79757565,  0.89425328,\n",
       "         0.99093091]),\n",
       " <a list of 10 Patch objects>)"
      ]
     },
     "execution_count": 199,
     "metadata": {},
     "output_type": "execute_result"
    },
    {
     "data": {
      "image/png": "[encoded data removed]",
      "text/plain": [
       "<matplotlib.figure.Figure at 0x2abda24c56d8>"
      ]
     },
     "metadata": {},
     "output_type": "display_data"
    }
   ],
   "source": [
    "plt.hist(celegans_acc_train)"
   ]
  },
  {
   "cell_type": "code",
   "execution_count": 200,
   "metadata": {
    "ExecuteTime": {
     "end_time": "2017-11-28T06:52:01.622540Z",
     "start_time": "2017-11-28T06:52:01.391831Z"
    }
   },
   "outputs": [
    {
     "data": {
      "text/plain": [
       "(array([  32.,   77.,  131.,  194.,  259.,  286.,  364.,  477.,  700.,  749.]),\n",
       " array([ 0.02293814,  0.11943951,  0.21594088,  0.31244224,  0.40894361,\n",
       "         0.50544498,  0.60194635,  0.69844771,  0.79494908,  0.89145045,\n",
       "         0.98795182]),\n",
       " <a list of 10 Patch objects>)"
      ]
     },
     "execution_count": 200,
     "metadata": {},
     "output_type": "execute_result"
    },
    {
     "data": {
      "image/png": "[encoded data removed]",
      "text/plain": [
       "<matplotlib.figure.Figure at 0x2abda2d8bcc0>"
      ]
     },
     "metadata": {},
     "output_type": "display_data"
    }
   ],
   "source": [
    "plt.hist(celegans_acc_test)"
   ]
  },
  {
   "cell_type": "code",
   "execution_count": 201,
   "metadata": {
    "ExecuteTime": {
     "end_time": "2017-11-28T06:54:59.016477Z",
     "start_time": "2017-11-28T06:54:59.006426Z"
    }
   },
   "outputs": [
    {
     "data": {
      "text/plain": [
       "0.69979436619793578"
      ]
     },
     "execution_count": 201,
     "metadata": {},
     "output_type": "execute_result"
    }
   ],
   "source": [
    "np.mean(celegans_acc_test)"
   ]
  },
  {
   "cell_type": "code",
   "execution_count": 202,
   "metadata": {
    "ExecuteTime": {
     "end_time": "2017-11-28T06:55:12.269531Z",
     "start_time": "2017-11-28T06:55:12.260604Z"
    }
   },
   "outputs": [
    {
     "data": {
      "text/plain": [
       "0.70225983881663989"
      ]
     },
     "execution_count": 202,
     "metadata": {},
     "output_type": "execute_result"
    }
   ],
   "source": [
    "np.mean(celegans_acc_train)"
   ]
  },
  {
   "cell_type": "code",
   "execution_count": 219,
   "metadata": {
    "ExecuteTime": {
     "end_time": "2017-11-28T07:10:09.884507Z",
     "start_time": "2017-11-28T07:10:09.383606Z"
    }
   },
   "outputs": [
    {
     "data": {
      "image/png": "[encoded data removed]",
      "text/plain": [
       "<matplotlib.figure.Figure at 0x2abda3acbdd8>"
      ]
     },
     "metadata": {},
     "output_type": "display_data"
    }
   ],
   "source": [
    "fix, ax = plt.subplots(figsize=(8,8))\n",
    "ax.bar(['Human', 'Mouse','C. elegans'], [human_mean_acc_train,mouse_mean_acc,celegans_mean_acc], width=0.3)\n",
    "ax.set_ylabel('Mean Accuracy')\n",
    "ax.set_xlabel('Species')\n",
    "plt.savefig('accuracy_species.pdf', dpi=1000)"
   ]
  },
  {
   "cell_type": "code",
   "execution_count": 204,
   "metadata": {
    "ExecuteTime": {
     "end_time": "2017-11-28T06:58:26.490510Z",
     "start_time": "2017-11-28T06:58:26.485100Z"
    }
   },
   "outputs": [],
   "source": [
    "mouse_mean_acc = np.mean(np.concatenate((mouse_acc_test, mouse_acc_train)))"
   ]
  },
  {
   "cell_type": "code",
   "execution_count": 205,
   "metadata": {
    "ExecuteTime": {
     "end_time": "2017-11-28T06:58:55.333214Z",
     "start_time": "2017-11-28T06:58:55.326739Z"
    }
   },
   "outputs": [],
   "source": [
    "celegans_mean_acc = np.mean(np.concatenate((celegans_acc_test, celegans_acc_train)))"
   ]
  },
  {
   "cell_type": "code",
   "execution_count": 206,
   "metadata": {
    "ExecuteTime": {
     "end_time": "2017-11-28T06:59:22.669401Z",
     "start_time": "2017-11-28T06:59:22.663408Z"
    }
   },
   "outputs": [],
   "source": [
    "human_mean_acc_train = np.mean(acc_train)"
   ]
  },
  {
   "cell_type": "code",
   "execution_count": 207,
   "metadata": {
    "ExecuteTime": {
     "end_time": "2017-11-28T06:59:30.888567Z",
     "start_time": "2017-11-28T06:59:30.882898Z"
    }
   },
   "outputs": [],
   "source": [
    "human_mean_acc_test = np.mean(acc_test)"
   ]
  },
  {
   "cell_type": "code",
   "execution_count": 208,
   "metadata": {
    "ExecuteTime": {
     "end_time": "2017-11-28T06:59:35.269058Z",
     "start_time": "2017-11-28T06:59:35.260331Z"
    }
   },
   "outputs": [
    {
     "data": {
      "text/plain": [
       "1.4068501920614596"
      ]
     },
     "execution_count": 208,
     "metadata": {},
     "output_type": "execute_result"
    }
   ],
   "source": [
    "human_mean_acc_test"
   ]
  },
  {
   "cell_type": "code",
   "execution_count": 209,
   "metadata": {
    "ExecuteTime": {
     "end_time": "2017-11-28T06:59:45.780832Z",
     "start_time": "2017-11-28T06:59:45.771443Z"
    }
   },
   "outputs": [
    {
     "data": {
      "text/plain": [
       "array([[0, 0, 0, ..., 2, 2, 2]])"
      ]
     },
     "execution_count": 209,
     "metadata": {},
     "output_type": "execute_result"
    }
   ],
   "source": [
    "acc_test"
   ]
  },
  {
   "cell_type": "code",
   "execution_count": 211,
   "metadata": {
    "ExecuteTime": {
     "end_time": "2017-11-28T07:00:02.820559Z",
     "start_time": "2017-11-28T07:00:02.811716Z"
    }
   },
   "outputs": [
    {
     "data": {
      "text/plain": [
       "0.67596090823168098"
      ]
     },
     "execution_count": 211,
     "metadata": {},
     "output_type": "execute_result"
    }
   ],
   "source": [
    "human_mean_acc_train"
   ]
  },
  {
   "cell_type": "code",
   "execution_count": 214,
   "metadata": {
    "ExecuteTime": {
     "end_time": "2017-11-28T07:01:44.051430Z",
     "start_time": "2017-11-28T07:01:43.363469Z"
    }
   },
   "outputs": [
    {
     "data": {
      "image/png": "[encoded data removed]",
      "text/plain": [
       "<matplotlib.figure.Figure at 0x2abda39794a8>"
      ]
     },
     "metadata": {},
     "output_type": "display_data"
    }
   ],
   "source": [
    "fig, ax = plt.subplots(figsize=(8,8))\n",
    "sns.distplot(np.concatenate((celegans_acc_test, celegans_acc_train)), bins=20, \n",
    "             kde=False, rug=False, ax=ax)\n",
    "ax.set_title('Testing accuracy across genes')#.format(len(acc_test)))\n",
    "ax.set_xlabel('Accuracy')\n",
    "ax.set_ylabel('Frequency')\n",
    "plt.savefig('testing_accuracy_c_elegans.pdf', dpi=1000)"
   ]
  },
  {
   "cell_type": "code",
   "execution_count": 220,
   "metadata": {
    "ExecuteTime": {
     "end_time": "2017-11-28T08:09:08.790114Z",
     "start_time": "2017-11-28T08:09:08.777699Z"
    }
   },
   "outputs": [
    {
     "data": {
      "text/plain": [
       "0.7113593608427663"
      ]
     },
     "execution_count": 220,
     "metadata": {},
     "output_type": "execute_result"
    }
   ],
   "source": [
    "mouse_mean_acc"
   ]
  },
  {
   "cell_type": "code",
   "execution_count": 221,
   "metadata": {
    "ExecuteTime": {
     "end_time": "2017-11-28T08:09:21.191991Z",
     "start_time": "2017-11-28T08:09:21.183232Z"
    }
   },
   "outputs": [
    {
     "data": {
      "text/plain": [
       "0.70151879155748731"
      ]
     },
     "execution_count": 221,
     "metadata": {},
     "output_type": "execute_result"
    }
   ],
   "source": [
    "celegans_mean_acc"
   ]
  },
  {
   "cell_type": "code",
   "execution_count": null,
   "metadata": {},
   "outputs": [],
   "source": []
  }
 ],
 "metadata": {
  "kernelspec": {
   "display_name": "Python [conda env:py35_rnn]",
   "language": "python",
   "name": "conda-env-py35_rnn-py"
  },
  "language_info": {
   "codemirror_mode": {
    "name": "ipython",
    "version": 3
   },
   "file_extension": ".py",
   "mimetype": "text/x-python",
   "name": "python",
   "nbconvert_exporter": "python",
   "pygments_lexer": "ipython3",
   "version": "3.5.4"
  },
  "toc": {
   "nav_menu": {},
   "number_sections": true,
   "sideBar": true,
   "skip_h1_title": false,
   "toc_cell": false,
   "toc_position": {},
   "toc_section_display": "block",
   "toc_window_display": false
  }
 },
 "nbformat": 4,
 "nbformat_minor": 2
}
