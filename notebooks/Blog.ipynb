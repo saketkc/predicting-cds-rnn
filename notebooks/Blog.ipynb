{
 "cells": [
  {
   "cell_type": "markdown",
   "metadata": {
    "cell_style": "center",
    "hide_input": false
   },
   "source": [
    "# Introduction\n",
    "\n",
    "The central dogma of biology describes the flow sequential information from nucleic acid to nucleic acid and nucleic acid to protein. A protein coding gene can be partitioned into three regions: 5' UTR, CDS and 3' UTR\n",
    "(UTR = Untranslated region; CDS = coding domain sequence). While the CDS is responsible for synthesis of protein the UTR regions act as regulators and stabilizers. The exact boundaries of CDS and UTR are more or less well characterized for humans and mouse but is not available for non-model organism such as \\textit{C. albicans}. Determining these exact boundaries involves carrying out experiments. We want to use the existing annotation to come up with a predictive model that can be used to annotate regions in non-model organisms and hence de-emphasize the need to carry out experiments. \n",
    "\n",
    "The essential problem we are trying to tackle here is a toned down version of gene prediction problem. Chris Burge and Samuel Karlin in their 1997 paper presented GENSCAN \\cite{@}\n",
    "\n"
   ]
  },
  {
   "cell_type": "markdown",
   "metadata": {},
   "source": [
    "## Gene prediction problem"
   ]
  },
  {
   "cell_type": "code",
   "execution_count": null,
   "metadata": {},
   "outputs": [],
   "source": []
  }
 ],
 "metadata": {
  "kernelspec": {
   "display_name": "Python [conda env:py35_rnn]",
   "language": "python",
   "name": "conda-env-py35_rnn-py"
  },
  "language_info": {
   "codemirror_mode": {
    "name": "ipython",
    "version": 3
   },
   "file_extension": ".py",
   "mimetype": "text/x-python",
   "name": "python",
   "nbconvert_exporter": "python",
   "pygments_lexer": "ipython3",
   "version": "3.5.4"
  },
  "latex_envs": {
   "LaTeX_envs_menu_present": true,
   "autocomplete": true,
   "bibliofile": "Zotero.bib",
   "cite_by": "apalike",
   "current_citInitial": 1,
   "eqLabelWithNumbers": true,
   "eqNumInitial": 1,
   "hotkeys": {
    "equation": "Ctrl-E",
    "itemize": "Ctrl-I"
   },
   "labels_anchors": false,
   "latex_user_defs": false,
   "report_style_numbering": false,
   "user_envs_cfg": false
  },
  "toc": {
   "nav_menu": {},
   "number_sections": true,
   "sideBar": true,
   "skip_h1_title": false,
   "toc_cell": false,
   "toc_position": {},
   "toc_section_display": "block",
   "toc_window_display": false
  }
 },
 "nbformat": 4,
 "nbformat_minor": 2
}
