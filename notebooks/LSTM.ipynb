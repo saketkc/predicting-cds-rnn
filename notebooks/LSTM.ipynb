{
 "cells": [
  {
   "cell_type": "code",
   "execution_count": 12,
   "metadata": {
    "ExecuteTime": {
     "end_time": "2017-11-04T02:03:09.314237Z",
     "start_time": "2017-11-04T02:03:09.279708Z"
    }
   },
   "outputs": [],
   "source": [
    "import importlib\n",
    "from keras import backend as K\n",
    "from keras.models import Sequential\n",
    "from keras.layers import Dense, Activation\n",
    "import os\n",
    "\n",
    "import numpy as np\n",
    "def set_keras_backend(backend):\n",
    "    if K.backend() != backend:\n",
    "        os.environ['KERAS_BACKEND'] = backend\n",
    "        importlib.reload(K)\n",
    "        assert K.backend() == backend\n",
    "\n",
    "\n",
    "#set_keras_backend('tensorflow')\n",
    "\n"
   ]
  },
  {
   "cell_type": "code",
   "execution_count": 2,
   "metadata": {
    "ExecuteTime": {
     "end_time": "2017-11-03T11:12:10.812759Z",
     "start_time": "2017-11-03T11:11:55.579919Z"
    }
   },
   "outputs": [],
   "source": [
    "model = Sequential()\n",
    "model.add(Dense(units=64, input_dim=100))\n",
    "model.add(Activation('relu'))\n",
    "model.add(Dense(units=10))\n",
    "model.add(Activation('softmax'))"
   ]
  },
  {
   "cell_type": "code",
   "execution_count": 3,
   "metadata": {
    "ExecuteTime": {
     "end_time": "2017-11-03T11:12:10.830454Z",
     "start_time": "2017-11-03T11:12:10.818464Z"
    }
   },
   "outputs": [],
   "source": [
    "inputs = K.placeholder(shape=(2, 4, 5))\n",
    "# also works:\n",
    "inputs = K.placeholder(shape=(None, 4, 5))\n",
    "# also works:\n",
    "inputs = K.placeholder(ndim=3)"
   ]
  },
  {
   "cell_type": "code",
   "execution_count": 4,
   "metadata": {
    "ExecuteTime": {
     "end_time": "2017-11-03T11:12:10.888432Z",
     "start_time": "2017-11-03T11:12:10.834175Z"
    }
   },
   "outputs": [],
   "source": [
    "import numpy as np\n",
    "val = np.random.random((3, 4, 5))\n",
    "var = K.variable(value=val)\n",
    "\n",
    "# all-zeros variable:\n",
    "var = K.zeros(shape=(3, 4, 5))\n",
    "# all-ones:\n",
    "var = K.ones(shape=(3, 4, 5))"
   ]
  },
  {
   "cell_type": "code",
   "execution_count": 6,
   "metadata": {
    "ExecuteTime": {
     "end_time": "2017-11-04T01:31:42.329238Z",
     "start_time": "2017-11-04T00:42:01.314456Z"
    }
   },
   "outputs": [
    {
     "name": "stdout",
     "output_type": "stream",
     "text": [
      "Loading data...\n",
      "25000 train sequences\n",
      "25000 test sequences\n",
      "Pad sequences (samples x time)\n",
      "x_train shape: (25000, 80)\n",
      "x_test shape: (25000, 80)\n",
      "Build model...\n",
      "Train...\n",
      "Train on 25000 samples, validate on 25000 samples\n",
      "Epoch 1/15\n",
      "25000/25000 [==============================] - 198s - loss: 0.4554 - acc: 0.7860 - val_loss: 0.3790 - val_acc: 0.8371\n",
      "Epoch 2/15\n",
      "25000/25000 [==============================] - 195s - loss: 0.2926 - acc: 0.8816 - val_loss: 0.4315 - val_acc: 0.8347\n",
      "Epoch 3/15\n",
      "25000/25000 [==============================] - 197s - loss: 0.2102 - acc: 0.9184 - val_loss: 0.4172 - val_acc: 0.8310\n",
      "Epoch 4/15\n",
      "25000/25000 [==============================] - 196s - loss: 0.1499 - acc: 0.9436 - val_loss: 0.4851 - val_acc: 0.8251\n",
      "Epoch 5/15\n",
      "25000/25000 [==============================] - 196s - loss: 0.1037 - acc: 0.9628 - val_loss: 0.5894 - val_acc: 0.8161\n",
      "Epoch 6/15\n",
      "25000/25000 [==============================] - 185s - loss: 0.0735 - acc: 0.9740 - val_loss: 0.6548 - val_acc: 0.8247\n",
      "Epoch 7/15\n",
      "25000/25000 [==============================] - 195s - loss: 0.0518 - acc: 0.9830 - val_loss: 0.6687 - val_acc: 0.8207\n",
      "Epoch 8/15\n",
      "25000/25000 [==============================] - 196s - loss: 0.0413 - acc: 0.9874 - val_loss: 0.7768 - val_acc: 0.8164\n",
      "Epoch 9/15\n",
      "25000/25000 [==============================] - 195s - loss: 0.0296 - acc: 0.9903 - val_loss: 0.8345 - val_acc: 0.8198\n",
      "Epoch 10/15\n",
      "25000/25000 [==============================] - 196s - loss: 0.0226 - acc: 0.9931 - val_loss: 0.8718 - val_acc: 0.8115\n",
      "Epoch 11/15\n",
      "25000/25000 [==============================] - 194s - loss: 0.0249 - acc: 0.9920 - val_loss: 0.8560 - val_acc: 0.8122\n",
      "Epoch 12/15\n",
      "25000/25000 [==============================] - 195s - loss: 0.0171 - acc: 0.9946 - val_loss: 0.9286 - val_acc: 0.8126\n",
      "Epoch 13/15\n",
      "25000/25000 [==============================] - 198s - loss: 0.0163 - acc: 0.9950 - val_loss: 1.0023 - val_acc: 0.8154\n",
      "Epoch 14/15\n",
      "25000/25000 [==============================] - 195s - loss: 0.0086 - acc: 0.9970 - val_loss: 1.1452 - val_acc: 0.8136\n",
      "Epoch 15/15\n",
      "25000/25000 [==============================] - 196s - loss: 0.0105 - acc: 0.9968 - val_loss: 1.0304 - val_acc: 0.8082\n",
      "24992/25000 [============================>.] - ETA: 0sTest score: 1.03041794543\n",
      "Test accuracy: 0.80816\n"
     ]
    }
   ],
   "source": [
    "from __future__ import print_function\n",
    "\n",
    "from keras.preprocessing import sequence\n",
    "from keras.models import Sequential\n",
    "from keras.layers import Dense, Embedding\n",
    "from keras.layers import LSTM\n",
    "from keras.datasets import imdb\n",
    "\n",
    "max_features = 20000\n",
    "maxlen = 80  # cut texts after this number of words (among top max_features most common words)\n",
    "batch_size = 32\n",
    "\n",
    "print('Loading data...')\n",
    "(x_train, y_train), (x_test, y_test) = imdb.load_data(num_words=max_features)\n",
    "print(len(x_train), 'train sequences')\n",
    "print(len(x_test), 'test sequences')\n",
    "\n",
    "print('Pad sequences (samples x time)')\n",
    "x_train = sequence.pad_sequences(x_train, maxlen=maxlen)\n",
    "x_test = sequence.pad_sequences(x_test, maxlen=maxlen)\n",
    "print('x_train shape:', x_train.shape)\n",
    "print('x_test shape:', x_test.shape)\n",
    "\n",
    "print('Build model...')\n",
    "model = Sequential()\n",
    "model.add(Embedding(max_features, 128))\n",
    "model.add(LSTM(128, dropout=0.2, recurrent_dropout=0.2))\n",
    "model.add(Dense(1, activation='sigmoid'))\n",
    "\n",
    "# try using different optimizers and different optimizer configs\n",
    "model.compile(loss='binary_crossentropy',\n",
    "              optimizer='adam',\n",
    "              metrics=['accuracy'])\n",
    "\n",
    "print('Train...')\n",
    "model.fit(x_train, y_train,\n",
    "          batch_size=batch_size,\n",
    "          epochs=15,\n",
    "          validation_data=(x_test, y_test))\n",
    "score, acc = model.evaluate(x_test, y_test,\n",
    "                            batch_size=batch_size)\n",
    "print('Test score:', score)\n",
    "print('Test accuracy:', acc)"
   ]
  },
  {
   "cell_type": "code",
   "execution_count": 7,
   "metadata": {
    "ExecuteTime": {
     "end_time": "2017-11-04T02:02:06.890073Z",
     "start_time": "2017-11-04T02:02:06.854109Z"
    }
   },
   "outputs": [
    {
     "data": {
      "text/plain": [
       "(25000, 80)"
      ]
     },
     "execution_count": 7,
     "metadata": {},
     "output_type": "execute_result"
    }
   ],
   "source": [
    "x_train.shape"
   ]
  },
  {
   "cell_type": "code",
   "execution_count": 8,
   "metadata": {
    "ExecuteTime": {
     "end_time": "2017-11-04T02:02:14.213995Z",
     "start_time": "2017-11-04T02:02:14.207794Z"
    }
   },
   "outputs": [
    {
     "data": {
      "text/plain": [
       "(25000,)"
      ]
     },
     "execution_count": 8,
     "metadata": {},
     "output_type": "execute_result"
    }
   ],
   "source": [
    "y_train.shape"
   ]
  },
  {
   "cell_type": "code",
   "execution_count": 13,
   "metadata": {
    "ExecuteTime": {
     "end_time": "2017-11-04T02:03:14.056437Z",
     "start_time": "2017-11-04T02:03:14.046137Z"
    }
   },
   "outputs": [
    {
     "data": {
      "text/plain": [
       "array([0, 1])"
      ]
     },
     "execution_count": 13,
     "metadata": {},
     "output_type": "execute_result"
    }
   ],
   "source": [
    "np.unique(y_train)"
   ]
  },
  {
   "cell_type": "code",
   "execution_count": null,
   "metadata": {},
   "outputs": [],
   "source": []
  }
 ],
 "metadata": {
  "kernelspec": {
   "display_name": "Python [default]",
   "language": "python",
   "name": "python3"
  },
  "language_info": {
   "codemirror_mode": {
    "name": "ipython",
    "version": 3
   },
   "file_extension": ".py",
   "mimetype": "text/x-python",
   "name": "python",
   "nbconvert_exporter": "python",
   "pygments_lexer": "ipython3",
   "version": "3.5.4"
  },
  "toc": {
   "nav_menu": {},
   "number_sections": true,
   "sideBar": true,
   "skip_h1_title": false,
   "toc_cell": false,
   "toc_position": {},
   "toc_section_display": "block",
   "toc_window_display": false
  }
 },
 "nbformat": 4,
 "nbformat_minor": 2
}
