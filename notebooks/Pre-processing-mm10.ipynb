{
 "cells": [
  {
   "cell_type": "code",
   "execution_count": 1,
   "metadata": {
    "ExecuteTime": {
     "end_time": "2017-11-03T07:27:53.289759Z",
     "start_time": "2017-11-03T07:27:52.047278Z"
    }
   },
   "outputs": [
    {
     "name": "stdout",
     "output_type": "stream",
     "text": [
      "Populating the interactive namespace from numpy and matplotlib\n"
     ]
    }
   ],
   "source": [
    "%pylab inline\n",
    "import pybedtools\n",
    "import pandas as pd\n",
    "from pyfaidx import Fasta\n",
    "import json\n",
    "\n",
    "cds = pybedtools.BedTool('../data/mm10/annotation/gencode.vM11.gffutils.cds.bed').to_dataframe()#.set_index('name')\n",
    "gene = pybedtools.BedTool('../data/mm10/annotation/gencode.vM11.gffutils.genes.bed').to_dataframe()#.set_index('name')\n",
    "utr5 = pybedtools.BedTool('../data/mm10/annotation/gencode.vM11.gffutils.UTR5.bed').to_dataframe()#.set_index('name')\n",
    "utr3 = pybedtools.BedTool('../data/mm10/annotation/gencode.vM11.gffutils.UTR3.bed').to_dataframe()#.set_index('name')\n",
    "fasta = Fasta('../data/mm10/fasta/mm10.fa')\n",
    "\n",
    "def get_fasta_sequence(fasta, intervals):\n",
    "    if isinstance(fasta, str):\n",
    "        fasta = Fasta(fasta)\n",
    "    sequence = []\n",
    "    for interval in intervals:\n",
    "        chrom, start, stop, strand = interval\n",
    "        if strand == '+':\n",
    "            seq = fasta[chrom][int(start):int(stop)].seq\n",
    "        elif strand == '-':\n",
    "            seq = fasta[chrom][int(start):int(stop)].complement.seq\n",
    "        sequence.append(seq)\n",
    "    if strand == '-':\n",
    "        sequence.reverse()# = sequence[::-1]\n",
    "    return ('').join(sequence).upper()"
   ]
  },
  {
   "cell_type": "code",
   "execution_count": 2,
   "metadata": {
    "ExecuteTime": {
     "end_time": "2017-11-03T07:27:53.300067Z",
     "start_time": "2017-11-03T07:27:53.292005Z"
    }
   },
   "outputs": [],
   "source": [
    "cds['region_type'] = 'CDS'\n",
    "gene['region_type'] = 'gene'\n",
    "utr5['region_type'] = 'UTR5'\n",
    "utr3['region_type'] = 'UTR3'\n",
    "\n"
   ]
  },
  {
   "cell_type": "code",
   "execution_count": 3,
   "metadata": {
    "ExecuteTime": {
     "end_time": "2017-11-03T07:27:53.369287Z",
     "start_time": "2017-11-03T07:27:53.301574Z"
    }
   },
   "outputs": [],
   "source": [
    "master_df = pd.concat([utr5, cds, utr3])"
   ]
  },
  {
   "cell_type": "code",
   "execution_count": null,
   "metadata": {
    "ExecuteTime": {
     "start_time": "2017-11-03T07:27:52.002Z"
    }
   },
   "outputs": [],
   "source": [
    "groups = master_df.groupby('name')"
   ]
  },
  {
   "cell_type": "code",
   "execution_count": null,
   "metadata": {
    "ExecuteTime": {
     "start_time": "2017-11-03T07:27:52.006Z"
    }
   },
   "outputs": [],
   "source": [
    "MASTER_CATEGORIES = ['CDS', 'UTR3', 'UTR5']\n",
    "def collapse_region(records):\n",
    "    record = records[0]\n",
    "    chrom = record['chrom']\n",
    "    strand = record['strand']\n",
    "    region = pd.Series(range(record['start'], record['end']))\n",
    "    for record in records:\n",
    "        region = region.combine_first(pd.Series(range(record['start'], record['end'])))\n",
    "    return region\n",
    "\n",
    "def get_region_index(gene_group):\n",
    "    \n",
    "    assert len(gene_group['strand'].unique()) == 1\n",
    "    assert len(gene_group['chrom'].unique()) == 1\n",
    "    chrom = gene_group['chrom'].unique()[0]\n",
    "    strand = gene_group['strand'].unique()[0]\n",
    "\n",
    "    # Collect all intervals at once\n",
    "    intervals = zip(gene_group['chrom'], gene_group['start'],\n",
    "                    gene_group['end'], gene_group['strand'])\n",
    "    # Need to convert to list instead frm tuples\n",
    "    # TODO fix this?\n",
    "\n",
    "    \"\"\"\n",
    "    intervals = map(list, intervals)\n",
    "    if strand == '+':\n",
    "        # For positive strand shift\n",
    "        # start codon position intervals[0][1] by -offset\n",
    "        if intervals[0][1] - master_offset >= 0:\n",
    "            intervals[0][1] = intervals[0][1] - master_offset\n",
    "            gene_offset = master_offset\n",
    "        else:\n",
    "            sys.stderr.write(\n",
    "                'Cannot offset beyond 0 for interval: {}. \\\n",
    "                Set to start of chromsome.\\n'.format(intervals[0]))\n",
    "            # Reset offset to minimum possible\n",
    "            gene_offset = intervals[0][1]\n",
    "            intervals[0][1] = 0\n",
    "    else:\n",
    "        # Else shift cooridnate of last element in intervals stop by + offset\n",
    "        if (intervals[-1][2] + master_offset <= chrom_length):\n",
    "            intervals[-1][2] = intervals[-1][2] + master_offset\n",
    "            gene_offset = master_offset\n",
    "        else:\n",
    "            sys.stderr.write('Cannot offset beyond 0 for interval: {}. \\\n",
    "                             Set to end of chromsome.\\n'.format(intervals[-1]))\n",
    "            gene_offset = chrom_length - intervals[-1][2]\n",
    "            # 1-end so chrom_length\n",
    "            intervals[-1][2] = chrom_length\n",
    "    intervals = map(tuple, intervals)\n",
    "\n",
    "    \"\"\"\n",
    "\n",
    "    interval_coverage_list = []\n",
    "    for index, interval in enumerate(intervals):\n",
    "        strand = interval[3]\n",
    "        if strand == '+':\n",
    "            series_range = range(interval[1], interval[2])\n",
    "        elif strand == '-':\n",
    "            series_range = range(interval[2], interval[1], -1)\n",
    "\n",
    "        series = pd.Series(series_range, index=series_range)\n",
    "        interval_coverage_list.append(series)\n",
    "\n",
    "\n",
    "    if len(interval_coverage_list) == 0:\n",
    "        # Some genes might not be present in the bigwig at all\n",
    "        sys.stderr.write('Got empty list! intervals  for chr : {}\\n'.format(intervals[0][0]))\n",
    "        return ([], None)\n",
    "\n",
    "    interval_combined = interval_coverage_list[0]\n",
    "    for interval_coverage in interval_coverage_list[1:]:\n",
    "        interval_combined = interval_combined.combine_first(interval_coverage)\n",
    "    intervals_for_fasta_query = []\n",
    "    for pos in interval_combined.index:\n",
    "        if strand == '+':\n",
    "            intervals_for_fasta_query.append((chrom, pos, pos+1, strand))\n",
    "        elif strand == '-':\n",
    "            intervals_for_fasta_query.append((chrom, pos-1, pos, strand))\n",
    "    return intervals_for_fasta_query\n",
    "\n",
    "\n",
    "genewise_regions = {}\n",
    "genewise_lengths = {}\n",
    "genes_missing_annotation = []\n",
    "for key, group in groups:\n",
    "    categories = group.region_type.unique()\n",
    "    if sorted(categories) !=MASTER_CATEGORIES :\n",
    "        missing_region = (';').join(list( set(MASTER_CATEGORIES).difference( set(categories) ) ))\n",
    "        genes_missing_annotation.append((key, missing_region))\n",
    "        continue\n",
    "    utr5_rows = group[group.region_type=='UTR5']\n",
    "    cds_rows = group[group.region_type=='CDS']\n",
    "    utr3_rows = group[group.region_type=='UTR3']\n",
    "    \n",
    "    #utr5_regions = collapse_region(list(utr5_rows.T.to_dict().values()))\n",
    "    #cds_regions = collapse_region(list(cds_rows.T.to_dict().values()))\n",
    "    #utr3_regions = collapse_region(list(utr3_rows.T.to_dict().values()))\n",
    "    utr5_intervals = get_region_index(utr5_rows)\n",
    "    cds_intervals = get_region_index(cds_rows)\n",
    "    utr3_intervals = get_region_index(utr3_rows)\n",
    "    \n",
    "    utr5_fasta =  get_fasta_sequence(fasta,utr5_intervals)\n",
    "    cds_fasta =  get_fasta_sequence(fasta,cds_intervals)\n",
    "    utr3_fasta =  get_fasta_sequence(fasta,utr3_intervals)\n",
    "    \n",
    "    genewise_regions[key] = {'UTR5': utr5_fasta,\n",
    "                             'CDS': cds_fasta,\n",
    "                             'UTR3' : utr3_fasta}\n",
    "    genewise_lengths[key] = {'UTR5': len(utr5_fasta),\n",
    "                             'CDS': len(cds_fasta),\n",
    "                             'UTR3' : len(utr3_fasta)}\n",
    "                            \n"
   ]
  },
  {
   "cell_type": "code",
   "execution_count": null,
   "metadata": {
    "ExecuteTime": {
     "start_time": "2017-11-03T07:27:52.009Z"
    }
   },
   "outputs": [],
   "source": [
    "with open('../data/mm10/input/genes_cds.json', 'w') as outfile:\n",
    "    json.dump(genewise_regions, outfile)"
   ]
  },
  {
   "cell_type": "code",
   "execution_count": null,
   "metadata": {
    "ExecuteTime": {
     "start_time": "2017-11-03T07:27:52.012Z"
    }
   },
   "outputs": [],
   "source": [
    "with open('../data/mm10/input/genes_lengths.json', 'w') as outfile:\n",
    "    json.dump(genewise_lengths, outfile)"
   ]
  }
 ],
 "metadata": {
  "kernelspec": {
   "display_name": "Python 3",
   "language": "python",
   "name": "python3"
  },
  "language_info": {
   "codemirror_mode": {
    "name": "ipython",
    "version": 3
   },
   "file_extension": ".py",
   "mimetype": "text/x-python",
   "name": "python",
   "nbconvert_exporter": "python",
   "pygments_lexer": "ipython3",
   "version": "3.5.4"
  },
  "toc": {
   "nav_menu": {},
   "number_sections": true,
   "sideBar": true,
   "skip_h1_title": false,
   "toc_cell": false,
   "toc_position": {},
   "toc_section_display": "block",
   "toc_window_display": false
  }
 },
 "nbformat": 4,
 "nbformat_minor": 2
}
